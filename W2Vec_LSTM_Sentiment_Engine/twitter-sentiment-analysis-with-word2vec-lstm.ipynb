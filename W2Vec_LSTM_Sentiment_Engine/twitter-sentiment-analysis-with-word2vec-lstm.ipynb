{
 "cells": [
  {
   "cell_type": "markdown",
   "metadata": {
    "_uuid": "92b885dd147dac19bd0a33db3cd0da100bd5bc23"
   },
   "source": [
    "# Twitter Sentiment Analysis"
   ]
  },
  {
   "cell_type": "markdown",
   "metadata": {
    "_uuid": "70282bce8b42a51e4d44f2c7d85c4ca9567b0fd4"
   },
   "source": [
    "This notebook is forked from https://www.kaggle.com/paoloripamonti/twitter-sentiment-analysis "
   ]
  },
  {
   "cell_type": "code",
   "execution_count": 1,
   "metadata": {
    "_uuid": "303e72966af732ddef0bd8108a321095314e44af"
   },
   "outputs": [
    {
     "name": "stderr",
     "output_type": "stream",
     "text": [
      "Using TensorFlow backend.\n"
     ]
    }
   ],
   "source": [
    "# DataFrame\n",
    "import pandas as pd\n",
    "\n",
    "# Matplot\n",
    "import matplotlib.pyplot as plt\n",
    "%matplotlib inline\n",
    "\n",
    "# Scikit-learn\n",
    "from sklearn.model_selection import train_test_split\n",
    "from sklearn.preprocessing import LabelEncoder\n",
    "from sklearn.metrics import confusion_matrix, classification_report, accuracy_score\n",
    "from sklearn.manifold import TSNE\n",
    "from sklearn.feature_extraction.text import TfidfVectorizer\n",
    "\n",
    "# Keras\n",
    "from keras.preprocessing.text import Tokenizer\n",
    "from keras.preprocessing.sequence import pad_sequences\n",
    "from keras.models import Sequential\n",
    "from keras.layers import Activation, Dense, Dropout, Embedding, Flatten, Conv1D, MaxPooling1D, LSTM\n",
    "from keras import utils\n",
    "from keras.callbacks import ReduceLROnPlateau, EarlyStopping\n",
    "\n",
    "# nltk\n",
    "import nltk\n",
    "from nltk.corpus import stopwords\n",
    "from  nltk.stem import SnowballStemmer\n",
    "\n",
    "# Word2vec\n",
    "import gensim\n",
    "\n",
    "# Utility\n",
    "import re\n",
    "import numpy as np\n",
    "import os\n",
    "from collections import Counter\n",
    "import logging\n",
    "import time\n",
    "import pickle\n",
    "import itertools\n",
    "\n",
    "# Set log\n",
    "logging.basicConfig(format='%(asctime)s : %(levelname)s : %(message)s', level=logging.INFO)"
   ]
  },
  {
   "cell_type": "code",
   "execution_count": 2,
   "metadata": {
    "_uuid": "35e1a89dead5fd160e4c9a024a21d2e569fc89ff"
   },
   "outputs": [
    {
     "name": "stdout",
     "output_type": "stream",
     "text": [
      "[nltk_data] Downloading package stopwords to /usr/share/nltk_data...\n",
      "[nltk_data]   Unzipping corpora/stopwords.zip.\n"
     ]
    },
    {
     "data": {
      "text/plain": [
       "True"
      ]
     },
     "execution_count": 2,
     "metadata": {},
     "output_type": "execute_result"
    }
   ],
   "source": [
    "nltk.download('stopwords')"
   ]
  },
  {
   "cell_type": "markdown",
   "metadata": {
    "_uuid": "e8b01a07df001e4abcc745900336c4db06e455f3"
   },
   "source": [
    "### Settings"
   ]
  },
  {
   "cell_type": "code",
   "execution_count": 3,
   "metadata": {
    "_uuid": "180f0dd2a95419e4602b5c0229822b0111c826f6"
   },
   "outputs": [],
   "source": [
    "# DATASET\n",
    "DATASET_COLUMNS = [\"target\", \"ids\", \"date\", \"flag\", \"user\", \"text\"]\n",
    "DATASET_ENCODING = \"ISO-8859-1\"\n",
    "TRAIN_SIZE = 0.8\n",
    "\n",
    "# TEXT CLENAING\n",
    "TEXT_CLEANING_RE = \"@\\S+|https?:\\S+|http?:\\S|[^A-Za-z0-9]+\"\n",
    "\n",
    "# WORD2VEC \n",
    "W2V_SIZE = 300\n",
    "W2V_WINDOW = 7\n",
    "W2V_EPOCH = 32\n",
    "W2V_MIN_COUNT = 10\n",
    "\n",
    "# KERAS\n",
    "SEQUENCE_LENGTH = 300\n",
    "EPOCHS = 32\n",
    "BATCH_SIZE = 1024\n",
    "\n",
    "# SENTIMENT\n",
    "POSITIVE = \"POSITIVE\"\n",
    "NEGATIVE = \"NEGATIVE\"\n",
    "NEUTRAL = \"NEUTRAL\"\n",
    "SENTIMENT_THRESHOLDS = (0.4, 0.7)\n",
    "\n",
    "# EXPORT\n",
    "KERAS_MODEL = \"model.h5\"\n",
    "WORD2VEC_MODEL = \"model.w2v\"\n",
    "TOKENIZER_MODEL = \"tokenizer.pkl\"\n",
    "ENCODER_MODEL = \"encoder.pkl\""
   ]
  },
  {
   "cell_type": "markdown",
   "metadata": {
    "_uuid": "1c3beecc618be68480b3d4f0de08d9d863da1dc1"
   },
   "source": [
    "### Read Dataset"
   ]
  },
  {
   "cell_type": "markdown",
   "metadata": {
    "_uuid": "563b3c44f1092dba0b853747b098e00509098cca"
   },
   "source": [
    "### Dataset details\n",
    "* **target**: the polarity of the tweet (0 = negative, 2 = neutral, 4 = positive)\n",
    "* **ids**: The id of the tweet ( 2087)\n",
    "* **date**: the date of the tweet (Sat May 16 23:58:44 UTC 2009)\n",
    "* **flag**: The query (lyx). If there is no query, then this value is NO_QUERY.\n",
    "* **user**: the user that tweeted (robotickilldozr)\n",
    "* **text**: the text of the tweet (Lyx is cool)"
   ]
  },
  {
   "cell_type": "code",
   "execution_count": 4,
   "metadata": {
    "_uuid": "bba8f91cd70de4f5ea0fb0870ae2029b6e3dcc24"
   },
   "outputs": [
    {
     "name": "stdout",
     "output_type": "stream",
     "text": [
      "Open file: ../input/training.1600000.processed.noemoticon.csv\n"
     ]
    }
   ],
   "source": [
    "dataset_filename = os.listdir(\"../input\")[0]\n",
    "dataset_path = os.path.join(\"..\",\"input\",dataset_filename)\n",
    "print(\"Open file:\", dataset_path)\n",
    "df = pd.read_csv(dataset_path, encoding =DATASET_ENCODING , names=DATASET_COLUMNS)"
   ]
  },
  {
   "cell_type": "code",
   "execution_count": 5,
   "metadata": {
    "_uuid": "936d499c00c4f1648bc16ca9d283c3b39be7fb10"
   },
   "outputs": [
    {
     "name": "stdout",
     "output_type": "stream",
     "text": [
      "Dataset size: 1600000\n"
     ]
    }
   ],
   "source": [
    "print(\"Dataset size:\", len(df))"
   ]
  },
  {
   "cell_type": "code",
   "execution_count": 6,
   "metadata": {
    "_uuid": "7486ed895b813c5246f97b31b6162b0f65ff763b"
   },
   "outputs": [
    {
     "data": {
      "text/html": [
       "<div>\n",
       "<style scoped>\n",
       "    .dataframe tbody tr th:only-of-type {\n",
       "        vertical-align: middle;\n",
       "    }\n",
       "\n",
       "    .dataframe tbody tr th {\n",
       "        vertical-align: top;\n",
       "    }\n",
       "\n",
       "    .dataframe thead th {\n",
       "        text-align: right;\n",
       "    }\n",
       "</style>\n",
       "<table border=\"1\" class=\"dataframe\">\n",
       "  <thead>\n",
       "    <tr style=\"text-align: right;\">\n",
       "      <th></th>\n",
       "      <th>target</th>\n",
       "      <th>ids</th>\n",
       "      <th>date</th>\n",
       "      <th>flag</th>\n",
       "      <th>user</th>\n",
       "      <th>text</th>\n",
       "    </tr>\n",
       "  </thead>\n",
       "  <tbody>\n",
       "    <tr>\n",
       "      <th>0</th>\n",
       "      <td>0</td>\n",
       "      <td>1467810369</td>\n",
       "      <td>Mon Apr 06 22:19:45 PDT 2009</td>\n",
       "      <td>NO_QUERY</td>\n",
       "      <td>_TheSpecialOne_</td>\n",
       "      <td>@switchfoot http://twitpic.com/2y1zl - Awww, t...</td>\n",
       "    </tr>\n",
       "    <tr>\n",
       "      <th>1</th>\n",
       "      <td>0</td>\n",
       "      <td>1467810672</td>\n",
       "      <td>Mon Apr 06 22:19:49 PDT 2009</td>\n",
       "      <td>NO_QUERY</td>\n",
       "      <td>scotthamilton</td>\n",
       "      <td>is upset that he can't update his Facebook by ...</td>\n",
       "    </tr>\n",
       "    <tr>\n",
       "      <th>2</th>\n",
       "      <td>0</td>\n",
       "      <td>1467810917</td>\n",
       "      <td>Mon Apr 06 22:19:53 PDT 2009</td>\n",
       "      <td>NO_QUERY</td>\n",
       "      <td>mattycus</td>\n",
       "      <td>@Kenichan I dived many times for the ball. Man...</td>\n",
       "    </tr>\n",
       "    <tr>\n",
       "      <th>3</th>\n",
       "      <td>0</td>\n",
       "      <td>1467811184</td>\n",
       "      <td>Mon Apr 06 22:19:57 PDT 2009</td>\n",
       "      <td>NO_QUERY</td>\n",
       "      <td>ElleCTF</td>\n",
       "      <td>my whole body feels itchy and like its on fire</td>\n",
       "    </tr>\n",
       "    <tr>\n",
       "      <th>4</th>\n",
       "      <td>0</td>\n",
       "      <td>1467811193</td>\n",
       "      <td>Mon Apr 06 22:19:57 PDT 2009</td>\n",
       "      <td>NO_QUERY</td>\n",
       "      <td>Karoli</td>\n",
       "      <td>@nationwideclass no, it's not behaving at all....</td>\n",
       "    </tr>\n",
       "  </tbody>\n",
       "</table>\n",
       "</div>"
      ],
      "text/plain": [
       "   target                        ...                                                                       text\n",
       "0       0                        ...                          @switchfoot http://twitpic.com/2y1zl - Awww, t...\n",
       "1       0                        ...                          is upset that he can't update his Facebook by ...\n",
       "2       0                        ...                          @Kenichan I dived many times for the ball. Man...\n",
       "3       0                        ...                            my whole body feels itchy and like its on fire \n",
       "4       0                        ...                          @nationwideclass no, it's not behaving at all....\n",
       "\n",
       "[5 rows x 6 columns]"
      ]
     },
     "execution_count": 6,
     "metadata": {},
     "output_type": "execute_result"
    }
   ],
   "source": [
    "df.head(5)"
   ]
  },
  {
   "cell_type": "markdown",
   "metadata": {
    "_uuid": "3f9a7bb129e184967b13261fb5d253af451c75c5"
   },
   "source": [
    "### Map target label to String\n",
    "* **0** -> **NEGATIVE**\n",
    "* **2** -> **NEUTRAL**\n",
    "* **4** -> **POSITIVE**"
   ]
  },
  {
   "cell_type": "code",
   "execution_count": 7,
   "metadata": {
    "_uuid": "14074b59106cb9550440839e48b832223fc9502f"
   },
   "outputs": [],
   "source": [
    "decode_map = {0: \"NEGATIVE\", 2: \"NEUTRAL\", 4: \"POSITIVE\"}\n",
    "def decode_sentiment(label):\n",
    "    return decode_map[int(label)]"
   ]
  },
  {
   "cell_type": "code",
   "execution_count": 8,
   "metadata": {
    "_uuid": "4449d473187f647a195a6ac6986b009da32a7f4b"
   },
   "outputs": [
    {
     "name": "stdout",
     "output_type": "stream",
     "text": [
      "CPU times: user 1.32 s, sys: 32 ms, total: 1.36 s\n",
      "Wall time: 1.36 s\n"
     ]
    }
   ],
   "source": [
    "%%time\n",
    "df.target = df.target.apply(lambda x: decode_sentiment(x))"
   ]
  },
  {
   "cell_type": "code",
   "execution_count": 9,
   "metadata": {
    "_uuid": "19eb327803192f31cce3512aacb232f4d6b38715"
   },
   "outputs": [
    {
     "data": {
      "text/plain": [
       "Text(0.5,1,'Dataset labels distribuition')"
      ]
     },
     "execution_count": 9,
     "metadata": {},
     "output_type": "execute_result"
    },
    {
     "data": {
      "image/png": "[encoded data removed]",
      "text/plain": [
       "<Figure size 1152x576 with 1 Axes>"
      ]
     },
     "metadata": {},
     "output_type": "display_data"
    }
   ],
   "source": [
    "target_cnt = Counter(df.target)\n",
    "\n",
    "plt.figure(figsize=(16,8))\n",
    "plt.bar(target_cnt.keys(), target_cnt.values())\n",
    "plt.title(\"Dataset labels distribuition\")"
   ]
  },
  {
   "cell_type": "markdown",
   "metadata": {
    "_uuid": "4329b1573518b03e497213efa7676220734ebb4b"
   },
   "source": [
    "### Pre-Process dataset"
   ]
  },
  {
   "cell_type": "code",
   "execution_count": 10,
   "metadata": {
    "_uuid": "8aeee8b7b9ea11b749c7f91cd4787a7b50ed1a91"
   },
   "outputs": [],
   "source": [
    "stop_words = stopwords.words(\"english\")\n",
    "stemmer = SnowballStemmer(\"english\")"
   ]
  },
  {
   "cell_type": "code",
   "execution_count": 11,
   "metadata": {
    "_uuid": "649ebcb97969b9ac4301138783704bb3d7846a49"
   },
   "outputs": [],
   "source": [
    "def preprocess(text, stem=False):\n",
    "    # Remove link,user and special characters\n",
    "    text = re.sub(TEXT_CLEANING_RE, ' ', str(text).lower()).strip()\n",
    "    tokens = []\n",
    "    for token in text.split():\n",
    "        if token not in stop_words:\n",
    "            if stem:\n",
    "                tokens.append(stemmer.stem(token))\n",
    "            else:\n",
    "                tokens.append(token)\n",
    "    return \" \".join(tokens)"
   ]
  },
  {
   "cell_type": "code",
   "execution_count": 12,
   "metadata": {
    "_uuid": "f7f3e77ab9291d14687c49e71ba9b2b1e3323432"
   },
   "outputs": [
    {
     "name": "stdout",
     "output_type": "stream",
     "text": [
      "CPU times: user 1min 14s, sys: 232 ms, total: 1min 14s\n",
      "Wall time: 1min 14s\n"
     ]
    }
   ],
   "source": [
    "%%time\n",
    "df.text = df.text.apply(lambda x: preprocess(x))"
   ]
  },
  {
   "cell_type": "markdown",
   "metadata": {
    "_uuid": "f5f9714a8507409bbe780eebf2855a33e8e6ba37"
   },
   "source": [
    "### Split train and test"
   ]
  },
  {
   "cell_type": "code",
   "execution_count": 13,
   "metadata": {
    "_uuid": "d2b1179c968e3f3910c790ecf0c5b2cbb34b0e68"
   },
   "outputs": [
    {
     "name": "stdout",
     "output_type": "stream",
     "text": [
      "TRAIN size: 1280000\n",
      "TEST size: 320000\n"
     ]
    }
   ],
   "source": [
    "df_train, df_test = train_test_split(df, test_size=1-TRAIN_SIZE, random_state=42)\n",
    "print(\"TRAIN size:\", len(df_train))\n",
    "print(\"TEST size:\", len(df_test))"
   ]
  },
  {
   "cell_type": "markdown",
   "metadata": {
    "_uuid": "f08a28aab2c3d16d8b9681a7d5d07587153a1cd6"
   },
   "source": [
    "### Word2Vec "
   ]
  },
  {
   "cell_type": "code",
   "execution_count": 14,
   "metadata": {
    "_uuid": "2461bf564de1b4414841933d0c1d1bee5f5cc5a6"
   },
   "outputs": [
    {
     "name": "stdout",
     "output_type": "stream",
     "text": [
      "CPU times: user 4.54 s, sys: 432 ms, total: 4.97 s\n",
      "Wall time: 4.98 s\n"
     ]
    }
   ],
   "source": [
    "%%time\n",
    "documents = [_text.split() for _text in df_train.text] "
   ]
  },
  {
   "cell_type": "code",
   "execution_count": 15,
   "metadata": {
    "_uuid": "8e19b9f25801ba86420decc266d2b3e6fb44f1ea"
   },
   "outputs": [],
   "source": [
    "w2v_model = gensim.models.word2vec.Word2Vec(size=W2V_SIZE, \n",
    "                                            window=W2V_WINDOW, \n",
    "                                            min_count=W2V_MIN_COUNT, \n",
    "                                            workers=8)"
   ]
  },
  {
   "cell_type": "code",
   "execution_count": 16,
   "metadata": {
    "_uuid": "58d655af07653c594bec6bebcfb302a973b0ad9c"
   },
   "outputs": [
    {
     "name": "stderr",
     "output_type": "stream",
     "text": [
      "2019-11-05 02:18:14,304 : INFO : collecting all words and their counts\n",
      "2019-11-05 02:18:14,305 : INFO : PROGRESS: at sentence #0, processed 0 words, keeping 0 word types\n",
      "2019-11-05 02:18:14,339 : INFO : PROGRESS: at sentence #10000, processed 72565 words, keeping 14005 word types\n",
      "2019-11-05 02:18:14,371 : INFO : PROGRESS: at sentence #20000, processed 144393 words, keeping 21587 word types\n",
      "2019-11-05 02:18:14,403 : INFO : PROGRESS: at sentence #30000, processed 215826 words, keeping 27541 word types\n",
      "2019-11-05 02:18:14,448 : INFO : PROGRESS: at sentence #40000, processed 288271 words, keeping 32764 word types\n",
      "2019-11-05 02:18:14,481 : INFO : PROGRESS: at sentence #50000, processed 359772 words, keeping 37587 word types\n",
      "2019-11-05 02:18:14,514 : INFO : PROGRESS: at sentence #60000, processed 431431 words, keeping 42198 word types\n",
      "2019-11-05 02:18:14,549 : INFO : PROGRESS: at sentence #70000, processed 503103 words, keeping 46458 word types\n",
      "2019-11-05 02:18:14,582 : INFO : PROGRESS: at sentence #80000, processed 575709 words, keeping 50476 word types\n",
      "2019-11-05 02:18:14,616 : INFO : PROGRESS: at sentence #90000, processed 647100 words, keeping 54140 word types\n",
      "2019-11-05 02:18:14,650 : INFO : PROGRESS: at sentence #100000, processed 718681 words, keeping 57777 word types\n",
      "2019-11-05 02:18:14,683 : INFO : PROGRESS: at sentence #110000, processed 790696 words, keeping 61207 word types\n",
      "2019-11-05 02:18:14,718 : INFO : PROGRESS: at sentence #120000, processed 863134 words, keeping 64583 word types\n",
      "2019-11-05 02:18:14,752 : INFO : PROGRESS: at sentence #130000, processed 935111 words, keeping 67865 word types\n",
      "2019-11-05 02:18:14,791 : INFO : PROGRESS: at sentence #140000, processed 1006668 words, keeping 70966 word types\n",
      "2019-11-05 02:18:14,828 : INFO : PROGRESS: at sentence #150000, processed 1078512 words, keeping 74119 word types\n",
      "2019-11-05 02:18:14,863 : INFO : PROGRESS: at sentence #160000, processed 1149914 words, keeping 77187 word types\n",
      "2019-11-05 02:18:14,898 : INFO : PROGRESS: at sentence #170000, processed 1222145 words, keeping 80267 word types\n",
      "2019-11-05 02:18:14,933 : INFO : PROGRESS: at sentence #180000, processed 1294708 words, keeping 83393 word types\n",
      "2019-11-05 02:18:14,968 : INFO : PROGRESS: at sentence #190000, processed 1367608 words, keeping 86329 word types\n",
      "2019-11-05 02:18:15,004 : INFO : PROGRESS: at sentence #200000, processed 1439469 words, keeping 89103 word types\n",
      "2019-11-05 02:18:15,039 : INFO : PROGRESS: at sentence #210000, processed 1512099 words, keeping 91840 word types\n",
      "2019-11-05 02:18:15,077 : INFO : PROGRESS: at sentence #220000, processed 1584149 words, keeping 94636 word types\n",
      "2019-11-05 02:18:15,111 : INFO : PROGRESS: at sentence #230000, processed 1656354 words, keeping 97353 word types\n",
      "2019-11-05 02:18:15,146 : INFO : PROGRESS: at sentence #240000, processed 1728573 words, keeping 99975 word types\n",
      "2019-11-05 02:18:15,180 : INFO : PROGRESS: at sentence #250000, processed 1801102 words, keeping 102594 word types\n",
      "2019-11-05 02:18:15,215 : INFO : PROGRESS: at sentence #260000, processed 1873103 words, keeping 105162 word types\n",
      "2019-11-05 02:18:15,249 : INFO : PROGRESS: at sentence #270000, processed 1945245 words, keeping 107626 word types\n",
      "2019-11-05 02:18:15,284 : INFO : PROGRESS: at sentence #280000, processed 2017163 words, keeping 110141 word types\n",
      "2019-11-05 02:18:15,318 : INFO : PROGRESS: at sentence #290000, processed 2089574 words, keeping 112539 word types\n",
      "2019-11-05 02:18:15,353 : INFO : PROGRESS: at sentence #300000, processed 2160996 words, keeping 114893 word types\n",
      "2019-11-05 02:18:15,388 : INFO : PROGRESS: at sentence #310000, processed 2232913 words, keeping 117298 word types\n",
      "2019-11-05 02:18:15,422 : INFO : PROGRESS: at sentence #320000, processed 2305039 words, keeping 119693 word types\n",
      "2019-11-05 02:18:15,476 : INFO : PROGRESS: at sentence #330000, processed 2377119 words, keeping 122131 word types\n",
      "2019-11-05 02:18:15,511 : INFO : PROGRESS: at sentence #340000, processed 2449370 words, keeping 124416 word types\n",
      "2019-11-05 02:18:15,545 : INFO : PROGRESS: at sentence #350000, processed 2521564 words, keeping 126669 word types\n",
      "2019-11-05 02:18:15,601 : INFO : PROGRESS: at sentence #360000, processed 2593681 words, keeping 128912 word types\n",
      "2019-11-05 02:18:15,648 : INFO : PROGRESS: at sentence #370000, processed 2665692 words, keeping 131135 word types\n",
      "2019-11-05 02:18:15,684 : INFO : PROGRESS: at sentence #380000, processed 2737859 words, keeping 133403 word types\n",
      "2019-11-05 02:18:15,720 : INFO : PROGRESS: at sentence #390000, processed 2809848 words, keeping 135551 word types\n",
      "2019-11-05 02:18:15,755 : INFO : PROGRESS: at sentence #400000, processed 2882438 words, keeping 137742 word types\n",
      "2019-11-05 02:18:15,791 : INFO : PROGRESS: at sentence #410000, processed 2954075 words, keeping 139909 word types\n",
      "2019-11-05 02:18:15,829 : INFO : PROGRESS: at sentence #420000, processed 3026247 words, keeping 142144 word types\n",
      "2019-11-05 02:18:15,867 : INFO : PROGRESS: at sentence #430000, processed 3098659 words, keeping 144364 word types\n",
      "2019-11-05 02:18:15,902 : INFO : PROGRESS: at sentence #440000, processed 3170663 words, keeping 146439 word types\n",
      "2019-11-05 02:18:15,937 : INFO : PROGRESS: at sentence #450000, processed 3243344 words, keeping 148526 word types\n",
      "2019-11-05 02:18:15,973 : INFO : PROGRESS: at sentence #460000, processed 3315466 words, keeping 150610 word types\n",
      "2019-11-05 02:18:16,008 : INFO : PROGRESS: at sentence #470000, processed 3388295 words, keeping 152737 word types\n",
      "2019-11-05 02:18:16,043 : INFO : PROGRESS: at sentence #480000, processed 3460120 words, keeping 154757 word types\n",
      "2019-11-05 02:18:16,078 : INFO : PROGRESS: at sentence #490000, processed 3531883 words, keeping 156825 word types\n",
      "2019-11-05 02:18:16,113 : INFO : PROGRESS: at sentence #500000, processed 3604217 words, keeping 158859 word types\n",
      "2019-11-05 02:18:16,148 : INFO : PROGRESS: at sentence #510000, processed 3676427 words, keeping 160852 word types\n",
      "2019-11-05 02:18:16,183 : INFO : PROGRESS: at sentence #520000, processed 3749045 words, keeping 162863 word types\n",
      "2019-11-05 02:18:16,218 : INFO : PROGRESS: at sentence #530000, processed 3821622 words, keeping 164929 word types\n",
      "2019-11-05 02:18:16,252 : INFO : PROGRESS: at sentence #540000, processed 3893627 words, keeping 166840 word types\n",
      "2019-11-05 02:18:16,287 : INFO : PROGRESS: at sentence #550000, processed 3965477 words, keeping 168799 word types\n",
      "2019-11-05 02:18:16,323 : INFO : PROGRESS: at sentence #560000, processed 4038050 words, keeping 170802 word types\n",
      "2019-11-05 02:18:16,359 : INFO : PROGRESS: at sentence #570000, processed 4110296 words, keeping 172760 word types\n",
      "2019-11-05 02:18:16,393 : INFO : PROGRESS: at sentence #580000, processed 4182385 words, keeping 174635 word types\n",
      "2019-11-05 02:18:16,438 : INFO : PROGRESS: at sentence #590000, processed 4254632 words, keeping 176470 word types\n",
      "2019-11-05 02:18:16,487 : INFO : PROGRESS: at sentence #600000, processed 4326859 words, keeping 178350 word types\n",
      "2019-11-05 02:18:16,523 : INFO : PROGRESS: at sentence #610000, processed 4399183 words, keeping 180290 word types\n",
      "2019-11-05 02:18:16,559 : INFO : PROGRESS: at sentence #620000, processed 4471343 words, keeping 182129 word types\n",
      "2019-11-05 02:18:16,594 : INFO : PROGRESS: at sentence #630000, processed 4543286 words, keeping 184005 word types\n",
      "2019-11-05 02:18:16,629 : INFO : PROGRESS: at sentence #640000, processed 4615780 words, keeping 185835 word types\n",
      "2019-11-05 02:18:16,676 : INFO : PROGRESS: at sentence #650000, processed 4688481 words, keeping 187705 word types\n",
      "2019-11-05 02:18:16,714 : INFO : PROGRESS: at sentence #660000, processed 4760481 words, keeping 189439 word types\n",
      "2019-11-05 02:18:16,753 : INFO : PROGRESS: at sentence #670000, processed 4833024 words, keeping 191232 word types\n",
      "2019-11-05 02:18:16,791 : INFO : PROGRESS: at sentence #680000, processed 4904516 words, keeping 193177 word types\n",
      "2019-11-05 02:18:16,830 : INFO : PROGRESS: at sentence #690000, processed 4976968 words, keeping 194960 word types\n",
      "2019-11-05 02:18:16,869 : INFO : PROGRESS: at sentence #700000, processed 5049412 words, keeping 196725 word types\n",
      "2019-11-05 02:18:16,908 : INFO : PROGRESS: at sentence #710000, processed 5121976 words, keeping 198516 word types\n",
      "2019-11-05 02:18:16,943 : INFO : PROGRESS: at sentence #720000, processed 5193881 words, keeping 200325 word types\n",
      "2019-11-05 02:18:16,979 : INFO : PROGRESS: at sentence #730000, processed 5265467 words, keeping 202133 word types\n",
      "2019-11-05 02:18:17,014 : INFO : PROGRESS: at sentence #740000, processed 5337518 words, keeping 203818 word types\n",
      "2019-11-05 02:18:17,050 : INFO : PROGRESS: at sentence #750000, processed 5409321 words, keeping 205535 word types\n",
      "2019-11-05 02:18:17,085 : INFO : PROGRESS: at sentence #760000, processed 5481512 words, keeping 207282 word types\n",
      "2019-11-05 02:18:17,123 : INFO : PROGRESS: at sentence #770000, processed 5554093 words, keeping 209076 word types\n",
      "2019-11-05 02:18:17,159 : INFO : PROGRESS: at sentence #780000, processed 5625382 words, keeping 210805 word types\n",
      "2019-11-05 02:18:17,195 : INFO : PROGRESS: at sentence #790000, processed 5698066 words, keeping 212618 word types\n",
      "2019-11-05 02:18:17,230 : INFO : PROGRESS: at sentence #800000, processed 5770880 words, keeping 214374 word types\n",
      "2019-11-05 02:18:17,266 : INFO : PROGRESS: at sentence #810000, processed 5843418 words, keeping 216009 word types\n",
      "2019-11-05 02:18:17,301 : INFO : PROGRESS: at sentence #820000, processed 5915628 words, keeping 217804 word types\n",
      "2019-11-05 02:18:17,338 : INFO : PROGRESS: at sentence #830000, processed 5987499 words, keeping 219585 word types\n",
      "2019-11-05 02:18:17,373 : INFO : PROGRESS: at sentence #840000, processed 6058973 words, keeping 221344 word types\n",
      "2019-11-05 02:18:17,408 : INFO : PROGRESS: at sentence #850000, processed 6131125 words, keeping 223002 word types\n",
      "2019-11-05 02:18:17,441 : INFO : PROGRESS: at sentence #860000, processed 6202951 words, keeping 224643 word types\n",
      "2019-11-05 02:18:17,477 : INFO : PROGRESS: at sentence #870000, processed 6275461 words, keeping 226362 word types\n",
      "2019-11-05 02:18:17,523 : INFO : PROGRESS: at sentence #880000, processed 6347661 words, keeping 227986 word types\n",
      "2019-11-05 02:18:17,558 : INFO : PROGRESS: at sentence #890000, processed 6419806 words, keeping 229634 word types\n",
      "2019-11-05 02:18:17,593 : INFO : PROGRESS: at sentence #900000, processed 6491644 words, keeping 231389 word types\n",
      "2019-11-05 02:18:17,628 : INFO : PROGRESS: at sentence #910000, processed 6564022 words, keeping 233050 word types\n",
      "2019-11-05 02:18:17,665 : INFO : PROGRESS: at sentence #920000, processed 6636228 words, keeping 234686 word types\n",
      "2019-11-05 02:18:17,702 : INFO : PROGRESS: at sentence #930000, processed 6708573 words, keeping 236393 word types\n",
      "2019-11-05 02:18:17,738 : INFO : PROGRESS: at sentence #940000, processed 6779956 words, keeping 238052 word types\n",
      "2019-11-05 02:18:17,774 : INFO : PROGRESS: at sentence #950000, processed 6852599 words, keeping 239716 word types\n",
      "2019-11-05 02:18:17,814 : INFO : PROGRESS: at sentence #960000, processed 6924717 words, keeping 241354 word types\n",
      "2019-11-05 02:18:17,852 : INFO : PROGRESS: at sentence #970000, processed 6996992 words, keeping 242980 word types\n",
      "2019-11-05 02:18:17,888 : INFO : PROGRESS: at sentence #980000, processed 7068402 words, keeping 244646 word types\n",
      "2019-11-05 02:18:17,925 : INFO : PROGRESS: at sentence #990000, processed 7140346 words, keeping 246186 word types\n",
      "2019-11-05 02:18:17,961 : INFO : PROGRESS: at sentence #1000000, processed 7211757 words, keeping 247726 word types\n",
      "2019-11-05 02:18:17,997 : INFO : PROGRESS: at sentence #1010000, processed 7283267 words, keeping 249288 word types\n",
      "2019-11-05 02:18:18,032 : INFO : PROGRESS: at sentence #1020000, processed 7355299 words, keeping 250860 word types\n",
      "2019-11-05 02:18:18,069 : INFO : PROGRESS: at sentence #1030000, processed 7426918 words, keeping 252366 word types\n",
      "2019-11-05 02:18:18,105 : INFO : PROGRESS: at sentence #1040000, processed 7498815 words, keeping 253930 word types\n",
      "2019-11-05 02:18:18,146 : INFO : PROGRESS: at sentence #1050000, processed 7570499 words, keeping 255471 word types\n",
      "2019-11-05 02:18:18,185 : INFO : PROGRESS: at sentence #1060000, processed 7643251 words, keeping 257035 word types\n",
      "2019-11-05 02:18:18,221 : INFO : PROGRESS: at sentence #1070000, processed 7714721 words, keeping 258509 word types\n",
      "2019-11-05 02:18:18,257 : INFO : PROGRESS: at sentence #1080000, processed 7787371 words, keeping 260071 word types\n",
      "2019-11-05 02:18:18,292 : INFO : PROGRESS: at sentence #1090000, processed 7859336 words, keeping 261683 word types\n",
      "2019-11-05 02:18:18,328 : INFO : PROGRESS: at sentence #1100000, processed 7932029 words, keeping 263278 word types\n",
      "2019-11-05 02:18:18,365 : INFO : PROGRESS: at sentence #1110000, processed 8004146 words, keeping 264800 word types\n",
      "2019-11-05 02:18:18,401 : INFO : PROGRESS: at sentence #1120000, processed 8075880 words, keeping 266309 word types\n",
      "2019-11-05 02:18:18,437 : INFO : PROGRESS: at sentence #1130000, processed 8148163 words, keeping 267826 word types\n",
      "2019-11-05 02:18:18,472 : INFO : PROGRESS: at sentence #1140000, processed 8220487 words, keeping 269391 word types\n",
      "2019-11-05 02:18:18,508 : INFO : PROGRESS: at sentence #1150000, processed 8292498 words, keeping 270894 word types\n",
      "2019-11-05 02:18:18,555 : INFO : PROGRESS: at sentence #1160000, processed 8363838 words, keeping 272400 word types\n",
      "2019-11-05 02:18:18,590 : INFO : PROGRESS: at sentence #1170000, processed 8435510 words, keeping 273970 word types\n",
      "2019-11-05 02:18:18,625 : INFO : PROGRESS: at sentence #1180000, processed 8507795 words, keeping 275521 word types\n",
      "2019-11-05 02:18:18,660 : INFO : PROGRESS: at sentence #1190000, processed 8579080 words, keeping 277007 word types\n",
      "2019-11-05 02:18:18,696 : INFO : PROGRESS: at sentence #1200000, processed 8650606 words, keeping 278457 word types\n",
      "2019-11-05 02:18:18,731 : INFO : PROGRESS: at sentence #1210000, processed 8721893 words, keeping 279959 word types\n",
      "2019-11-05 02:18:18,768 : INFO : PROGRESS: at sentence #1220000, processed 8793795 words, keeping 281427 word types\n",
      "2019-11-05 02:18:18,807 : INFO : PROGRESS: at sentence #1230000, processed 8865726 words, keeping 282981 word types\n",
      "2019-11-05 02:18:18,845 : INFO : PROGRESS: at sentence #1240000, processed 8938173 words, keeping 284542 word types\n",
      "2019-11-05 02:18:18,882 : INFO : PROGRESS: at sentence #1250000, processed 9010842 words, keeping 286064 word types\n",
      "2019-11-05 02:18:18,919 : INFO : PROGRESS: at sentence #1260000, processed 9083261 words, keeping 287521 word types\n",
      "2019-11-05 02:18:18,955 : INFO : PROGRESS: at sentence #1270000, processed 9155616 words, keeping 288987 word types\n",
      "2019-11-05 02:18:18,991 : INFO : collected 290418 word types from a corpus of 9227204 raw words and 1280000 sentences\n",
      "2019-11-05 02:18:18,992 : INFO : Loading a fresh vocabulary\n",
      "2019-11-05 02:18:19,324 : INFO : effective_min_count=10 retains 30369 unique words (10% of original 290418, drops 260049)\n",
      "2019-11-05 02:18:19,325 : INFO : effective_min_count=10 leaves 8780739 word corpus (95% of original 9227204, drops 446465)\n",
      "2019-11-05 02:18:19,508 : INFO : deleting the raw counts dictionary of 290418 items\n",
      "2019-11-05 02:18:19,518 : INFO : sample=0.001 downsamples 45 most-common words\n",
      "2019-11-05 02:18:19,519 : INFO : downsampling leaves estimated 8222658 word corpus (93.6% of prior 8780739)\n",
      "2019-11-05 02:18:19,657 : INFO : estimated required memory for 30369 words and 300 dimensions: 88070100 bytes\n",
      "2019-11-05 02:18:19,658 : INFO : resetting layer weights\n"
     ]
    }
   ],
   "source": [
    "w2v_model.build_vocab(documents)"
   ]
  },
  {
   "cell_type": "code",
   "execution_count": 17,
   "metadata": {
    "_uuid": "72a5628ca81fd4b8983c12d93ae0bf950b86b6ae"
   },
   "outputs": [
    {
     "name": "stdout",
     "output_type": "stream",
     "text": [
      "Vocab size 30369\n"
     ]
    }
   ],
   "source": [
    "words = w2v_model.wv.vocab.keys()\n",
    "vocab_size = len(words)\n",
    "print(\"Vocab size\", vocab_size)"
   ]
  },
  {
   "cell_type": "code",
   "execution_count": 18,
   "metadata": {
    "_uuid": "68c3e4a5ba07cac3dee67f78ecdd1404c7f83f14"
   },
   "outputs": [
    {
     "name": "stderr",
     "output_type": "stream",
     "text": [
      "2019-11-05 02:18:20,466 : INFO : training model with 8 workers on 30369 vocabulary and 300 features, using sg=0 hs=0 sample=0.001 negative=5 window=7\n",
      "2019-11-05 02:18:21,545 : INFO : EPOCH 1 - PROGRESS: at 3.25% examples, 250368 words/s, in_qsize 16, out_qsize 0\n",
      "2019-11-05 02:18:22,549 : INFO : EPOCH 1 - PROGRESS: at 7.05% examples, 279504 words/s, in_qsize 14, out_qsize 1\n",
      "2019-11-05 02:18:23,579 : INFO : EPOCH 1 - PROGRESS: at 10.75% examples, 284318 words/s, in_qsize 15, out_qsize 2\n",
      "2019-11-05 02:18:24,632 : INFO : EPOCH 1 - PROGRESS: at 14.76% examples, 291507 words/s, in_qsize 16, out_qsize 2\n",
      "2019-11-05 02:18:25,656 : INFO : EPOCH 1 - PROGRESS: at 18.76% examples, 297477 words/s, in_qsize 16, out_qsize 0\n",
      "2019-11-05 02:18:26,713 : INFO : EPOCH 1 - PROGRESS: at 22.66% examples, 298538 words/s, in_qsize 15, out_qsize 1\n",
      "2019-11-05 02:18:27,713 : INFO : EPOCH 1 - PROGRESS: at 26.56% examples, 301600 words/s, in_qsize 14, out_qsize 1\n",
      "2019-11-05 02:18:28,749 : INFO : EPOCH 1 - PROGRESS: at 30.02% examples, 298319 words/s, in_qsize 15, out_qsize 0\n",
      "2019-11-05 02:18:29,821 : INFO : EPOCH 1 - PROGRESS: at 33.92% examples, 298433 words/s, in_qsize 15, out_qsize 0\n",
      "2019-11-05 02:18:30,936 : INFO : EPOCH 1 - PROGRESS: at 38.03% examples, 298977 words/s, in_qsize 15, out_qsize 0\n",
      "2019-11-05 02:18:32,053 : INFO : EPOCH 1 - PROGRESS: at 42.13% examples, 299377 words/s, in_qsize 16, out_qsize 0\n",
      "2019-11-05 02:18:33,065 : INFO : EPOCH 1 - PROGRESS: at 45.92% examples, 300060 words/s, in_qsize 16, out_qsize 0\n",
      "2019-11-05 02:18:34,185 : INFO : EPOCH 1 - PROGRESS: at 50.03% examples, 300267 words/s, in_qsize 15, out_qsize 0\n",
      "2019-11-05 02:18:35,200 : INFO : EPOCH 1 - PROGRESS: at 53.92% examples, 301350 words/s, in_qsize 16, out_qsize 1\n",
      "2019-11-05 02:18:36,236 : INFO : EPOCH 1 - PROGRESS: at 58.14% examples, 303593 words/s, in_qsize 16, out_qsize 0\n",
      "2019-11-05 02:18:37,280 : INFO : EPOCH 1 - PROGRESS: at 61.71% examples, 302232 words/s, in_qsize 14, out_qsize 1\n",
      "2019-11-05 02:18:38,325 : INFO : EPOCH 1 - PROGRESS: at 65.72% examples, 303002 words/s, in_qsize 15, out_qsize 0\n",
      "2019-11-05 02:18:39,329 : INFO : EPOCH 1 - PROGRESS: at 69.40% examples, 302944 words/s, in_qsize 14, out_qsize 1\n",
      "2019-11-05 02:18:40,489 : INFO : EPOCH 1 - PROGRESS: at 73.73% examples, 303174 words/s, in_qsize 15, out_qsize 1\n",
      "2019-11-05 02:18:41,537 : INFO : EPOCH 1 - PROGRESS: at 77.96% examples, 304573 words/s, in_qsize 13, out_qsize 1\n",
      "2019-11-05 02:18:42,545 : INFO : EPOCH 1 - PROGRESS: at 81.66% examples, 304386 words/s, in_qsize 16, out_qsize 0\n",
      "2019-11-05 02:18:43,549 : INFO : EPOCH 1 - PROGRESS: at 85.23% examples, 303883 words/s, in_qsize 16, out_qsize 1\n",
      "2019-11-05 02:18:44,579 : INFO : EPOCH 1 - PROGRESS: at 89.34% examples, 304946 words/s, in_qsize 15, out_qsize 2\n",
      "2019-11-05 02:18:45,678 : INFO : EPOCH 1 - PROGRESS: at 93.38% examples, 304719 words/s, in_qsize 14, out_qsize 1\n",
      "2019-11-05 02:18:46,680 : INFO : EPOCH 1 - PROGRESS: at 97.39% examples, 305631 words/s, in_qsize 15, out_qsize 0\n",
      "2019-11-05 02:18:47,177 : INFO : worker thread finished; awaiting finish of 7 more threads\n",
      "2019-11-05 02:18:47,185 : INFO : worker thread finished; awaiting finish of 6 more threads\n",
      "2019-11-05 02:18:47,210 : INFO : worker thread finished; awaiting finish of 5 more threads\n",
      "2019-11-05 02:18:47,222 : INFO : worker thread finished; awaiting finish of 4 more threads\n",
      "2019-11-05 02:18:47,224 : INFO : worker thread finished; awaiting finish of 3 more threads\n",
      "2019-11-05 02:18:47,228 : INFO : worker thread finished; awaiting finish of 2 more threads\n",
      "2019-11-05 02:18:47,235 : INFO : worker thread finished; awaiting finish of 1 more threads\n",
      "2019-11-05 02:18:47,238 : INFO : worker thread finished; awaiting finish of 0 more threads\n",
      "2019-11-05 02:18:47,239 : INFO : EPOCH - 1 : training on 9227204 raw words (8223205 effective words) took 26.8s, 307274 effective words/s\n",
      "2019-11-05 02:18:48,298 : INFO : EPOCH 2 - PROGRESS: at 3.14% examples, 247346 words/s, in_qsize 13, out_qsize 2\n",
      "2019-11-05 02:18:49,321 : INFO : EPOCH 2 - PROGRESS: at 7.28% examples, 288673 words/s, in_qsize 13, out_qsize 2\n",
      "2019-11-05 02:18:50,352 : INFO : EPOCH 2 - PROGRESS: at 11.29% examples, 299089 words/s, in_qsize 15, out_qsize 0\n",
      "2019-11-05 02:18:51,365 : INFO : EPOCH 2 - PROGRESS: at 14.97% examples, 298990 words/s, in_qsize 15, out_qsize 0\n",
      "2019-11-05 02:18:52,375 : INFO : EPOCH 2 - PROGRESS: at 18.76% examples, 300850 words/s, in_qsize 15, out_qsize 0\n",
      "2019-11-05 02:18:53,388 : INFO : EPOCH 2 - PROGRESS: at 22.44% examples, 300552 words/s, in_qsize 14, out_qsize 1\n",
      "2019-11-05 02:18:54,488 : INFO : EPOCH 2 - PROGRESS: at 26.56% examples, 302799 words/s, in_qsize 14, out_qsize 4\n",
      "2019-11-05 02:18:55,471 : INFO : EPOCH 2 - PROGRESS: at 30.35% examples, 303528 words/s, in_qsize 15, out_qsize 2\n",
      "2019-11-05 02:18:56,511 : INFO : EPOCH 2 - PROGRESS: at 34.46% examples, 305987 words/s, in_qsize 15, out_qsize 0\n",
      "2019-11-05 02:18:57,521 : INFO : EPOCH 2 - PROGRESS: at 38.14% examples, 305371 words/s, in_qsize 14, out_qsize 2\n",
      "2019-11-05 02:18:58,608 : INFO : EPOCH 2 - PROGRESS: at 42.13% examples, 305172 words/s, in_qsize 14, out_qsize 1\n",
      "2019-11-05 02:18:59,609 : INFO : EPOCH 2 - PROGRESS: at 46.02% examples, 306375 words/s, in_qsize 14, out_qsize 1\n",
      "2019-11-05 02:19:00,758 : INFO : EPOCH 2 - PROGRESS: at 50.13% examples, 305384 words/s, in_qsize 14, out_qsize 1\n",
      "2019-11-05 02:19:01,759 : INFO : EPOCH 2 - PROGRESS: at 54.13% examples, 307041 words/s, in_qsize 15, out_qsize 1\n",
      "2019-11-05 02:19:02,762 : INFO : EPOCH 2 - PROGRESS: at 57.81% examples, 306734 words/s, in_qsize 16, out_qsize 2\n",
      "2019-11-05 02:19:03,825 : INFO : EPOCH 2 - PROGRESS: at 62.03% examples, 308036 words/s, in_qsize 14, out_qsize 0\n",
      "2019-11-05 02:19:04,886 : INFO : EPOCH 2 - PROGRESS: at 65.82% examples, 307173 words/s, in_qsize 14, out_qsize 1\n",
      "2019-11-05 02:19:05,925 : INFO : EPOCH 2 - PROGRESS: at 70.16% examples, 309182 words/s, in_qsize 15, out_qsize 0\n",
      "2019-11-05 02:19:06,935 : INFO : EPOCH 2 - PROGRESS: at 73.73% examples, 308231 words/s, in_qsize 15, out_qsize 1\n",
      "2019-11-05 02:19:08,059 : INFO : EPOCH 2 - PROGRESS: at 77.74% examples, 307419 words/s, in_qsize 15, out_qsize 3\n",
      "2019-11-05 02:19:09,059 : INFO : EPOCH 2 - PROGRESS: at 81.77% examples, 308437 words/s, in_qsize 15, out_qsize 0\n",
      "2019-11-05 02:19:10,166 : INFO : EPOCH 2 - PROGRESS: at 85.99% examples, 308692 words/s, in_qsize 15, out_qsize 0\n",
      "2019-11-05 02:19:11,212 : INFO : EPOCH 2 - PROGRESS: at 90.11% examples, 309343 words/s, in_qsize 15, out_qsize 0\n",
      "2019-11-05 02:19:12,248 : INFO : EPOCH 2 - PROGRESS: at 93.70% examples, 308269 words/s, in_qsize 15, out_qsize 0\n",
      "2019-11-05 02:19:13,313 : INFO : EPOCH 2 - PROGRESS: at 97.71% examples, 308527 words/s, in_qsize 14, out_qsize 2\n",
      "2019-11-05 02:19:13,609 : INFO : worker thread finished; awaiting finish of 7 more threads\n",
      "2019-11-05 02:19:13,633 : INFO : worker thread finished; awaiting finish of 6 more threads\n",
      "2019-11-05 02:19:13,652 : INFO : worker thread finished; awaiting finish of 5 more threads\n",
      "2019-11-05 02:19:13,678 : INFO : worker thread finished; awaiting finish of 4 more threads\n",
      "2019-11-05 02:19:13,685 : INFO : worker thread finished; awaiting finish of 3 more threads\n",
      "2019-11-05 02:19:13,694 : INFO : worker thread finished; awaiting finish of 2 more threads\n",
      "2019-11-05 02:19:13,708 : INFO : worker thread finished; awaiting finish of 1 more threads\n",
      "2019-11-05 02:19:13,716 : INFO : worker thread finished; awaiting finish of 0 more threads\n",
      "2019-11-05 02:19:13,717 : INFO : EPOCH - 2 : training on 9227204 raw words (8222845 effective words) took 26.5s, 310731 effective words/s\n",
      "2019-11-05 02:19:14,743 : INFO : EPOCH 3 - PROGRESS: at 3.14% examples, 255562 words/s, in_qsize 15, out_qsize 0\n",
      "2019-11-05 02:19:15,857 : INFO : EPOCH 3 - PROGRESS: at 7.06% examples, 272569 words/s, in_qsize 15, out_qsize 0\n",
      "2019-11-05 02:19:16,863 : INFO : EPOCH 3 - PROGRESS: at 10.97% examples, 287476 words/s, in_qsize 15, out_qsize 0\n",
      "2019-11-05 02:19:17,883 : INFO : EPOCH 3 - PROGRESS: at 14.86% examples, 293999 words/s, in_qsize 15, out_qsize 1\n",
      "2019-11-05 02:19:18,951 : INFO : EPOCH 3 - PROGRESS: at 18.76% examples, 295272 words/s, in_qsize 14, out_qsize 1\n",
      "2019-11-05 02:19:19,965 : INFO : EPOCH 3 - PROGRESS: at 22.76% examples, 300181 words/s, in_qsize 15, out_qsize 0\n",
      "2019-11-05 02:19:20,986 : INFO : EPOCH 3 - PROGRESS: at 26.77% examples, 303358 words/s, in_qsize 15, out_qsize 0\n",
      "2019-11-05 02:19:22,086 : INFO : EPOCH 3 - PROGRESS: at 30.67% examples, 301810 words/s, in_qsize 15, out_qsize 0\n",
      "2019-11-05 02:19:23,117 : INFO : EPOCH 3 - PROGRESS: at 34.46% examples, 301851 words/s, in_qsize 15, out_qsize 2\n",
      "2019-11-05 02:19:24,154 : INFO : EPOCH 3 - PROGRESS: at 38.35% examples, 303564 words/s, in_qsize 15, out_qsize 0\n",
      "2019-11-05 02:19:25,135 : INFO : EPOCH 3 - PROGRESS: at 42.02% examples, 303104 words/s, in_qsize 15, out_qsize 3\n",
      "2019-11-05 02:19:26,245 : INFO : EPOCH 3 - PROGRESS: at 46.13% examples, 303270 words/s, in_qsize 16, out_qsize 0\n",
      "2019-11-05 02:19:27,281 : INFO : EPOCH 3 - PROGRESS: at 50.02% examples, 303795 words/s, in_qsize 15, out_qsize 0\n",
      "2019-11-05 02:19:28,309 : INFO : EPOCH 3 - PROGRESS: at 54.02% examples, 304986 words/s, in_qsize 15, out_qsize 0\n",
      "2019-11-05 02:19:29,327 : INFO : EPOCH 3 - PROGRESS: at 57.92% examples, 305664 words/s, in_qsize 16, out_qsize 0\n",
      "2019-11-05 02:19:30,355 : INFO : EPOCH 3 - PROGRESS: at 61.60% examples, 305005 words/s, in_qsize 15, out_qsize 0\n",
      "2019-11-05 02:19:31,373 : INFO : EPOCH 3 - PROGRESS: at 65.17% examples, 304130 words/s, in_qsize 14, out_qsize 2\n",
      "2019-11-05 02:19:32,409 : INFO : EPOCH 3 - PROGRESS: at 69.18% examples, 304872 words/s, in_qsize 15, out_qsize 0\n",
      "2019-11-05 02:19:33,415 : INFO : EPOCH 3 - PROGRESS: at 73.08% examples, 305564 words/s, in_qsize 15, out_qsize 0\n",
      "2019-11-05 02:19:34,425 : INFO : EPOCH 3 - PROGRESS: at 76.98% examples, 306146 words/s, in_qsize 14, out_qsize 0\n",
      "2019-11-05 02:19:35,500 : INFO : EPOCH 3 - PROGRESS: at 80.80% examples, 305358 words/s, in_qsize 16, out_qsize 0\n",
      "2019-11-05 02:19:36,534 : INFO : EPOCH 3 - PROGRESS: at 84.37% examples, 304405 words/s, in_qsize 15, out_qsize 0\n",
      "2019-11-05 02:19:37,612 : INFO : EPOCH 3 - PROGRESS: at 88.59% examples, 305193 words/s, in_qsize 15, out_qsize 0\n",
      "2019-11-05 02:19:38,615 : INFO : EPOCH 3 - PROGRESS: at 92.39% examples, 305408 words/s, in_qsize 15, out_qsize 0\n",
      "2019-11-05 02:19:39,617 : INFO : EPOCH 3 - PROGRESS: at 96.64% examples, 307016 words/s, in_qsize 15, out_qsize 0\n",
      "2019-11-05 02:19:40,381 : INFO : worker thread finished; awaiting finish of 7 more threads\n",
      "2019-11-05 02:19:40,385 : INFO : worker thread finished; awaiting finish of 6 more threads\n",
      "2019-11-05 02:19:40,393 : INFO : worker thread finished; awaiting finish of 5 more threads\n",
      "2019-11-05 02:19:40,396 : INFO : worker thread finished; awaiting finish of 4 more threads\n",
      "2019-11-05 02:19:40,423 : INFO : worker thread finished; awaiting finish of 3 more threads\n",
      "2019-11-05 02:19:40,435 : INFO : worker thread finished; awaiting finish of 2 more threads\n",
      "2019-11-05 02:19:40,440 : INFO : worker thread finished; awaiting finish of 1 more threads\n",
      "2019-11-05 02:19:40,446 : INFO : worker thread finished; awaiting finish of 0 more threads\n",
      "2019-11-05 02:19:40,447 : INFO : EPOCH - 3 : training on 9227204 raw words (8224060 effective words) took 26.7s, 307852 effective words/s\n",
      "2019-11-05 02:19:41,534 : INFO : EPOCH 4 - PROGRESS: at 3.47% examples, 272412 words/s, in_qsize 15, out_qsize 1\n",
      "2019-11-05 02:19:42,647 : INFO : EPOCH 4 - PROGRESS: at 7.60% examples, 288748 words/s, in_qsize 15, out_qsize 0\n",
      "2019-11-05 02:19:43,701 : INFO : EPOCH 4 - PROGRESS: at 11.73% examples, 299509 words/s, in_qsize 14, out_qsize 1\n",
      "2019-11-05 02:19:44,739 : INFO : EPOCH 4 - PROGRESS: at 15.73% examples, 303871 words/s, in_qsize 16, out_qsize 2\n",
      "2019-11-05 02:19:45,743 : INFO : EPOCH 4 - PROGRESS: at 19.62% examples, 306805 words/s, in_qsize 15, out_qsize 0\n",
      "2019-11-05 02:19:46,879 : INFO : EPOCH 4 - PROGRESS: at 23.63% examples, 303941 words/s, in_qsize 12, out_qsize 3\n",
      "2019-11-05 02:19:47,904 : INFO : EPOCH 4 - PROGRESS: at 27.96% examples, 309936 words/s, in_qsize 15, out_qsize 0\n",
      "2019-11-05 02:19:49,058 : INFO : EPOCH 4 - PROGRESS: at 31.65% examples, 305548 words/s, in_qsize 15, out_qsize 3\n",
      "2019-11-05 02:19:50,036 : INFO : EPOCH 4 - PROGRESS: at 35.86% examples, 308844 words/s, in_qsize 16, out_qsize 1\n",
      "2019-11-05 02:19:51,097 : INFO : EPOCH 4 - PROGRESS: at 39.54% examples, 306503 words/s, in_qsize 15, out_qsize 0\n",
      "2019-11-05 02:19:52,099 : INFO : EPOCH 4 - PROGRESS: at 43.43% examples, 307679 words/s, in_qsize 16, out_qsize 2\n",
      "2019-11-05 02:19:53,183 : INFO : EPOCH 4 - PROGRESS: at 47.32% examples, 307230 words/s, in_qsize 14, out_qsize 1\n",
      "2019-11-05 02:19:54,171 : INFO : EPOCH 4 - PROGRESS: at 51.10% examples, 307322 words/s, in_qsize 16, out_qsize 0\n",
      "2019-11-05 02:19:55,172 : INFO : EPOCH 4 - PROGRESS: at 54.99% examples, 308226 words/s, in_qsize 15, out_qsize 0\n",
      "2019-11-05 02:19:56,186 : INFO : EPOCH 4 - PROGRESS: at 58.69% examples, 307644 words/s, in_qsize 14, out_qsize 1\n",
      "2019-11-05 02:19:57,231 : INFO : EPOCH 4 - PROGRESS: at 62.36% examples, 307155 words/s, in_qsize 13, out_qsize 6\n",
      "2019-11-05 02:19:58,232 : INFO : EPOCH 4 - PROGRESS: at 66.58% examples, 308803 words/s, in_qsize 14, out_qsize 1\n",
      "2019-11-05 02:19:59,277 : INFO : EPOCH 4 - PROGRESS: at 70.70% examples, 309655 words/s, in_qsize 15, out_qsize 0\n",
      "2019-11-05 02:20:00,288 : INFO : EPOCH 4 - PROGRESS: at 74.27% examples, 308673 words/s, in_qsize 16, out_qsize 0\n",
      "2019-11-05 02:20:01,319 : INFO : EPOCH 4 - PROGRESS: at 77.96% examples, 307926 words/s, in_qsize 14, out_qsize 3\n",
      "2019-11-05 02:20:02,340 : INFO : EPOCH 4 - PROGRESS: at 82.21% examples, 309451 words/s, in_qsize 15, out_qsize 0\n",
      "2019-11-05 02:20:03,406 : INFO : EPOCH 4 - PROGRESS: at 85.99% examples, 308655 words/s, in_qsize 15, out_qsize 0\n",
      "2019-11-05 02:20:04,417 : INFO : EPOCH 4 - PROGRESS: at 89.89% examples, 309009 words/s, in_qsize 15, out_qsize 0\n",
      "2019-11-05 02:20:05,442 : INFO : EPOCH 4 - PROGRESS: at 93.92% examples, 309506 words/s, in_qsize 15, out_qsize 0\n",
      "2019-11-05 02:20:06,453 : INFO : EPOCH 4 - PROGRESS: at 97.82% examples, 309804 words/s, in_qsize 15, out_qsize 0\n",
      "2019-11-05 02:20:06,786 : INFO : worker thread finished; awaiting finish of 7 more threads\n",
      "2019-11-05 02:20:06,831 : INFO : worker thread finished; awaiting finish of 6 more threads\n",
      "2019-11-05 02:20:06,894 : INFO : worker thread finished; awaiting finish of 5 more threads\n",
      "2019-11-05 02:20:06,901 : INFO : worker thread finished; awaiting finish of 4 more threads\n",
      "2019-11-05 02:20:06,905 : INFO : worker thread finished; awaiting finish of 3 more threads\n",
      "2019-11-05 02:20:06,917 : INFO : worker thread finished; awaiting finish of 2 more threads\n",
      "2019-11-05 02:20:06,923 : INFO : worker thread finished; awaiting finish of 1 more threads\n",
      "2019-11-05 02:20:06,925 : INFO : worker thread finished; awaiting finish of 0 more threads\n",
      "2019-11-05 02:20:06,926 : INFO : EPOCH - 4 : training on 9227204 raw words (8223303 effective words) took 26.4s, 311042 effective words/s\n",
      "2019-11-05 02:20:07,962 : INFO : EPOCH 5 - PROGRESS: at 3.58% examples, 288005 words/s, in_qsize 12, out_qsize 1\n",
      "2019-11-05 02:20:08,993 : INFO : EPOCH 5 - PROGRESS: at 6.95% examples, 277896 words/s, in_qsize 15, out_qsize 0\n",
      "2019-11-05 02:20:10,060 : INFO : EPOCH 5 - PROGRESS: at 11.29% examples, 300765 words/s, in_qsize 13, out_qsize 0\n",
      "2019-11-05 02:20:11,049 : INFO : EPOCH 5 - PROGRESS: at 15.30% examples, 305772 words/s, in_qsize 15, out_qsize 0\n",
      "2019-11-05 02:20:12,055 : INFO : EPOCH 5 - PROGRESS: at 18.87% examples, 303115 words/s, in_qsize 14, out_qsize 1\n",
      "2019-11-05 02:20:13,141 : INFO : EPOCH 5 - PROGRESS: at 22.65% examples, 300364 words/s, in_qsize 16, out_qsize 1\n",
      "2019-11-05 02:20:14,233 : INFO : EPOCH 5 - PROGRESS: at 26.55% examples, 299348 words/s, in_qsize 15, out_qsize 0\n",
      "2019-11-05 02:20:15,237 : INFO : EPOCH 5 - PROGRESS: at 30.46% examples, 301816 words/s, in_qsize 15, out_qsize 0\n",
      "2019-11-05 02:20:16,252 : INFO : EPOCH 5 - PROGRESS: at 34.13% examples, 301767 words/s, in_qsize 15, out_qsize 1\n",
      "2019-11-05 02:20:17,272 : INFO : EPOCH 5 - PROGRESS: at 37.59% examples, 299228 words/s, in_qsize 15, out_qsize 2\n",
      "2019-11-05 02:20:18,305 : INFO : EPOCH 5 - PROGRESS: at 41.48% examples, 300257 words/s, in_qsize 16, out_qsize 0\n",
      "2019-11-05 02:20:19,316 : INFO : EPOCH 5 - PROGRESS: at 45.37% examples, 301650 words/s, in_qsize 15, out_qsize 1\n",
      "2019-11-05 02:20:20,343 : INFO : EPOCH 5 - PROGRESS: at 49.27% examples, 302489 words/s, in_qsize 15, out_qsize 0\n",
      "2019-11-05 02:20:21,471 : INFO : EPOCH 5 - PROGRESS: at 53.38% examples, 302302 words/s, in_qsize 15, out_qsize 1\n",
      "2019-11-05 02:20:22,516 : INFO : EPOCH 5 - PROGRESS: at 57.38% examples, 303996 words/s, in_qsize 15, out_qsize 1\n",
      "2019-11-05 02:20:23,496 : INFO : EPOCH 5 - PROGRESS: at 60.85% examples, 302469 words/s, in_qsize 15, out_qsize 0\n",
      "2019-11-05 02:20:24,517 : INFO : EPOCH 5 - PROGRESS: at 65.17% examples, 305176 words/s, in_qsize 16, out_qsize 0\n",
      "2019-11-05 02:20:25,540 : INFO : EPOCH 5 - PROGRESS: at 68.64% examples, 303718 words/s, in_qsize 15, out_qsize 3\n",
      "2019-11-05 02:20:26,584 : INFO : EPOCH 5 - PROGRESS: at 72.64% examples, 304344 words/s, in_qsize 12, out_qsize 3\n",
      "2019-11-05 02:20:27,589 : INFO : EPOCH 5 - PROGRESS: at 76.77% examples, 305908 words/s, in_qsize 14, out_qsize 1\n",
      "2019-11-05 02:20:28,610 : INFO : EPOCH 5 - PROGRESS: at 80.58% examples, 305891 words/s, in_qsize 16, out_qsize 0\n",
      "2019-11-05 02:20:29,652 : INFO : EPOCH 5 - PROGRESS: at 84.15% examples, 304809 words/s, in_qsize 16, out_qsize 3\n",
      "2019-11-05 02:20:30,663 : INFO : EPOCH 5 - PROGRESS: at 87.72% examples, 304202 words/s, in_qsize 15, out_qsize 2\n",
      "2019-11-05 02:20:31,707 : INFO : EPOCH 5 - PROGRESS: at 91.96% examples, 305723 words/s, in_qsize 12, out_qsize 4\n",
      "2019-11-05 02:20:32,703 : INFO : EPOCH 5 - PROGRESS: at 95.99% examples, 306380 words/s, in_qsize 15, out_qsize 0\n",
      "2019-11-05 02:20:33,557 : INFO : worker thread finished; awaiting finish of 7 more threads\n",
      "2019-11-05 02:20:33,561 : INFO : worker thread finished; awaiting finish of 6 more threads\n",
      "2019-11-05 02:20:33,564 : INFO : worker thread finished; awaiting finish of 5 more threads\n",
      "2019-11-05 02:20:33,604 : INFO : worker thread finished; awaiting finish of 4 more threads\n",
      "2019-11-05 02:20:33,606 : INFO : worker thread finished; awaiting finish of 3 more threads\n",
      "2019-11-05 02:20:33,616 : INFO : worker thread finished; awaiting finish of 2 more threads\n",
      "2019-11-05 02:20:33,625 : INFO : worker thread finished; awaiting finish of 1 more threads\n",
      "2019-11-05 02:20:33,627 : INFO : worker thread finished; awaiting finish of 0 more threads\n",
      "2019-11-05 02:20:33,628 : INFO : EPOCH - 5 : training on 9227204 raw words (8223622 effective words) took 26.7s, 308155 effective words/s\n",
      "2019-11-05 02:20:34,717 : INFO : EPOCH 6 - PROGRESS: at 3.36% examples, 256172 words/s, in_qsize 15, out_qsize 0\n",
      "2019-11-05 02:20:35,719 : INFO : EPOCH 6 - PROGRESS: at 7.60% examples, 299661 words/s, in_qsize 15, out_qsize 0\n",
      "2019-11-05 02:20:36,727 : INFO : EPOCH 6 - PROGRESS: at 11.19% examples, 297703 words/s, in_qsize 12, out_qsize 2\n",
      "2019-11-05 02:20:37,775 : INFO : EPOCH 6 - PROGRESS: at 15.19% examples, 301467 words/s, in_qsize 15, out_qsize 0\n",
      "2019-11-05 02:20:38,805 : INFO : EPOCH 6 - PROGRESS: at 18.86% examples, 299914 words/s, in_qsize 15, out_qsize 0\n",
      "2019-11-05 02:20:39,873 : INFO : EPOCH 6 - PROGRESS: at 22.77% examples, 299971 words/s, in_qsize 13, out_qsize 4\n",
      "2019-11-05 02:20:40,901 : INFO : EPOCH 6 - PROGRESS: at 26.99% examples, 305404 words/s, in_qsize 15, out_qsize 0\n",
      "2019-11-05 02:20:41,947 : INFO : EPOCH 6 - PROGRESS: at 30.67% examples, 303440 words/s, in_qsize 15, out_qsize 0\n",
      "2019-11-05 02:20:42,970 : INFO : EPOCH 6 - PROGRESS: at 34.67% examples, 305490 words/s, in_qsize 14, out_qsize 1\n",
      "2019-11-05 02:20:43,977 : INFO : EPOCH 6 - PROGRESS: at 38.46% examples, 306043 words/s, in_qsize 16, out_qsize 0\n",
      "2019-11-05 02:20:45,003 : INFO : EPOCH 6 - PROGRESS: at 42.57% examples, 308077 words/s, in_qsize 13, out_qsize 0\n",
      "2019-11-05 02:20:46,056 : INFO : EPOCH 6 - PROGRESS: at 46.24% examples, 306908 words/s, in_qsize 15, out_qsize 0\n",
      "2019-11-05 02:20:47,044 : INFO : EPOCH 6 - PROGRESS: at 50.02% examples, 307018 words/s, in_qsize 14, out_qsize 1\n",
      "2019-11-05 02:20:48,055 : INFO : EPOCH 6 - PROGRESS: at 54.03% examples, 308366 words/s, in_qsize 14, out_qsize 1\n",
      "2019-11-05 02:20:49,072 : INFO : EPOCH 6 - PROGRESS: at 57.92% examples, 308826 words/s, in_qsize 13, out_qsize 0\n",
      "2019-11-05 02:20:50,109 : INFO : EPOCH 6 - PROGRESS: at 61.82% examples, 308837 words/s, in_qsize 13, out_qsize 2\n",
      "2019-11-05 02:20:51,161 : INFO : EPOCH 6 - PROGRESS: at 65.50% examples, 307574 words/s, in_qsize 16, out_qsize 1\n",
      "2019-11-05 02:20:52,203 : INFO : EPOCH 6 - PROGRESS: at 69.72% examples, 309029 words/s, in_qsize 12, out_qsize 1\n",
      "2019-11-05 02:20:53,206 : INFO : EPOCH 6 - PROGRESS: at 73.41% examples, 308652 words/s, in_qsize 15, out_qsize 0\n",
      "2019-11-05 02:20:54,261 : INFO : EPOCH 6 - PROGRESS: at 77.52% examples, 309261 words/s, in_qsize 15, out_qsize 0\n",
      "2019-11-05 02:20:55,290 : INFO : EPOCH 6 - PROGRESS: at 81.12% examples, 308157 words/s, in_qsize 16, out_qsize 1\n",
      "2019-11-05 02:20:56,298 : INFO : EPOCH 6 - PROGRESS: at 85.02% examples, 308586 words/s, in_qsize 14, out_qsize 1\n",
      "2019-11-05 02:20:57,351 : INFO : EPOCH 6 - PROGRESS: at 88.91% examples, 308467 words/s, in_qsize 14, out_qsize 3\n",
      "2019-11-05 02:20:58,360 : INFO : EPOCH 6 - PROGRESS: at 93.15% examples, 309851 words/s, in_qsize 16, out_qsize 0\n",
      "2019-11-05 02:20:59,377 : INFO : EPOCH 6 - PROGRESS: at 96.85% examples, 309379 words/s, in_qsize 16, out_qsize 1\n",
      "2019-11-05 02:20:59,997 : INFO : worker thread finished; awaiting finish of 7 more threads\n",
      "2019-11-05 02:21:00,045 : INFO : worker thread finished; awaiting finish of 6 more threads\n",
      "2019-11-05 02:21:00,064 : INFO : worker thread finished; awaiting finish of 5 more threads\n",
      "2019-11-05 02:21:00,077 : INFO : worker thread finished; awaiting finish of 4 more threads\n",
      "2019-11-05 02:21:00,080 : INFO : worker thread finished; awaiting finish of 3 more threads\n",
      "2019-11-05 02:21:00,100 : INFO : worker thread finished; awaiting finish of 2 more threads\n",
      "2019-11-05 02:21:00,102 : INFO : worker thread finished; awaiting finish of 1 more threads\n",
      "2019-11-05 02:21:00,102 : INFO : worker thread finished; awaiting finish of 0 more threads\n",
      "2019-11-05 02:21:00,103 : INFO : EPOCH - 6 : training on 9227204 raw words (8222255 effective words) took 26.5s, 310686 effective words/s\n",
      "2019-11-05 02:21:01,226 : INFO : EPOCH 7 - PROGRESS: at 3.47% examples, 256707 words/s, in_qsize 15, out_qsize 0\n",
      "2019-11-05 02:21:02,266 : INFO : EPOCH 7 - PROGRESS: at 7.27% examples, 277371 words/s, in_qsize 14, out_qsize 1\n",
      "2019-11-05 02:21:03,286 : INFO : EPOCH 7 - PROGRESS: at 11.30% examples, 292185 words/s, in_qsize 14, out_qsize 1\n",
      "2019-11-05 02:21:04,303 : INFO : EPOCH 7 - PROGRESS: at 15.30% examples, 299866 words/s, in_qsize 14, out_qsize 0\n",
      "2019-11-05 02:21:05,316 : INFO : EPOCH 7 - PROGRESS: at 19.08% examples, 301374 words/s, in_qsize 13, out_qsize 1\n",
      "2019-11-05 02:21:06,348 : INFO : EPOCH 7 - PROGRESS: at 23.09% examples, 304428 words/s, in_qsize 15, out_qsize 0\n",
      "2019-11-05 02:21:07,359 : INFO : EPOCH 7 - PROGRESS: at 26.88% examples, 305012 words/s, in_qsize 15, out_qsize 0\n",
      "2019-11-05 02:21:08,375 : INFO : EPOCH 7 - PROGRESS: at 30.46% examples, 303109 words/s, in_qsize 15, out_qsize 2\n",
      "2019-11-05 02:21:09,395 : INFO : EPOCH 7 - PROGRESS: at 34.24% examples, 303350 words/s, in_qsize 15, out_qsize 1\n",
      "2019-11-05 02:21:10,445 : INFO : EPOCH 7 - PROGRESS: at 38.57% examples, 307017 words/s, in_qsize 14, out_qsize 0\n",
      "2019-11-05 02:21:11,451 : INFO : EPOCH 7 - PROGRESS: at 42.35% examples, 307250 words/s, in_qsize 15, out_qsize 0\n",
      "2019-11-05 02:21:12,514 : INFO : EPOCH 7 - PROGRESS: at 46.13% examples, 306068 words/s, in_qsize 15, out_qsize 2\n",
      "2019-11-05 02:21:13,581 : INFO : EPOCH 7 - PROGRESS: at 50.13% examples, 306319 words/s, in_qsize 15, out_qsize 0\n",
      "2019-11-05 02:21:14,684 : INFO : EPOCH 7 - PROGRESS: at 54.24% examples, 306370 words/s, in_qsize 15, out_qsize 0\n",
      "2019-11-05 02:21:15,748 : INFO : EPOCH 7 - PROGRESS: at 58.47% examples, 307752 words/s, in_qsize 16, out_qsize 0\n",
      "2019-11-05 02:21:16,775 : INFO : EPOCH 7 - PROGRESS: at 62.25% examples, 307505 words/s, in_qsize 16, out_qsize 0\n",
      "2019-11-05 02:21:17,875 : INFO : EPOCH 7 - PROGRESS: at 65.94% examples, 306113 words/s, in_qsize 15, out_qsize 2\n",
      "2019-11-05 02:21:18,847 : INFO : EPOCH 7 - PROGRESS: at 69.72% examples, 306327 words/s, in_qsize 16, out_qsize 0\n",
      "2019-11-05 02:21:19,937 : INFO : EPOCH 7 - PROGRESS: at 73.73% examples, 306103 words/s, in_qsize 16, out_qsize 0\n",
      "2019-11-05 02:21:20,964 : INFO : EPOCH 7 - PROGRESS: at 77.85% examples, 307240 words/s, in_qsize 14, out_qsize 1\n",
      "2019-11-05 02:21:21,990 : INFO : EPOCH 7 - PROGRESS: at 81.77% examples, 307500 words/s, in_qsize 15, out_qsize 0\n",
      "2019-11-05 02:21:22,993 : INFO : EPOCH 7 - PROGRESS: at 85.34% examples, 306869 words/s, in_qsize 15, out_qsize 0\n",
      "2019-11-05 02:21:24,017 : INFO : EPOCH 7 - PROGRESS: at 89.13% examples, 306760 words/s, in_qsize 15, out_qsize 0\n",
      "2019-11-05 02:21:25,021 : INFO : EPOCH 7 - PROGRESS: at 93.15% examples, 307612 words/s, in_qsize 15, out_qsize 0\n",
      "2019-11-05 02:21:26,039 : INFO : EPOCH 7 - PROGRESS: at 96.85% examples, 307208 words/s, in_qsize 16, out_qsize 1\n",
      "2019-11-05 02:21:26,605 : INFO : worker thread finished; awaiting finish of 7 more threads\n",
      "2019-11-05 02:21:26,614 : INFO : worker thread finished; awaiting finish of 6 more threads\n",
      "2019-11-05 02:21:26,617 : INFO : worker thread finished; awaiting finish of 5 more threads\n",
      "2019-11-05 02:21:26,670 : INFO : worker thread finished; awaiting finish of 4 more threads\n",
      "2019-11-05 02:21:26,683 : INFO : worker thread finished; awaiting finish of 3 more threads\n",
      "2019-11-05 02:21:26,691 : INFO : worker thread finished; awaiting finish of 2 more threads\n",
      "2019-11-05 02:21:26,694 : INFO : worker thread finished; awaiting finish of 1 more threads\n",
      "2019-11-05 02:21:26,699 : INFO : worker thread finished; awaiting finish of 0 more threads\n",
      "2019-11-05 02:21:26,700 : INFO : EPOCH - 7 : training on 9227204 raw words (8223357 effective words) took 26.6s, 309321 effective words/s\n",
      "2019-11-05 02:21:27,742 : INFO : EPOCH 8 - PROGRESS: at 3.25% examples, 260463 words/s, in_qsize 16, out_qsize 0\n",
      "2019-11-05 02:21:28,762 : INFO : EPOCH 8 - PROGRESS: at 7.16% examples, 287397 words/s, in_qsize 15, out_qsize 0\n",
      "2019-11-05 02:21:29,848 : INFO : EPOCH 8 - PROGRESS: at 11.19% examples, 293078 words/s, in_qsize 15, out_qsize 0\n",
      "2019-11-05 02:21:30,862 : INFO : EPOCH 8 - PROGRESS: at 15.30% examples, 302997 words/s, in_qsize 15, out_qsize 0\n",
      "2019-11-05 02:21:31,864 : INFO : EPOCH 8 - PROGRESS: at 18.97% examples, 302799 words/s, in_qsize 15, out_qsize 0\n",
      "2019-11-05 02:21:32,887 : INFO : EPOCH 8 - PROGRESS: at 22.66% examples, 301757 words/s, in_qsize 15, out_qsize 0\n",
      "2019-11-05 02:21:33,913 : INFO : EPOCH 8 - PROGRESS: at 26.78% examples, 305773 words/s, in_qsize 15, out_qsize 0\n",
      "2019-11-05 02:21:34,977 : INFO : EPOCH 8 - PROGRESS: at 30.67% examples, 305253 words/s, in_qsize 11, out_qsize 0\n",
      "2019-11-05 02:21:35,983 : INFO : EPOCH 8 - PROGRESS: at 34.57% examples, 306696 words/s, in_qsize 16, out_qsize 0\n",
      "2019-11-05 02:21:37,012 : INFO : EPOCH 8 - PROGRESS: at 38.24% examples, 305450 words/s, in_qsize 15, out_qsize 0\n",
      "2019-11-05 02:21:38,057 : INFO : EPOCH 8 - PROGRESS: at 42.13% examples, 305570 words/s, in_qsize 15, out_qsize 0\n",
      "2019-11-05 02:21:39,066 : INFO : EPOCH 8 - PROGRESS: at 46.02% examples, 306586 words/s, in_qsize 15, out_qsize 1\n",
      "2019-11-05 02:21:40,088 : INFO : EPOCH 8 - PROGRESS: at 49.92% examples, 307113 words/s, in_qsize 14, out_qsize 1\n",
      "2019-11-05 02:21:41,094 : INFO : EPOCH 8 - PROGRESS: at 53.59% examples, 306691 words/s, in_qsize 15, out_qsize 0\n",
      "2019-11-05 02:21:42,119 : INFO : EPOCH 8 - PROGRESS: at 57.17% examples, 305386 words/s, in_qsize 16, out_qsize 0\n",
      "2019-11-05 02:21:43,145 : INFO : EPOCH 8 - PROGRESS: at 61.50% examples, 308003 words/s, in_qsize 13, out_qsize 0\n",
      "2019-11-05 02:21:44,159 : INFO : EPOCH 8 - PROGRESS: at 65.50% examples, 308984 words/s, in_qsize 15, out_qsize 0\n",
      "2019-11-05 02:21:45,206 : INFO : EPOCH 8 - PROGRESS: at 68.96% examples, 307592 words/s, in_qsize 15, out_qsize 0\n",
      "2019-11-05 02:21:46,174 : INFO : EPOCH 8 - PROGRESS: at 72.86% examples, 308096 words/s, in_qsize 15, out_qsize 0\n",
      "2019-11-05 02:21:47,205 : INFO : EPOCH 8 - PROGRESS: at 76.77% examples, 308246 words/s, in_qsize 16, out_qsize 0\n",
      "2019-11-05 02:21:48,237 : INFO : EPOCH 8 - PROGRESS: at 80.90% examples, 309194 words/s, in_qsize 15, out_qsize 0\n",
      "2019-11-05 02:21:49,238 : INFO : EPOCH 8 - PROGRESS: at 84.26% examples, 307726 words/s, in_qsize 15, out_qsize 0\n",
      "2019-11-05 02:21:50,248 : INFO : EPOCH 8 - PROGRESS: at 88.15% examples, 308132 words/s, in_qsize 16, out_qsize 1\n",
      "2019-11-05 02:21:51,286 : INFO : EPOCH 8 - PROGRESS: at 92.06% examples, 308150 words/s, in_qsize 15, out_qsize 0\n",
      "2019-11-05 02:21:52,323 : INFO : EPOCH 8 - PROGRESS: at 95.99% examples, 308189 words/s, in_qsize 16, out_qsize 0\n",
      "2019-11-05 02:21:53,179 : INFO : worker thread finished; awaiting finish of 7 more threads\n",
      "2019-11-05 02:21:53,182 : INFO : worker thread finished; awaiting finish of 6 more threads\n",
      "2019-11-05 02:21:53,185 : INFO : worker thread finished; awaiting finish of 5 more threads\n",
      "2019-11-05 02:21:53,209 : INFO : worker thread finished; awaiting finish of 4 more threads\n",
      "2019-11-05 02:21:53,232 : INFO : worker thread finished; awaiting finish of 3 more threads\n",
      "2019-11-05 02:21:53,234 : INFO : worker thread finished; awaiting finish of 2 more threads\n",
      "2019-11-05 02:21:53,243 : INFO : worker thread finished; awaiting finish of 1 more threads\n",
      "2019-11-05 02:21:53,253 : INFO : worker thread finished; awaiting finish of 0 more threads\n",
      "2019-11-05 02:21:53,254 : INFO : EPOCH - 8 : training on 9227204 raw words (8222287 effective words) took 26.5s, 309835 effective words/s\n",
      "2019-11-05 02:21:54,268 : INFO : EPOCH 9 - PROGRESS: at 3.14% examples, 257177 words/s, in_qsize 9, out_qsize 2\n",
      "2019-11-05 02:21:55,313 : INFO : EPOCH 9 - PROGRESS: at 7.27% examples, 291201 words/s, in_qsize 16, out_qsize 1\n",
      "2019-11-05 02:21:56,314 : INFO : EPOCH 9 - PROGRESS: at 10.86% examples, 292121 words/s, in_qsize 11, out_qsize 5\n",
      "2019-11-05 02:21:57,333 : INFO : EPOCH 9 - PROGRESS: at 15.08% examples, 304194 words/s, in_qsize 15, out_qsize 0\n",
      "2019-11-05 02:21:58,367 : INFO : EPOCH 9 - PROGRESS: at 18.76% examples, 301881 words/s, in_qsize 16, out_qsize 1\n",
      "2019-11-05 02:21:59,376 : INFO : EPOCH 9 - PROGRESS: at 22.65% examples, 304563 words/s, in_qsize 15, out_qsize 0\n",
      "2019-11-05 02:22:00,443 : INFO : EPOCH 9 - PROGRESS: at 26.45% examples, 302708 words/s, in_qsize 14, out_qsize 1\n",
      "2019-11-05 02:22:01,447 : INFO : EPOCH 9 - PROGRESS: at 30.56% examples, 307001 words/s, in_qsize 15, out_qsize 0\n",
      "2019-11-05 02:22:02,477 : INFO : EPOCH 9 - PROGRESS: at 34.24% examples, 305512 words/s, in_qsize 15, out_qsize 0\n",
      "2019-11-05 02:22:03,488 : INFO : EPOCH 9 - PROGRESS: at 38.14% examples, 306676 words/s, in_qsize 15, out_qsize 0\n",
      "2019-11-05 02:22:04,522 : INFO : EPOCH 9 - PROGRESS: at 41.81% examples, 305375 words/s, in_qsize 16, out_qsize 0\n",
      "2019-11-05 02:22:05,627 : INFO : EPOCH 9 - PROGRESS: at 45.81% examples, 304731 words/s, in_qsize 15, out_qsize 2\n",
      "2019-11-05 02:22:06,628 : INFO : EPOCH 9 - PROGRESS: at 49.70% examples, 305909 words/s, in_qsize 13, out_qsize 2\n",
      "2019-11-05 02:22:07,645 : INFO : EPOCH 9 - PROGRESS: at 53.70% examples, 307226 words/s, in_qsize 13, out_qsize 2\n",
      "2019-11-05 02:22:08,684 : INFO : EPOCH 9 - PROGRESS: at 57.49% examples, 306750 words/s, in_qsize 13, out_qsize 2\n",
      "2019-11-05 02:22:09,708 : INFO : EPOCH 9 - PROGRESS: at 61.28% examples, 306607 words/s, in_qsize 15, out_qsize 0\n",
      "2019-11-05 02:22:10,744 : INFO : EPOCH 9 - PROGRESS: at 65.38% examples, 307802 words/s, in_qsize 15, out_qsize 0\n",
      "2019-11-05 02:22:11,779 : INFO : EPOCH 9 - PROGRESS: at 69.40% examples, 308383 words/s, in_qsize 15, out_qsize 0\n",
      "2019-11-05 02:22:12,781 : INFO : EPOCH 9 - PROGRESS: at 73.08% examples, 308061 words/s, in_qsize 16, out_qsize 0\n",
      "2019-11-05 02:22:13,919 : INFO : EPOCH 9 - PROGRESS: at 77.20% examples, 307483 words/s, in_qsize 16, out_qsize 1\n",
      "2019-11-05 02:22:14,934 : INFO : EPOCH 9 - PROGRESS: at 81.45% examples, 309115 words/s, in_qsize 14, out_qsize 1\n",
      "2019-11-05 02:22:15,942 : INFO : EPOCH 9 - PROGRESS: at 84.91% examples, 307952 words/s, in_qsize 15, out_qsize 0\n",
      "2019-11-05 02:22:16,974 : INFO : EPOCH 9 - PROGRESS: at 88.91% examples, 308435 words/s, in_qsize 16, out_qsize 0\n",
      "2019-11-05 02:22:17,990 : INFO : EPOCH 9 - PROGRESS: at 92.94% examples, 309066 words/s, in_qsize 15, out_qsize 0\n",
      "2019-11-05 02:22:18,997 : INFO : EPOCH 9 - PROGRESS: at 96.53% examples, 308412 words/s, in_qsize 15, out_qsize 0\n",
      "2019-11-05 02:22:19,689 : INFO : worker thread finished; awaiting finish of 7 more threads\n",
      "2019-11-05 02:22:19,694 : INFO : worker thread finished; awaiting finish of 6 more threads\n",
      "2019-11-05 02:22:19,707 : INFO : worker thread finished; awaiting finish of 5 more threads\n",
      "2019-11-05 02:22:19,725 : INFO : worker thread finished; awaiting finish of 4 more threads\n",
      "2019-11-05 02:22:19,728 : INFO : worker thread finished; awaiting finish of 3 more threads\n",
      "2019-11-05 02:22:19,752 : INFO : worker thread finished; awaiting finish of 2 more threads\n",
      "2019-11-05 02:22:19,754 : INFO : worker thread finished; awaiting finish of 1 more threads\n",
      "2019-11-05 02:22:19,755 : INFO : worker thread finished; awaiting finish of 0 more threads\n",
      "2019-11-05 02:22:19,756 : INFO : EPOCH - 9 : training on 9227204 raw words (8222309 effective words) took 26.5s, 310373 effective words/s\n",
      "2019-11-05 02:22:20,807 : INFO : EPOCH 10 - PROGRESS: at 3.14% examples, 248115 words/s, in_qsize 15, out_qsize 0\n",
      "2019-11-05 02:22:21,877 : INFO : EPOCH 10 - PROGRESS: at 7.17% examples, 278427 words/s, in_qsize 14, out_qsize 1\n",
      "2019-11-05 02:22:22,907 : INFO : EPOCH 10 - PROGRESS: at 11.30% examples, 295104 words/s, in_qsize 14, out_qsize 0\n",
      "2019-11-05 02:22:23,919 : INFO : EPOCH 10 - PROGRESS: at 14.97% examples, 296034 words/s, in_qsize 16, out_qsize 0\n",
      "2019-11-05 02:22:24,929 : INFO : EPOCH 10 - PROGRESS: at 19.08% examples, 303661 words/s, in_qsize 14, out_qsize 0\n",
      "2019-11-05 02:22:25,983 : INFO : EPOCH 10 - PROGRESS: at 22.98% examples, 303775 words/s, in_qsize 12, out_qsize 2\n",
      "2019-11-05 02:22:27,020 : INFO : EPOCH 10 - PROGRESS: at 27.10% examples, 307534 words/s, in_qsize 11, out_qsize 2\n",
      "2019-11-05 02:22:28,137 : INFO : EPOCH 10 - PROGRESS: at 31.10% examples, 305446 words/s, in_qsize 14, out_qsize 1\n",
      "2019-11-05 02:22:29,204 : INFO : EPOCH 10 - PROGRESS: at 35.11% examples, 305842 words/s, in_qsize 15, out_qsize 0\n",
      "2019-11-05 02:22:30,267 : INFO : EPOCH 10 - PROGRESS: at 39.33% examples, 307967 words/s, in_qsize 15, out_qsize 2\n",
      "2019-11-05 02:22:31,288 : INFO : EPOCH 10 - PROGRESS: at 43.32% examples, 309264 words/s, in_qsize 15, out_qsize 1\n",
      "2019-11-05 02:22:32,360 : INFO : EPOCH 10 - PROGRESS: at 47.10% examples, 308537 words/s, in_qsize 15, out_qsize 0\n",
      "2019-11-05 02:22:33,331 : INFO : EPOCH 10 - PROGRESS: at 51.32% examples, 311278 words/s, in_qsize 13, out_qsize 0\n",
      "2019-11-05 02:22:34,352 : INFO : EPOCH 10 - PROGRESS: at 54.99% examples, 310266 words/s, in_qsize 15, out_qsize 0\n",
      "2019-11-05 02:22:35,433 : INFO : EPOCH 10 - PROGRESS: at 59.01% examples, 309920 words/s, in_qsize 15, out_qsize 0\n",
      "2019-11-05 02:22:36,471 : INFO : EPOCH 10 - PROGRESS: at 63.00% examples, 310386 words/s, in_qsize 16, out_qsize 0\n",
      "2019-11-05 02:22:37,483 : INFO : EPOCH 10 - PROGRESS: at 66.80% examples, 310253 words/s, in_qsize 15, out_qsize 0\n",
      "2019-11-05 02:22:38,493 : INFO : EPOCH 10 - PROGRESS: at 70.69% examples, 310637 words/s, in_qsize 15, out_qsize 0\n",
      "2019-11-05 02:22:39,500 : INFO : EPOCH 10 - PROGRESS: at 74.05% examples, 308785 words/s, in_qsize 14, out_qsize 2\n",
      "2019-11-05 02:22:40,529 : INFO : EPOCH 10 - PROGRESS: at 78.51% examples, 311065 words/s, in_qsize 14, out_qsize 0\n",
      "2019-11-05 02:22:41,618 : INFO : EPOCH 10 - PROGRESS: at 82.42% examples, 310238 words/s, in_qsize 15, out_qsize 0\n",
      "2019-11-05 02:22:42,765 : INFO : EPOCH 10 - PROGRESS: at 86.21% examples, 308313 words/s, in_qsize 16, out_qsize 0\n",
      "2019-11-05 02:22:43,796 : INFO : EPOCH 10 - PROGRESS: at 88.27% examples, 302128 words/s, in_qsize 16, out_qsize 2\n",
      "2019-11-05 02:22:44,829 : INFO : EPOCH 10 - PROGRESS: at 91.42% examples, 300046 words/s, in_qsize 14, out_qsize 1\n",
      "2019-11-05 02:22:45,834 : INFO : EPOCH 10 - PROGRESS: at 95.01% examples, 299663 words/s, in_qsize 15, out_qsize 0\n",
      "2019-11-05 02:22:46,852 : INFO : EPOCH 10 - PROGRESS: at 98.69% examples, 299582 words/s, in_qsize 12, out_qsize 1\n",
      "2019-11-05 02:22:46,954 : INFO : worker thread finished; awaiting finish of 7 more threads\n",
      "2019-11-05 02:22:46,969 : INFO : worker thread finished; awaiting finish of 6 more threads\n",
      "2019-11-05 02:22:46,973 : INFO : worker thread finished; awaiting finish of 5 more threads\n",
      "2019-11-05 02:22:47,021 : INFO : worker thread finished; awaiting finish of 4 more threads\n",
      "2019-11-05 02:22:47,039 : INFO : worker thread finished; awaiting finish of 3 more threads\n",
      "2019-11-05 02:22:47,050 : INFO : worker thread finished; awaiting finish of 2 more threads\n",
      "2019-11-05 02:22:47,053 : INFO : worker thread finished; awaiting finish of 1 more threads\n",
      "2019-11-05 02:22:47,062 : INFO : worker thread finished; awaiting finish of 0 more threads\n",
      "2019-11-05 02:22:47,063 : INFO : EPOCH - 10 : training on 9227204 raw words (8222622 effective words) took 27.3s, 301230 effective words/s\n",
      "2019-11-05 02:22:48,101 : INFO : EPOCH 11 - PROGRESS: at 3.47% examples, 277157 words/s, in_qsize 16, out_qsize 0\n",
      "2019-11-05 02:22:49,138 : INFO : EPOCH 11 - PROGRESS: at 7.27% examples, 289017 words/s, in_qsize 16, out_qsize 0\n",
      "2019-11-05 02:22:50,169 : INFO : EPOCH 11 - PROGRESS: at 11.19% examples, 296504 words/s, in_qsize 14, out_qsize 0\n",
      "2019-11-05 02:22:51,194 : INFO : EPOCH 11 - PROGRESS: at 15.08% examples, 300492 words/s, in_qsize 16, out_qsize 0\n",
      "2019-11-05 02:22:52,229 : INFO : EPOCH 11 - PROGRESS: at 18.75% examples, 298860 words/s, in_qsize 15, out_qsize 0\n",
      "2019-11-05 02:22:53,260 : INFO : EPOCH 11 - PROGRESS: at 22.76% examples, 302400 words/s, in_qsize 15, out_qsize 0\n",
      "2019-11-05 02:22:54,268 : INFO : EPOCH 11 - PROGRESS: at 26.78% examples, 305843 words/s, in_qsize 13, out_qsize 0\n",
      "2019-11-05 02:22:55,292 : INFO : EPOCH 11 - PROGRESS: at 30.24% examples, 302412 words/s, in_qsize 14, out_qsize 1\n",
      "2019-11-05 02:22:56,297 : INFO : EPOCH 11 - PROGRESS: at 34.24% examples, 305181 words/s, in_qsize 16, out_qsize 0\n",
      "2019-11-05 02:22:57,443 : INFO : EPOCH 11 - PROGRESS: at 38.25% examples, 303230 words/s, in_qsize 15, out_qsize 0\n",
      "2019-11-05 02:22:58,464 : INFO : EPOCH 11 - PROGRESS: at 42.35% examples, 305769 words/s, in_qsize 15, out_qsize 0\n",
      "2019-11-05 02:22:59,468 : INFO : EPOCH 11 - PROGRESS: at 46.02% examples, 305433 words/s, in_qsize 15, out_qsize 0\n",
      "2019-11-05 02:23:00,494 : INFO : EPOCH 11 - PROGRESS: at 50.13% examples, 307329 words/s, in_qsize 13, out_qsize 0\n",
      "2019-11-05 02:23:01,531 : INFO : EPOCH 11 - PROGRESS: at 53.81% examples, 306241 words/s, in_qsize 15, out_qsize 2\n",
      "2019-11-05 02:23:02,570 : INFO : EPOCH 11 - PROGRESS: at 57.81% examples, 306997 words/s, in_qsize 16, out_qsize 0\n",
      "2019-11-05 02:23:03,592 : INFO : EPOCH 11 - PROGRESS: at 61.82% examples, 307977 words/s, in_qsize 15, out_qsize 0\n",
      "2019-11-05 02:23:04,640 : INFO : EPOCH 11 - PROGRESS: at 65.72% examples, 307840 words/s, in_qsize 15, out_qsize 0\n",
      "2019-11-05 02:23:05,832 : INFO : EPOCH 11 - PROGRESS: at 69.94% examples, 306821 words/s, in_qsize 14, out_qsize 3\n",
      "2019-11-05 02:23:06,835 : INFO : EPOCH 11 - PROGRESS: at 74.27% examples, 309271 words/s, in_qsize 15, out_qsize 0\n",
      "2019-11-05 02:23:07,941 : INFO : EPOCH 11 - PROGRESS: at 78.18% examples, 308231 words/s, in_qsize 15, out_qsize 0\n",
      "2019-11-05 02:23:08,942 : INFO : EPOCH 11 - PROGRESS: at 82.21% examples, 309220 words/s, in_qsize 16, out_qsize 1\n",
      "2019-11-05 02:23:09,953 : INFO : EPOCH 11 - PROGRESS: at 85.99% examples, 309158 words/s, in_qsize 15, out_qsize 0\n",
      "2019-11-05 02:23:10,967 : INFO : EPOCH 11 - PROGRESS: at 90.00% examples, 309842 words/s, in_qsize 15, out_qsize 0\n",
      "2019-11-05 02:23:12,006 : INFO : EPOCH 11 - PROGRESS: at 93.70% examples, 309044 words/s, in_qsize 16, out_qsize 1\n",
      "2019-11-05 02:23:13,034 : INFO : EPOCH 11 - PROGRESS: at 98.04% examples, 310533 words/s, in_qsize 16, out_qsize 1\n",
      "2019-11-05 02:23:13,334 : INFO : worker thread finished; awaiting finish of 7 more threads\n",
      "2019-11-05 02:23:13,356 : INFO : worker thread finished; awaiting finish of 6 more threads\n",
      "2019-11-05 02:23:13,390 : INFO : worker thread finished; awaiting finish of 5 more threads\n",
      "2019-11-05 02:23:13,410 : INFO : worker thread finished; awaiting finish of 4 more threads\n",
      "2019-11-05 02:23:13,433 : INFO : worker thread finished; awaiting finish of 3 more threads\n",
      "2019-11-05 02:23:13,445 : INFO : worker thread finished; awaiting finish of 2 more threads\n",
      "2019-11-05 02:23:13,447 : INFO : worker thread finished; awaiting finish of 1 more threads\n",
      "2019-11-05 02:23:13,452 : INFO : worker thread finished; awaiting finish of 0 more threads\n",
      "2019-11-05 02:23:13,453 : INFO : EPOCH - 11 : training on 9227204 raw words (8222991 effective words) took 26.4s, 311718 effective words/s\n",
      "2019-11-05 02:23:14,513 : INFO : EPOCH 12 - PROGRESS: at 3.36% examples, 266983 words/s, in_qsize 15, out_qsize 4\n",
      "2019-11-05 02:23:15,523 : INFO : EPOCH 12 - PROGRESS: at 7.28% examples, 291881 words/s, in_qsize 15, out_qsize 3\n",
      "2019-11-05 02:23:16,572 : INFO : EPOCH 12 - PROGRESS: at 11.51% examples, 305403 words/s, in_qsize 15, out_qsize 0\n",
      "2019-11-05 02:23:17,647 : INFO : EPOCH 12 - PROGRESS: at 15.30% examples, 301275 words/s, in_qsize 16, out_qsize 0\n",
      "2019-11-05 02:23:18,681 : INFO : EPOCH 12 - PROGRESS: at 19.40% examples, 306477 words/s, in_qsize 16, out_qsize 0\n",
      "2019-11-05 02:23:19,689 : INFO : EPOCH 12 - PROGRESS: at 23.20% examples, 306932 words/s, in_qsize 16, out_qsize 0\n",
      "2019-11-05 02:23:20,766 : INFO : EPOCH 12 - PROGRESS: at 26.99% examples, 304331 words/s, in_qsize 14, out_qsize 2\n",
      "2019-11-05 02:23:21,772 : INFO : EPOCH 12 - PROGRESS: at 30.99% examples, 307205 words/s, in_qsize 15, out_qsize 0\n",
      "2019-11-05 02:23:22,778 : INFO : EPOCH 12 - PROGRESS: at 34.57% examples, 305542 words/s, in_qsize 16, out_qsize 1\n",
      "2019-11-05 02:23:23,781 : INFO : EPOCH 12 - PROGRESS: at 38.35% examples, 306072 words/s, in_qsize 12, out_qsize 4\n",
      "2019-11-05 02:23:24,920 : INFO : EPOCH 12 - PROGRESS: at 42.68% examples, 307610 words/s, in_qsize 15, out_qsize 3\n",
      "2019-11-05 02:23:25,905 : INFO : EPOCH 12 - PROGRESS: at 46.78% examples, 309650 words/s, in_qsize 14, out_qsize 1\n",
      "2019-11-05 02:23:26,929 : INFO : EPOCH 12 - PROGRESS: at 50.35% examples, 307931 words/s, in_qsize 15, out_qsize 0\n",
      "2019-11-05 02:23:27,932 : INFO : EPOCH 12 - PROGRESS: at 54.46% examples, 310009 words/s, in_qsize 15, out_qsize 0\n",
      "2019-11-05 02:23:28,953 : INFO : EPOCH 12 - PROGRESS: at 58.14% examples, 309155 words/s, in_qsize 15, out_qsize 0\n",
      "2019-11-05 02:23:30,105 : INFO : EPOCH 12 - PROGRESS: at 62.36% examples, 308629 words/s, in_qsize 14, out_qsize 3\n",
      "2019-11-05 02:23:31,118 : INFO : EPOCH 12 - PROGRESS: at 66.58% examples, 310691 words/s, in_qsize 16, out_qsize 0\n",
      "2019-11-05 02:23:32,156 : INFO : EPOCH 12 - PROGRESS: at 70.37% examples, 310033 words/s, in_qsize 15, out_qsize 0\n",
      "2019-11-05 02:23:33,224 : INFO : EPOCH 12 - PROGRESS: at 74.16% examples, 309311 words/s, in_qsize 15, out_qsize 2\n",
      "2019-11-05 02:23:34,246 : INFO : EPOCH 12 - PROGRESS: at 78.18% examples, 309713 words/s, in_qsize 16, out_qsize 0\n",
      "2019-11-05 02:23:35,272 : INFO : EPOCH 12 - PROGRESS: at 81.99% examples, 309440 words/s, in_qsize 15, out_qsize 0\n",
      "2019-11-05 02:23:36,308 : INFO : EPOCH 12 - PROGRESS: at 85.99% examples, 309820 words/s, in_qsize 15, out_qsize 0\n",
      "2019-11-05 02:23:37,322 : INFO : EPOCH 12 - PROGRESS: at 90.00% examples, 310455 words/s, in_qsize 14, out_qsize 1\n",
      "2019-11-05 02:23:38,437 : INFO : EPOCH 12 - PROGRESS: at 94.03% examples, 309769 words/s, in_qsize 15, out_qsize 1\n",
      "2019-11-05 02:23:39,474 : INFO : EPOCH 12 - PROGRESS: at 98.04% examples, 310087 words/s, in_qsize 13, out_qsize 2\n",
      "2019-11-05 02:23:39,727 : INFO : worker thread finished; awaiting finish of 7 more threads\n",
      "2019-11-05 02:23:39,741 : INFO : worker thread finished; awaiting finish of 6 more threads\n",
      "2019-11-05 02:23:39,749 : INFO : worker thread finished; awaiting finish of 5 more threads\n",
      "2019-11-05 02:23:39,768 : INFO : worker thread finished; awaiting finish of 4 more threads\n",
      "2019-11-05 02:23:39,771 : INFO : worker thread finished; awaiting finish of 3 more threads\n",
      "2019-11-05 02:23:39,775 : INFO : worker thread finished; awaiting finish of 2 more threads\n",
      "2019-11-05 02:23:39,805 : INFO : worker thread finished; awaiting finish of 1 more threads\n",
      "2019-11-05 02:23:39,807 : INFO : worker thread finished; awaiting finish of 0 more threads\n",
      "2019-11-05 02:23:39,808 : INFO : EPOCH - 12 : training on 9227204 raw words (8222452 effective words) took 26.3s, 312286 effective words/s\n",
      "2019-11-05 02:23:40,901 : INFO : EPOCH 13 - PROGRESS: at 3.58% examples, 274489 words/s, in_qsize 15, out_qsize 0\n",
      "2019-11-05 02:23:41,988 : INFO : EPOCH 13 - PROGRESS: at 7.60% examples, 290953 words/s, in_qsize 15, out_qsize 3\n",
      "2019-11-05 02:23:43,018 : INFO : EPOCH 13 - PROGRESS: at 11.62% examples, 299070 words/s, in_qsize 14, out_qsize 1\n",
      "2019-11-05 02:23:44,045 : INFO : EPOCH 13 - PROGRESS: at 15.52% examples, 302170 words/s, in_qsize 15, out_qsize 0\n",
      "2019-11-05 02:23:45,068 : INFO : EPOCH 13 - PROGRESS: at 19.73% examples, 309513 words/s, in_qsize 15, out_qsize 0\n",
      "2019-11-05 02:23:46,084 : INFO : EPOCH 13 - PROGRESS: at 23.41% examples, 307840 words/s, in_qsize 16, out_qsize 3\n",
      "2019-11-05 02:23:47,111 : INFO : EPOCH 13 - PROGRESS: at 27.64% examples, 312001 words/s, in_qsize 12, out_qsize 2\n",
      "2019-11-05 02:23:48,145 : INFO : EPOCH 13 - PROGRESS: at 31.54% examples, 311797 words/s, in_qsize 12, out_qsize 1\n",
      "2019-11-05 02:23:49,185 : INFO : EPOCH 13 - PROGRESS: at 35.32% examples, 310438 words/s, in_qsize 15, out_qsize 0\n",
      "2019-11-05 02:23:50,187 : INFO : EPOCH 13 - PROGRESS: at 39.54% examples, 313960 words/s, in_qsize 15, out_qsize 0\n",
      "2019-11-05 02:23:51,224 : INFO : EPOCH 13 - PROGRESS: at 43.32% examples, 312733 words/s, in_qsize 15, out_qsize 1\n",
      "2019-11-05 02:23:52,366 : INFO : EPOCH 13 - PROGRESS: at 47.32% examples, 310539 words/s, in_qsize 16, out_qsize 1\n",
      "2019-11-05 02:23:53,449 : INFO : EPOCH 13 - PROGRESS: at 51.53% examples, 311377 words/s, in_qsize 15, out_qsize 0\n",
      "2019-11-05 02:23:54,493 : INFO : EPOCH 13 - PROGRESS: at 55.32% examples, 310481 words/s, in_qsize 15, out_qsize 0\n",
      "2019-11-05 02:23:55,528 : INFO : EPOCH 13 - PROGRESS: at 59.76% examples, 313269 words/s, in_qsize 16, out_qsize 0\n",
      "2019-11-05 02:23:56,638 : INFO : EPOCH 13 - PROGRESS: at 63.43% examples, 310598 words/s, in_qsize 16, out_qsize 2\n",
      "2019-11-05 02:23:57,648 : INFO : EPOCH 13 - PROGRESS: at 67.45% examples, 311481 words/s, in_qsize 16, out_qsize 0\n",
      "2019-11-05 02:23:58,649 : INFO : EPOCH 13 - PROGRESS: at 71.46% examples, 312429 words/s, in_qsize 15, out_qsize 0\n",
      "2019-11-05 02:23:59,765 : INFO : EPOCH 13 - PROGRESS: at 75.67% examples, 312362 words/s, in_qsize 15, out_qsize 0\n",
      "2019-11-05 02:24:00,773 : INFO : EPOCH 13 - PROGRESS: at 79.81% examples, 313468 words/s, in_qsize 15, out_qsize 0\n",
      "2019-11-05 02:24:01,832 : INFO : EPOCH 13 - PROGRESS: at 83.72% examples, 312964 words/s, in_qsize 15, out_qsize 0\n",
      "2019-11-05 02:24:02,888 : INFO : EPOCH 13 - PROGRESS: at 87.62% examples, 312526 words/s, in_qsize 16, out_qsize 0\n",
      "2019-11-05 02:24:03,898 : INFO : EPOCH 13 - PROGRESS: at 91.30% examples, 311989 words/s, in_qsize 16, out_qsize 1\n",
      "2019-11-05 02:24:04,950 : INFO : EPOCH 13 - PROGRESS: at 95.23% examples, 312257 words/s, in_qsize 15, out_qsize 1\n",
      "2019-11-05 02:24:05,960 : INFO : EPOCH 13 - PROGRESS: at 99.22% examples, 312228 words/s, in_qsize 8, out_qsize 0\n",
      "2019-11-05 02:24:05,963 : INFO : worker thread finished; awaiting finish of 7 more threads\n",
      "2019-11-05 02:24:05,971 : INFO : worker thread finished; awaiting finish of 6 more threads\n",
      "2019-11-05 02:24:05,974 : INFO : worker thread finished; awaiting finish of 5 more threads\n",
      "2019-11-05 02:24:05,989 : INFO : worker thread finished; awaiting finish of 4 more threads\n",
      "2019-11-05 02:24:06,006 : INFO : worker thread finished; awaiting finish of 3 more threads\n",
      "2019-11-05 02:24:06,014 : INFO : worker thread finished; awaiting finish of 2 more threads\n",
      "2019-11-05 02:24:06,025 : INFO : worker thread finished; awaiting finish of 1 more threads\n",
      "2019-11-05 02:24:06,029 : INFO : worker thread finished; awaiting finish of 0 more threads\n",
      "2019-11-05 02:24:06,029 : INFO : EPOCH - 13 : training on 9227204 raw words (8221920 effective words) took 26.2s, 313816 effective words/s\n",
      "2019-11-05 02:24:07,042 : INFO : EPOCH 14 - PROGRESS: at 3.14% examples, 257695 words/s, in_qsize 16, out_qsize 1\n",
      "2019-11-05 02:24:08,126 : INFO : EPOCH 14 - PROGRESS: at 7.06% examples, 282162 words/s, in_qsize 15, out_qsize 0\n",
      "2019-11-05 02:24:09,097 : INFO : EPOCH 14 - PROGRESS: at 11.19% examples, 300216 words/s, in_qsize 15, out_qsize 0\n",
      "2019-11-05 02:24:10,135 : INFO : EPOCH 14 - PROGRESS: at 14.86% examples, 298038 words/s, in_qsize 16, out_qsize 0\n",
      "2019-11-05 02:24:11,147 : INFO : EPOCH 14 - PROGRESS: at 18.86% examples, 303468 words/s, in_qsize 15, out_qsize 0\n",
      "2019-11-05 02:24:12,185 : INFO : EPOCH 14 - PROGRESS: at 22.66% examples, 302926 words/s, in_qsize 15, out_qsize 0\n",
      "2019-11-05 02:24:13,222 : INFO : EPOCH 14 - PROGRESS: at 26.66% examples, 305075 words/s, in_qsize 15, out_qsize 0\n",
      "2019-11-05 02:24:14,228 : INFO : EPOCH 14 - PROGRESS: at 30.78% examples, 308930 words/s, in_qsize 12, out_qsize 0\n",
      "2019-11-05 02:24:15,230 : INFO : EPOCH 14 - PROGRESS: at 34.24% examples, 306259 words/s, in_qsize 15, out_qsize 0\n",
      "2019-11-05 02:24:16,259 : INFO : EPOCH 14 - PROGRESS: at 38.14% examples, 306787 words/s, in_qsize 13, out_qsize 2\n",
      "2019-11-05 02:24:17,299 : INFO : EPOCH 14 - PROGRESS: at 42.24% examples, 308514 words/s, in_qsize 15, out_qsize 0\n",
      "2019-11-05 02:24:18,326 : INFO : EPOCH 14 - PROGRESS: at 45.80% examples, 306665 words/s, in_qsize 13, out_qsize 2\n",
      "2019-11-05 02:24:19,466 : INFO : EPOCH 14 - PROGRESS: at 50.02% examples, 306507 words/s, in_qsize 15, out_qsize 0\n",
      "2019-11-05 02:24:20,485 : INFO : EPOCH 14 - PROGRESS: at 54.13% examples, 308498 words/s, in_qsize 14, out_qsize 1\n",
      "2019-11-05 02:24:21,504 : INFO : EPOCH 14 - PROGRESS: at 58.03% examples, 308754 words/s, in_qsize 15, out_qsize 1\n",
      "2019-11-05 02:24:22,548 : INFO : EPOCH 14 - PROGRESS: at 61.93% examples, 308652 words/s, in_qsize 12, out_qsize 3\n",
      "2019-11-05 02:24:23,581 : INFO : EPOCH 14 - PROGRESS: at 66.04% examples, 309786 words/s, in_qsize 15, out_qsize 0\n",
      "2019-11-05 02:24:24,670 : INFO : EPOCH 14 - PROGRESS: at 70.05% examples, 309384 words/s, in_qsize 15, out_qsize 0\n",
      "2019-11-05 02:24:25,702 : INFO : EPOCH 14 - PROGRESS: at 73.94% examples, 309438 words/s, in_qsize 16, out_qsize 0\n",
      "2019-11-05 02:24:26,721 : INFO : EPOCH 14 - PROGRESS: at 77.96% examples, 310124 words/s, in_qsize 15, out_qsize 0\n",
      "2019-11-05 02:24:27,753 : INFO : EPOCH 14 - PROGRESS: at 81.77% examples, 309754 words/s, in_qsize 15, out_qsize 0\n",
      "2019-11-05 02:24:28,851 : INFO : EPOCH 14 - PROGRESS: at 85.67% examples, 308897 words/s, in_qsize 14, out_qsize 1\n",
      "2019-11-05 02:24:29,923 : INFO : EPOCH 14 - PROGRESS: at 89.78% examples, 309212 words/s, in_qsize 15, out_qsize 0\n",
      "2019-11-05 02:24:30,969 : INFO : EPOCH 14 - PROGRESS: at 93.92% examples, 309800 words/s, in_qsize 16, out_qsize 1\n",
      "2019-11-05 02:24:31,999 : INFO : EPOCH 14 - PROGRESS: at 97.82% examples, 309849 words/s, in_qsize 14, out_qsize 1\n",
      "2019-11-05 02:24:32,355 : INFO : worker thread finished; awaiting finish of 7 more threads\n",
      "2019-11-05 02:24:32,365 : INFO : worker thread finished; awaiting finish of 6 more threads\n",
      "2019-11-05 02:24:32,403 : INFO : worker thread finished; awaiting finish of 5 more threads\n",
      "2019-11-05 02:24:32,411 : INFO : worker thread finished; awaiting finish of 4 more threads\n",
      "2019-11-05 02:24:32,413 : INFO : worker thread finished; awaiting finish of 3 more threads\n",
      "2019-11-05 02:24:32,415 : INFO : worker thread finished; awaiting finish of 2 more threads\n",
      "2019-11-05 02:24:32,431 : INFO : worker thread finished; awaiting finish of 1 more threads\n",
      "2019-11-05 02:24:32,436 : INFO : worker thread finished; awaiting finish of 0 more threads\n",
      "2019-11-05 02:24:32,437 : INFO : EPOCH - 14 : training on 9227204 raw words (8222798 effective words) took 26.4s, 311498 effective words/s\n",
      "2019-11-05 02:24:33,490 : INFO : EPOCH 15 - PROGRESS: at 3.69% examples, 292333 words/s, in_qsize 13, out_qsize 0\n",
      "2019-11-05 02:24:34,527 : INFO : EPOCH 15 - PROGRESS: at 7.28% examples, 287734 words/s, in_qsize 14, out_qsize 1\n",
      "2019-11-05 02:24:35,601 : INFO : EPOCH 15 - PROGRESS: at 11.29% examples, 294415 words/s, in_qsize 14, out_qsize 1\n",
      "2019-11-05 02:24:36,602 : INFO : EPOCH 15 - PROGRESS: at 15.30% examples, 302806 words/s, in_qsize 16, out_qsize 2\n",
      "2019-11-05 02:24:37,616 : INFO : EPOCH 15 - PROGRESS: at 19.19% examples, 305444 words/s, in_qsize 16, out_qsize 0\n",
      "2019-11-05 02:24:38,688 : INFO : EPOCH 15 - PROGRESS: at 23.09% examples, 304429 words/s, in_qsize 13, out_qsize 0\n",
      "2019-11-05 02:24:39,701 : INFO : EPOCH 15 - PROGRESS: at 26.77% examples, 304071 words/s, in_qsize 16, out_qsize 0\n",
      "2019-11-05 02:24:40,704 : INFO : EPOCH 15 - PROGRESS: at 30.46% examples, 303472 words/s, in_qsize 13, out_qsize 2\n",
      "2019-11-05 02:24:41,741 : INFO : EPOCH 15 - PROGRESS: at 34.24% examples, 303138 words/s, in_qsize 15, out_qsize 2\n",
      "2019-11-05 02:24:42,849 : INFO : EPOCH 15 - PROGRESS: at 38.35% examples, 303402 words/s, in_qsize 14, out_qsize 3\n",
      "2019-11-05 02:24:43,875 : INFO : EPOCH 15 - PROGRESS: at 42.24% examples, 304219 words/s, in_qsize 15, out_qsize 0\n",
      "2019-11-05 02:24:44,929 : INFO : EPOCH 15 - PROGRESS: at 46.24% examples, 304916 words/s, in_qsize 16, out_qsize 1\n",
      "2019-11-05 02:24:45,933 : INFO : EPOCH 15 - PROGRESS: at 50.35% examples, 307341 words/s, in_qsize 14, out_qsize 0\n",
      "2019-11-05 02:24:47,014 : INFO : EPOCH 15 - PROGRESS: at 54.13% examples, 305955 words/s, in_qsize 15, out_qsize 0\n",
      "2019-11-05 02:24:48,058 : INFO : EPOCH 15 - PROGRESS: at 58.04% examples, 306621 words/s, in_qsize 15, out_qsize 3\n",
      "2019-11-05 02:24:49,047 : INFO : EPOCH 15 - PROGRESS: at 62.25% examples, 308747 words/s, in_qsize 12, out_qsize 0\n",
      "2019-11-05 02:24:50,160 : INFO : EPOCH 15 - PROGRESS: at 66.15% examples, 307517 words/s, in_qsize 15, out_qsize 1\n",
      "2019-11-05 02:24:51,172 : INFO : EPOCH 15 - PROGRESS: at 70.05% examples, 307947 words/s, in_qsize 16, out_qsize 0\n",
      "2019-11-05 02:24:52,193 : INFO : EPOCH 15 - PROGRESS: at 73.84% examples, 307821 words/s, in_qsize 13, out_qsize 2\n",
      "2019-11-05 02:24:53,199 : INFO : EPOCH 15 - PROGRESS: at 77.97% examples, 309205 words/s, in_qsize 11, out_qsize 0\n",
      "2019-11-05 02:24:54,265 : INFO : EPOCH 15 - PROGRESS: at 81.66% examples, 307990 words/s, in_qsize 15, out_qsize 0\n",
      "2019-11-05 02:24:55,285 : INFO : EPOCH 15 - PROGRESS: at 85.77% examples, 309037 words/s, in_qsize 15, out_qsize 0\n",
      "2019-11-05 02:24:56,293 : INFO : EPOCH 15 - PROGRESS: at 89.34% examples, 308298 words/s, in_qsize 16, out_qsize 0\n",
      "2019-11-05 02:24:57,381 : INFO : EPOCH 15 - PROGRESS: at 93.26% examples, 307690 words/s, in_qsize 15, out_qsize 0\n",
      "2019-11-05 02:24:58,393 : INFO : EPOCH 15 - PROGRESS: at 97.07% examples, 307699 words/s, in_qsize 14, out_qsize 2\n",
      "2019-11-05 02:24:58,849 : INFO : worker thread finished; awaiting finish of 7 more threads\n",
      "2019-11-05 02:24:58,886 : INFO : worker thread finished; awaiting finish of 6 more threads\n",
      "2019-11-05 02:24:58,888 : INFO : worker thread finished; awaiting finish of 5 more threads\n",
      "2019-11-05 02:24:58,902 : INFO : worker thread finished; awaiting finish of 4 more threads\n",
      "2019-11-05 02:24:58,917 : INFO : worker thread finished; awaiting finish of 3 more threads\n",
      "2019-11-05 02:24:58,934 : INFO : worker thread finished; awaiting finish of 2 more threads\n",
      "2019-11-05 02:24:58,944 : INFO : worker thread finished; awaiting finish of 1 more threads\n",
      "2019-11-05 02:24:58,952 : INFO : worker thread finished; awaiting finish of 0 more threads\n",
      "2019-11-05 02:24:58,953 : INFO : EPOCH - 15 : training on 9227204 raw words (8223292 effective words) took 26.5s, 310317 effective words/s\n",
      "2019-11-05 02:24:59,985 : INFO : EPOCH 16 - PROGRESS: at 3.47% examples, 279018 words/s, in_qsize 16, out_qsize 1\n",
      "2019-11-05 02:25:01,027 : INFO : EPOCH 16 - PROGRESS: at 7.06% examples, 280447 words/s, in_qsize 13, out_qsize 2\n",
      "2019-11-05 02:25:02,040 : INFO : EPOCH 16 - PROGRESS: at 10.97% examples, 292397 words/s, in_qsize 12, out_qsize 3\n",
      "2019-11-05 02:25:03,075 : INFO : EPOCH 16 - PROGRESS: at 14.76% examples, 294539 words/s, in_qsize 15, out_qsize 4\n",
      "2019-11-05 02:25:04,096 : INFO : EPOCH 16 - PROGRESS: at 19.08% examples, 305357 words/s, in_qsize 15, out_qsize 0\n",
      "2019-11-05 02:25:05,138 : INFO : EPOCH 16 - PROGRESS: at 22.98% examples, 305811 words/s, in_qsize 16, out_qsize 0\n",
      "2019-11-05 02:25:06,157 : INFO : EPOCH 16 - PROGRESS: at 26.99% examples, 308330 words/s, in_qsize 10, out_qsize 1\n",
      "2019-11-05 02:25:07,169 : INFO : EPOCH 16 - PROGRESS: at 30.67% examples, 307251 words/s, in_qsize 15, out_qsize 0\n",
      "2019-11-05 02:25:08,194 : INFO : EPOCH 16 - PROGRESS: at 34.67% examples, 308813 words/s, in_qsize 15, out_qsize 2\n",
      "2019-11-05 02:25:09,198 : INFO : EPOCH 16 - PROGRESS: at 38.35% examples, 308106 words/s, in_qsize 15, out_qsize 0\n",
      "2019-11-05 02:25:10,282 : INFO : EPOCH 16 - PROGRESS: at 42.57% examples, 309282 words/s, in_qsize 16, out_qsize 1\n",
      "2019-11-05 02:25:11,347 : INFO : EPOCH 16 - PROGRESS: at 46.35% examples, 307884 words/s, in_qsize 15, out_qsize 0\n",
      "2019-11-05 02:25:12,364 : INFO : EPOCH 16 - PROGRESS: at 50.56% examples, 310453 words/s, in_qsize 15, out_qsize 0\n",
      "2019-11-05 02:25:13,379 : INFO : EPOCH 16 - PROGRESS: at 54.46% examples, 310856 words/s, in_qsize 15, out_qsize 0\n",
      "2019-11-05 02:25:14,497 : INFO : EPOCH 16 - PROGRESS: at 58.25% examples, 308564 words/s, in_qsize 14, out_qsize 3\n",
      "2019-11-05 02:25:15,527 : INFO : EPOCH 16 - PROGRESS: at 62.57% examples, 310883 words/s, in_qsize 13, out_qsize 2\n",
      "2019-11-05 02:25:16,582 : INFO : EPOCH 16 - PROGRESS: at 66.26% examples, 309450 words/s, in_qsize 15, out_qsize 0\n",
      "2019-11-05 02:25:17,592 : INFO : EPOCH 16 - PROGRESS: at 69.83% examples, 308450 words/s, in_qsize 14, out_qsize 2\n",
      "2019-11-05 02:25:18,618 : INFO : EPOCH 16 - PROGRESS: at 73.73% examples, 308670 words/s, in_qsize 16, out_qsize 0\n",
      "2019-11-05 02:25:19,623 : INFO : EPOCH 16 - PROGRESS: at 77.31% examples, 307874 words/s, in_qsize 13, out_qsize 2\n",
      "2019-11-05 02:25:20,680 : INFO : EPOCH 16 - PROGRESS: at 81.01% examples, 307550 words/s, in_qsize 16, out_qsize 3\n",
      "2019-11-05 02:25:21,658 : INFO : EPOCH 16 - PROGRESS: at 85.02% examples, 308117 words/s, in_qsize 15, out_qsize 0\n",
      "2019-11-05 02:25:22,712 : INFO : EPOCH 16 - PROGRESS: at 89.23% examples, 309067 words/s, in_qsize 15, out_qsize 0\n",
      "2019-11-05 02:25:23,728 : INFO : EPOCH 16 - PROGRESS: at 93.04% examples, 309163 words/s, in_qsize 14, out_qsize 2\n",
      "2019-11-05 02:25:24,726 : INFO : EPOCH 16 - PROGRESS: at 96.85% examples, 309088 words/s, in_qsize 15, out_qsize 0\n",
      "2019-11-05 02:25:25,316 : INFO : worker thread finished; awaiting finish of 7 more threads\n",
      "2019-11-05 02:25:25,323 : INFO : worker thread finished; awaiting finish of 6 more threads\n",
      "2019-11-05 02:25:25,375 : INFO : worker thread finished; awaiting finish of 5 more threads\n",
      "2019-11-05 02:25:25,416 : INFO : worker thread finished; awaiting finish of 4 more threads\n",
      "2019-11-05 02:25:25,418 : INFO : worker thread finished; awaiting finish of 3 more threads\n",
      "2019-11-05 02:25:25,420 : INFO : worker thread finished; awaiting finish of 2 more threads\n",
      "2019-11-05 02:25:25,420 : INFO : worker thread finished; awaiting finish of 1 more threads\n",
      "2019-11-05 02:25:25,421 : INFO : worker thread finished; awaiting finish of 0 more threads\n",
      "2019-11-05 02:25:25,422 : INFO : EPOCH - 16 : training on 9227204 raw words (8222640 effective words) took 26.5s, 310765 effective words/s\n",
      "2019-11-05 02:25:26,449 : INFO : EPOCH 17 - PROGRESS: at 3.47% examples, 282057 words/s, in_qsize 15, out_qsize 0\n",
      "2019-11-05 02:25:27,526 : INFO : EPOCH 17 - PROGRESS: at 7.60% examples, 298663 words/s, in_qsize 16, out_qsize 0\n",
      "2019-11-05 02:25:28,545 : INFO : EPOCH 17 - PROGRESS: at 11.40% examples, 301075 words/s, in_qsize 15, out_qsize 0\n",
      "2019-11-05 02:25:29,592 : INFO : EPOCH 17 - PROGRESS: at 15.41% examples, 304498 words/s, in_qsize 16, out_qsize 0\n",
      "2019-11-05 02:25:30,603 : INFO : EPOCH 17 - PROGRESS: at 19.29% examples, 306982 words/s, in_qsize 15, out_qsize 1\n",
      "2019-11-05 02:25:31,615 : INFO : EPOCH 17 - PROGRESS: at 23.09% examples, 307215 words/s, in_qsize 15, out_qsize 2\n",
      "2019-11-05 02:25:32,666 : INFO : EPOCH 17 - PROGRESS: at 26.88% examples, 305688 words/s, in_qsize 15, out_qsize 1\n",
      "2019-11-05 02:25:33,734 : INFO : EPOCH 17 - PROGRESS: at 31.10% examples, 308231 words/s, in_qsize 13, out_qsize 2\n",
      "2019-11-05 02:25:34,758 : INFO : EPOCH 17 - PROGRESS: at 34.78% examples, 306851 words/s, in_qsize 15, out_qsize 0\n",
      "2019-11-05 02:25:35,850 : INFO : EPOCH 17 - PROGRESS: at 38.78% examples, 307523 words/s, in_qsize 15, out_qsize 2\n",
      "2019-11-05 02:25:36,828 : INFO : EPOCH 17 - PROGRESS: at 42.89% examples, 309739 words/s, in_qsize 15, out_qsize 0\n",
      "2019-11-05 02:25:37,847 : INFO : EPOCH 17 - PROGRESS: at 46.35% examples, 307271 words/s, in_qsize 12, out_qsize 3\n",
      "2019-11-05 02:25:38,876 : INFO : EPOCH 17 - PROGRESS: at 50.13% examples, 306952 words/s, in_qsize 13, out_qsize 4\n",
      "2019-11-05 02:25:39,925 : INFO : EPOCH 17 - PROGRESS: at 54.24% examples, 308093 words/s, in_qsize 14, out_qsize 1\n",
      "2019-11-05 02:25:40,969 : INFO : EPOCH 17 - PROGRESS: at 58.25% examples, 309027 words/s, in_qsize 15, out_qsize 1\n",
      "2019-11-05 02:25:41,961 : INFO : EPOCH 17 - PROGRESS: at 62.03% examples, 308969 words/s, in_qsize 15, out_qsize 0\n",
      "2019-11-05 02:25:43,006 : INFO : EPOCH 17 - PROGRESS: at 66.04% examples, 309328 words/s, in_qsize 15, out_qsize 0\n",
      "2019-11-05 02:25:44,057 : INFO : EPOCH 17 - PROGRESS: at 70.16% examples, 310070 words/s, in_qsize 14, out_qsize 1\n",
      "2019-11-05 02:25:45,084 : INFO : EPOCH 17 - PROGRESS: at 74.27% examples, 311073 words/s, in_qsize 16, out_qsize 0\n",
      "2019-11-05 02:25:46,097 : INFO : EPOCH 17 - PROGRESS: at 78.18% examples, 311343 words/s, in_qsize 15, out_qsize 0\n",
      "2019-11-05 02:25:47,104 : INFO : EPOCH 17 - PROGRESS: at 82.10% examples, 311672 words/s, in_qsize 15, out_qsize 0\n",
      "2019-11-05 02:25:48,122 : INFO : EPOCH 17 - PROGRESS: at 85.98% examples, 311808 words/s, in_qsize 15, out_qsize 0\n",
      "2019-11-05 02:25:49,141 : INFO : EPOCH 17 - PROGRESS: at 89.78% examples, 311565 words/s, in_qsize 16, out_qsize 0\n",
      "2019-11-05 02:25:50,155 : INFO : EPOCH 17 - PROGRESS: at 93.81% examples, 312099 words/s, in_qsize 15, out_qsize 0\n",
      "2019-11-05 02:25:51,164 : INFO : EPOCH 17 - PROGRESS: at 97.61% examples, 311968 words/s, in_qsize 16, out_qsize 0\n",
      "2019-11-05 02:25:51,597 : INFO : worker thread finished; awaiting finish of 7 more threads\n",
      "2019-11-05 02:25:51,600 : INFO : worker thread finished; awaiting finish of 6 more threads\n",
      "2019-11-05 02:25:51,620 : INFO : worker thread finished; awaiting finish of 5 more threads\n",
      "2019-11-05 02:25:51,660 : INFO : worker thread finished; awaiting finish of 4 more threads\n",
      "2019-11-05 02:25:51,663 : INFO : worker thread finished; awaiting finish of 3 more threads\n",
      "2019-11-05 02:25:51,667 : INFO : worker thread finished; awaiting finish of 2 more threads\n",
      "2019-11-05 02:25:51,668 : INFO : worker thread finished; awaiting finish of 1 more threads\n",
      "2019-11-05 02:25:51,670 : INFO : worker thread finished; awaiting finish of 0 more threads\n",
      "2019-11-05 02:25:51,671 : INFO : EPOCH - 17 : training on 9227204 raw words (8222738 effective words) took 26.2s, 313454 effective words/s\n",
      "2019-11-05 02:25:52,722 : INFO : EPOCH 18 - PROGRESS: at 3.36% examples, 264995 words/s, in_qsize 15, out_qsize 0\n",
      "2019-11-05 02:25:53,739 : INFO : EPOCH 18 - PROGRESS: at 7.38% examples, 294162 words/s, in_qsize 15, out_qsize 0\n",
      "2019-11-05 02:25:54,797 : INFO : EPOCH 18 - PROGRESS: at 11.08% examples, 291640 words/s, in_qsize 14, out_qsize 1\n",
      "2019-11-05 02:25:55,821 : INFO : EPOCH 18 - PROGRESS: at 15.30% examples, 303300 words/s, in_qsize 13, out_qsize 1\n",
      "2019-11-05 02:25:56,880 : INFO : EPOCH 18 - PROGRESS: at 19.30% examples, 304897 words/s, in_qsize 15, out_qsize 1\n",
      "2019-11-05 02:25:57,882 : INFO : EPOCH 18 - PROGRESS: at 22.98% examples, 304486 words/s, in_qsize 16, out_qsize 0\n",
      "2019-11-05 02:25:58,972 : INFO : EPOCH 18 - PROGRESS: at 27.31% examples, 307845 words/s, in_qsize 15, out_qsize 0\n",
      "2019-11-05 02:25:59,975 : INFO : EPOCH 18 - PROGRESS: at 31.10% examples, 308255 words/s, in_qsize 15, out_qsize 0\n",
      "2019-11-05 02:26:01,025 : INFO : EPOCH 18 - PROGRESS: at 34.89% examples, 306942 words/s, in_qsize 16, out_qsize 1\n",
      "2019-11-05 02:26:02,059 : INFO : EPOCH 18 - PROGRESS: at 39.11% examples, 309829 words/s, in_qsize 16, out_qsize 0\n",
      "2019-11-05 02:26:03,073 : INFO : EPOCH 18 - PROGRESS: at 42.89% examples, 309639 words/s, in_qsize 14, out_qsize 0\n",
      "2019-11-05 02:26:04,172 : INFO : EPOCH 18 - PROGRESS: at 46.67% examples, 307359 words/s, in_qsize 15, out_qsize 0\n",
      "2019-11-05 02:26:05,180 : INFO : EPOCH 18 - PROGRESS: at 50.67% examples, 308830 words/s, in_qsize 15, out_qsize 0\n",
      "2019-11-05 02:26:06,195 : INFO : EPOCH 18 - PROGRESS: at 54.78% examples, 310577 words/s, in_qsize 15, out_qsize 0\n",
      "2019-11-05 02:26:07,252 : INFO : EPOCH 18 - PROGRESS: at 58.26% examples, 307814 words/s, in_qsize 15, out_qsize 0\n",
      "2019-11-05 02:26:08,313 : INFO : EPOCH 18 - PROGRESS: at 62.68% examples, 310142 words/s, in_qsize 16, out_qsize 0\n",
      "2019-11-05 02:26:09,331 : INFO : EPOCH 18 - PROGRESS: at 66.26% examples, 308910 words/s, in_qsize 16, out_qsize 0\n",
      "2019-11-05 02:26:10,373 : INFO : EPOCH 18 - PROGRESS: at 70.37% examples, 310352 words/s, in_qsize 13, out_qsize 3\n",
      "2019-11-05 02:26:11,360 : INFO : EPOCH 18 - PROGRESS: at 74.16% examples, 310093 words/s, in_qsize 15, out_qsize 0\n",
      "2019-11-05 02:26:12,369 : INFO : EPOCH 18 - PROGRESS: at 77.86% examples, 309596 words/s, in_qsize 15, out_qsize 0\n",
      "2019-11-05 02:26:13,378 : INFO : EPOCH 18 - PROGRESS: at 81.88% examples, 310386 words/s, in_qsize 15, out_qsize 0\n",
      "2019-11-05 02:26:14,393 : INFO : EPOCH 18 - PROGRESS: at 85.56% examples, 309849 words/s, in_qsize 15, out_qsize 0\n",
      "2019-11-05 02:26:15,455 : INFO : EPOCH 18 - PROGRESS: at 89.67% examples, 310240 words/s, in_qsize 14, out_qsize 2\n",
      "2019-11-05 02:26:16,490 : INFO : EPOCH 18 - PROGRESS: at 93.49% examples, 309836 words/s, in_qsize 11, out_qsize 4\n",
      "2019-11-05 02:26:17,491 : INFO : EPOCH 18 - PROGRESS: at 97.50% examples, 310592 words/s, in_qsize 15, out_qsize 0\n",
      "2019-11-05 02:26:17,917 : INFO : worker thread finished; awaiting finish of 7 more threads\n",
      "2019-11-05 02:26:17,929 : INFO : worker thread finished; awaiting finish of 6 more threads\n",
      "2019-11-05 02:26:17,945 : INFO : worker thread finished; awaiting finish of 5 more threads\n",
      "2019-11-05 02:26:17,960 : INFO : worker thread finished; awaiting finish of 4 more threads\n",
      "2019-11-05 02:26:17,988 : INFO : worker thread finished; awaiting finish of 3 more threads\n",
      "2019-11-05 02:26:17,996 : INFO : worker thread finished; awaiting finish of 2 more threads\n",
      "2019-11-05 02:26:18,003 : INFO : worker thread finished; awaiting finish of 1 more threads\n",
      "2019-11-05 02:26:18,005 : INFO : worker thread finished; awaiting finish of 0 more threads\n",
      "2019-11-05 02:26:18,006 : INFO : EPOCH - 18 : training on 9227204 raw words (8222653 effective words) took 26.3s, 312343 effective words/s\n",
      "2019-11-05 02:26:19,025 : INFO : EPOCH 19 - PROGRESS: at 3.25% examples, 266098 words/s, in_qsize 15, out_qsize 0\n",
      "2019-11-05 02:26:20,164 : INFO : EPOCH 19 - PROGRESS: at 7.49% examples, 291570 words/s, in_qsize 15, out_qsize 0\n",
      "2019-11-05 02:26:21,145 : INFO : EPOCH 19 - PROGRESS: at 11.29% examples, 296522 words/s, in_qsize 14, out_qsize 1\n",
      "2019-11-05 02:26:22,154 : INFO : EPOCH 19 - PROGRESS: at 15.41% examples, 305989 words/s, in_qsize 15, out_qsize 1\n",
      "2019-11-05 02:26:23,216 : INFO : EPOCH 19 - PROGRESS: at 19.19% examples, 303430 words/s, in_qsize 15, out_qsize 0\n",
      "2019-11-05 02:26:24,220 : INFO : EPOCH 19 - PROGRESS: at 23.09% examples, 306040 words/s, in_qsize 15, out_qsize 0\n",
      "2019-11-05 02:26:25,221 : INFO : EPOCH 19 - PROGRESS: at 27.32% examples, 311699 words/s, in_qsize 12, out_qsize 0\n",
      "2019-11-05 02:26:26,241 : INFO : EPOCH 19 - PROGRESS: at 30.99% examples, 309910 words/s, in_qsize 15, out_qsize 1\n",
      "2019-11-05 02:26:27,361 : INFO : EPOCH 19 - PROGRESS: at 35.10% examples, 308949 words/s, in_qsize 14, out_qsize 1\n",
      "2019-11-05 02:26:28,397 : INFO : EPOCH 19 - PROGRESS: at 39.11% examples, 309888 words/s, in_qsize 16, out_qsize 0\n",
      "2019-11-05 02:26:29,403 : INFO : EPOCH 19 - PROGRESS: at 43.00% examples, 310666 words/s, in_qsize 15, out_qsize 0\n",
      "2019-11-05 02:26:30,414 : INFO : EPOCH 19 - PROGRESS: at 46.78% examples, 310480 words/s, in_qsize 16, out_qsize 1\n",
      "2019-11-05 02:26:31,436 : INFO : EPOCH 19 - PROGRESS: at 50.88% examples, 312071 words/s, in_qsize 14, out_qsize 0\n",
      "2019-11-05 02:26:32,519 : INFO : EPOCH 19 - PROGRESS: at 54.67% examples, 310269 words/s, in_qsize 12, out_qsize 3\n",
      "2019-11-05 02:26:33,649 : INFO : EPOCH 19 - PROGRESS: at 59.12% examples, 311246 words/s, in_qsize 14, out_qsize 1\n",
      "2019-11-05 02:26:34,673 : INFO : EPOCH 19 - PROGRESS: at 63.00% examples, 311360 words/s, in_qsize 16, out_qsize 1\n",
      "2019-11-05 02:26:35,709 : INFO : EPOCH 19 - PROGRESS: at 66.91% examples, 311241 words/s, in_qsize 15, out_qsize 1\n",
      "2019-11-05 02:26:36,723 : INFO : EPOCH 19 - PROGRESS: at 70.80% examples, 311530 words/s, in_qsize 16, out_qsize 0\n",
      "2019-11-05 02:26:37,730 : INFO : EPOCH 19 - PROGRESS: at 74.81% examples, 312337 words/s, in_qsize 15, out_qsize 0\n",
      "2019-11-05 02:26:38,732 : INFO : EPOCH 19 - PROGRESS: at 78.62% examples, 312278 words/s, in_qsize 15, out_qsize 0\n",
      "2019-11-05 02:26:39,821 : INFO : EPOCH 19 - PROGRESS: at 82.53% examples, 311382 words/s, in_qsize 15, out_qsize 0\n",
      "2019-11-05 02:26:40,891 : INFO : EPOCH 19 - PROGRESS: at 86.42% examples, 311114 words/s, in_qsize 16, out_qsize 4\n",
      "2019-11-05 02:26:41,877 : INFO : EPOCH 19 - PROGRESS: at 90.65% examples, 312526 words/s, in_qsize 16, out_qsize 1\n",
      "2019-11-05 02:26:42,877 : INFO : EPOCH 19 - PROGRESS: at 94.25% examples, 311764 words/s, in_qsize 15, out_qsize 0\n",
      "2019-11-05 02:26:43,917 : INFO : EPOCH 19 - PROGRESS: at 98.36% examples, 312319 words/s, in_qsize 16, out_qsize 0\n",
      "2019-11-05 02:26:44,138 : INFO : worker thread finished; awaiting finish of 7 more threads\n",
      "2019-11-05 02:26:44,156 : INFO : worker thread finished; awaiting finish of 6 more threads\n",
      "2019-11-05 02:26:44,173 : INFO : worker thread finished; awaiting finish of 5 more threads\n",
      "2019-11-05 02:26:44,185 : INFO : worker thread finished; awaiting finish of 4 more threads\n",
      "2019-11-05 02:26:44,194 : INFO : worker thread finished; awaiting finish of 3 more threads\n",
      "2019-11-05 02:26:44,198 : INFO : worker thread finished; awaiting finish of 2 more threads\n",
      "2019-11-05 02:26:44,201 : INFO : worker thread finished; awaiting finish of 1 more threads\n",
      "2019-11-05 02:26:44,210 : INFO : worker thread finished; awaiting finish of 0 more threads\n",
      "2019-11-05 02:26:44,211 : INFO : EPOCH - 19 : training on 9227204 raw words (8222286 effective words) took 26.2s, 313949 effective words/s\n",
      "2019-11-05 02:26:45,241 : INFO : EPOCH 20 - PROGRESS: at 3.14% examples, 253309 words/s, in_qsize 13, out_qsize 2\n",
      "2019-11-05 02:26:46,296 : INFO : EPOCH 20 - PROGRESS: at 7.60% examples, 300558 words/s, in_qsize 14, out_qsize 1\n",
      "2019-11-05 02:26:47,303 : INFO : EPOCH 20 - PROGRESS: at 11.40% examples, 303664 words/s, in_qsize 15, out_qsize 1\n",
      "2019-11-05 02:26:48,433 : INFO : EPOCH 20 - PROGRESS: at 15.52% examples, 302531 words/s, in_qsize 15, out_qsize 0\n",
      "2019-11-05 02:26:49,444 : INFO : EPOCH 20 - PROGRESS: at 19.08% examples, 300150 words/s, in_qsize 15, out_qsize 6\n",
      "2019-11-05 02:26:50,460 : INFO : EPOCH 20 - PROGRESS: at 23.63% examples, 311259 words/s, in_qsize 15, out_qsize 0\n",
      "2019-11-05 02:26:51,497 : INFO : EPOCH 20 - PROGRESS: at 27.31% examples, 308513 words/s, in_qsize 14, out_qsize 1\n",
      "2019-11-05 02:26:52,525 : INFO : EPOCH 20 - PROGRESS: at 31.10% examples, 307855 words/s, in_qsize 14, out_qsize 1\n",
      "2019-11-05 02:26:53,579 : INFO : EPOCH 20 - PROGRESS: at 35.00% examples, 307464 words/s, in_qsize 14, out_qsize 1\n",
      "2019-11-05 02:26:54,604 : INFO : EPOCH 20 - PROGRESS: at 39.11% examples, 309709 words/s, in_qsize 15, out_qsize 0\n",
      "2019-11-05 02:26:55,637 : INFO : EPOCH 20 - PROGRESS: at 42.67% examples, 307435 words/s, in_qsize 14, out_qsize 1\n",
      "2019-11-05 02:26:56,745 : INFO : EPOCH 20 - PROGRESS: at 46.78% examples, 307263 words/s, in_qsize 13, out_qsize 2\n",
      "2019-11-05 02:26:57,765 : INFO : EPOCH 20 - PROGRESS: at 50.88% examples, 309152 words/s, in_qsize 16, out_qsize 1\n",
      "2019-11-05 02:26:58,803 : INFO : EPOCH 20 - PROGRESS: at 54.89% examples, 309759 words/s, in_qsize 16, out_qsize 0\n",
      "2019-11-05 02:26:59,897 : INFO : EPOCH 20 - PROGRESS: at 58.69% examples, 308054 words/s, in_qsize 15, out_qsize 0\n",
      "2019-11-05 02:27:00,931 : INFO : EPOCH 20 - PROGRESS: at 62.79% examples, 309244 words/s, in_qsize 14, out_qsize 1\n",
      "2019-11-05 02:27:02,053 : INFO : EPOCH 20 - PROGRESS: at 66.91% examples, 308743 words/s, in_qsize 13, out_qsize 2\n",
      "2019-11-05 02:27:03,280 : INFO : EPOCH 20 - PROGRESS: at 71.24% examples, 307559 words/s, in_qsize 11, out_qsize 6\n",
      "2019-11-05 02:27:04,325 : INFO : EPOCH 20 - PROGRESS: at 75.57% examples, 309684 words/s, in_qsize 15, out_qsize 1\n",
      "2019-11-05 02:27:05,341 : INFO : EPOCH 20 - PROGRESS: at 79.81% examples, 310857 words/s, in_qsize 15, out_qsize 0\n",
      "2019-11-05 02:27:06,356 : INFO : EPOCH 20 - PROGRESS: at 83.50% examples, 310286 words/s, in_qsize 12, out_qsize 2\n",
      "2019-11-05 02:27:07,362 : INFO : EPOCH 20 - PROGRESS: at 87.40% examples, 310648 words/s, in_qsize 14, out_qsize 2\n",
      "2019-11-05 02:27:08,374 : INFO : EPOCH 20 - PROGRESS: at 90.76% examples, 309052 words/s, in_qsize 15, out_qsize 2\n",
      "2019-11-05 02:27:09,395 : INFO : EPOCH 20 - PROGRESS: at 95.01% examples, 310308 words/s, in_qsize 15, out_qsize 0\n",
      "2019-11-05 02:27:10,396 : INFO : EPOCH 20 - PROGRESS: at 98.90% examples, 310690 words/s, in_qsize 11, out_qsize 0\n",
      "2019-11-05 02:27:10,463 : INFO : worker thread finished; awaiting finish of 7 more threads\n",
      "2019-11-05 02:27:10,479 : INFO : worker thread finished; awaiting finish of 6 more threads\n",
      "2019-11-05 02:27:10,498 : INFO : worker thread finished; awaiting finish of 5 more threads\n",
      "2019-11-05 02:27:10,551 : INFO : worker thread finished; awaiting finish of 4 more threads\n",
      "2019-11-05 02:27:10,553 : INFO : worker thread finished; awaiting finish of 3 more threads\n",
      "2019-11-05 02:27:10,557 : INFO : worker thread finished; awaiting finish of 2 more threads\n",
      "2019-11-05 02:27:10,561 : INFO : worker thread finished; awaiting finish of 1 more threads\n",
      "2019-11-05 02:27:10,566 : INFO : worker thread finished; awaiting finish of 0 more threads\n",
      "2019-11-05 02:27:10,567 : INFO : EPOCH - 20 : training on 9227204 raw words (8222261 effective words) took 26.3s, 312097 effective words/s\n",
      "2019-11-05 02:27:11,647 : INFO : EPOCH 21 - PROGRESS: at 3.36% examples, 264716 words/s, in_qsize 16, out_qsize 0\n",
      "2019-11-05 02:27:12,657 : INFO : EPOCH 21 - PROGRESS: at 7.60% examples, 303612 words/s, in_qsize 15, out_qsize 0\n",
      "2019-11-05 02:27:13,663 : INFO : EPOCH 21 - PROGRESS: at 11.29% examples, 302783 words/s, in_qsize 14, out_qsize 0\n",
      "2019-11-05 02:27:14,672 : INFO : EPOCH 21 - PROGRESS: at 15.30% examples, 308676 words/s, in_qsize 14, out_qsize 0\n",
      "2019-11-05 02:27:15,713 : INFO : EPOCH 21 - PROGRESS: at 18.76% examples, 303215 words/s, in_qsize 16, out_qsize 0\n",
      "2019-11-05 02:27:16,722 : INFO : EPOCH 21 - PROGRESS: at 22.43% examples, 301373 words/s, in_qsize 15, out_qsize 0\n",
      "2019-11-05 02:27:17,722 : INFO : EPOCH 21 - PROGRESS: at 26.34% examples, 304108 words/s, in_qsize 14, out_qsize 1\n",
      "2019-11-05 02:27:18,759 : INFO : EPOCH 21 - PROGRESS: at 30.24% examples, 304784 words/s, in_qsize 15, out_qsize 0\n",
      "2019-11-05 02:27:19,779 : INFO : EPOCH 21 - PROGRESS: at 34.03% examples, 304908 words/s, in_qsize 14, out_qsize 1\n",
      "2019-11-05 02:27:20,784 : INFO : EPOCH 21 - PROGRESS: at 38.24% examples, 308904 words/s, in_qsize 15, out_qsize 0\n",
      "2019-11-05 02:27:21,809 : INFO : EPOCH 21 - PROGRESS: at 41.92% examples, 307699 words/s, in_qsize 15, out_qsize 0\n",
      "2019-11-05 02:27:22,824 : INFO : EPOCH 21 - PROGRESS: at 46.03% examples, 309802 words/s, in_qsize 14, out_qsize 1\n",
      "2019-11-05 02:27:23,877 : INFO : EPOCH 21 - PROGRESS: at 49.70% examples, 308058 words/s, in_qsize 16, out_qsize 0\n",
      "2019-11-05 02:27:24,878 : INFO : EPOCH 21 - PROGRESS: at 54.03% examples, 311433 words/s, in_qsize 15, out_qsize 0\n",
      "2019-11-05 02:27:25,887 : INFO : EPOCH 21 - PROGRESS: at 57.92% examples, 311863 words/s, in_qsize 10, out_qsize 0\n",
      "2019-11-05 02:27:26,902 : INFO : EPOCH 21 - PROGRESS: at 61.28% examples, 309384 words/s, in_qsize 15, out_qsize 0\n",
      "2019-11-05 02:27:27,942 : INFO : EPOCH 21 - PROGRESS: at 65.61% examples, 311362 words/s, in_qsize 13, out_qsize 0\n",
      "2019-11-05 02:27:28,966 : INFO : EPOCH 21 - PROGRESS: at 69.07% examples, 309540 words/s, in_qsize 16, out_qsize 0\n",
      "2019-11-05 02:27:30,022 : INFO : EPOCH 21 - PROGRESS: at 73.30% examples, 310574 words/s, in_qsize 15, out_qsize 0\n",
      "2019-11-05 02:27:31,045 : INFO : EPOCH 21 - PROGRESS: at 77.42% examples, 311570 words/s, in_qsize 16, out_qsize 0\n",
      "2019-11-05 02:27:32,134 : INFO : EPOCH 21 - PROGRESS: at 81.34% examples, 310725 words/s, in_qsize 15, out_qsize 0\n",
      "2019-11-05 02:27:33,279 : INFO : EPOCH 21 - PROGRESS: at 85.45% examples, 309961 words/s, in_qsize 10, out_qsize 5\n",
      "2019-11-05 02:27:34,288 : INFO : EPOCH 21 - PROGRESS: at 89.56% examples, 311035 words/s, in_qsize 14, out_qsize 2\n",
      "2019-11-05 02:27:35,322 : INFO : EPOCH 21 - PROGRESS: at 93.48% examples, 310984 words/s, in_qsize 16, out_qsize 0\n",
      "2019-11-05 02:27:36,326 : INFO : EPOCH 21 - PROGRESS: at 97.07% examples, 310266 words/s, in_qsize 15, out_qsize 0\n",
      "2019-11-05 02:27:36,797 : INFO : worker thread finished; awaiting finish of 7 more threads\n",
      "2019-11-05 02:27:36,806 : INFO : worker thread finished; awaiting finish of 6 more threads\n",
      "2019-11-05 02:27:36,829 : INFO : worker thread finished; awaiting finish of 5 more threads\n",
      "2019-11-05 02:27:36,874 : INFO : worker thread finished; awaiting finish of 4 more threads\n",
      "2019-11-05 02:27:36,877 : INFO : worker thread finished; awaiting finish of 3 more threads\n",
      "2019-11-05 02:27:36,882 : INFO : worker thread finished; awaiting finish of 2 more threads\n",
      "2019-11-05 02:27:36,886 : INFO : worker thread finished; awaiting finish of 1 more threads\n",
      "2019-11-05 02:27:36,896 : INFO : worker thread finished; awaiting finish of 0 more threads\n",
      "2019-11-05 02:27:36,897 : INFO : EPOCH - 21 : training on 9227204 raw words (8222452 effective words) took 26.3s, 312720 effective words/s\n",
      "2019-11-05 02:27:37,917 : INFO : EPOCH 22 - PROGRESS: at 3.47% examples, 282403 words/s, in_qsize 15, out_qsize 0\n",
      "2019-11-05 02:27:38,953 : INFO : EPOCH 22 - PROGRESS: at 7.17% examples, 290592 words/s, in_qsize 14, out_qsize 1\n",
      "2019-11-05 02:27:39,956 : INFO : EPOCH 22 - PROGRESS: at 10.97% examples, 295058 words/s, in_qsize 15, out_qsize 0\n",
      "2019-11-05 02:27:41,061 : INFO : EPOCH 22 - PROGRESS: at 15.30% examples, 302257 words/s, in_qsize 15, out_qsize 0\n",
      "2019-11-05 02:27:42,081 : INFO : EPOCH 22 - PROGRESS: at 19.08% examples, 302891 words/s, in_qsize 15, out_qsize 0\n",
      "2019-11-05 02:27:43,100 : INFO : EPOCH 22 - PROGRESS: at 23.20% examples, 307717 words/s, in_qsize 14, out_qsize 1\n",
      "2019-11-05 02:27:44,158 : INFO : EPOCH 22 - PROGRESS: at 26.99% examples, 305854 words/s, in_qsize 14, out_qsize 1\n",
      "2019-11-05 02:27:45,219 : INFO : EPOCH 22 - PROGRESS: at 30.99% examples, 306466 words/s, in_qsize 15, out_qsize 0\n",
      "2019-11-05 02:27:46,241 : INFO : EPOCH 22 - PROGRESS: at 34.03% examples, 299626 words/s, in_qsize 16, out_qsize 2\n",
      "2019-11-05 02:27:47,256 : INFO : EPOCH 22 - PROGRESS: at 36.29% examples, 288323 words/s, in_qsize 12, out_qsize 1\n",
      "2019-11-05 02:27:48,287 : INFO : EPOCH 22 - PROGRESS: at 39.54% examples, 285694 words/s, in_qsize 14, out_qsize 1\n",
      "2019-11-05 02:27:49,387 : INFO : EPOCH 22 - PROGRESS: at 42.89% examples, 282622 words/s, in_qsize 16, out_qsize 0\n",
      "2019-11-05 02:27:50,408 : INFO : EPOCH 22 - PROGRESS: at 46.67% examples, 284327 words/s, in_qsize 15, out_qsize 0\n",
      "2019-11-05 02:27:51,433 : INFO : EPOCH 22 - PROGRESS: at 50.45% examples, 285756 words/s, in_qsize 15, out_qsize 0\n",
      "2019-11-05 02:27:52,452 : INFO : EPOCH 22 - PROGRESS: at 54.56% examples, 288801 words/s, in_qsize 15, out_qsize 0\n",
      "2019-11-05 02:27:53,480 : INFO : EPOCH 22 - PROGRESS: at 58.47% examples, 290267 words/s, in_qsize 15, out_qsize 0\n",
      "2019-11-05 02:27:54,487 : INFO : EPOCH 22 - PROGRESS: at 62.36% examples, 291885 words/s, in_qsize 16, out_qsize 0\n",
      "2019-11-05 02:27:55,583 : INFO : EPOCH 22 - PROGRESS: at 66.36% examples, 292385 words/s, in_qsize 15, out_qsize 0\n",
      "2019-11-05 02:27:56,628 : INFO : EPOCH 22 - PROGRESS: at 70.37% examples, 293621 words/s, in_qsize 15, out_qsize 3\n",
      "2019-11-05 02:27:57,666 : INFO : EPOCH 22 - PROGRESS: at 74.27% examples, 294385 words/s, in_qsize 14, out_qsize 0\n",
      "2019-11-05 02:27:58,670 : INFO : EPOCH 22 - PROGRESS: at 78.07% examples, 295120 words/s, in_qsize 15, out_qsize 0\n",
      "2019-11-05 02:27:59,675 : INFO : EPOCH 22 - PROGRESS: at 81.88% examples, 295768 words/s, in_qsize 11, out_qsize 4\n",
      "2019-11-05 02:28:00,693 : INFO : EPOCH 22 - PROGRESS: at 85.66% examples, 296209 words/s, in_qsize 14, out_qsize 1\n",
      "2019-11-05 02:28:01,702 : INFO : EPOCH 22 - PROGRESS: at 89.45% examples, 296734 words/s, in_qsize 13, out_qsize 3\n",
      "2019-11-05 02:28:02,821 : INFO : EPOCH 22 - PROGRESS: at 93.70% examples, 297313 words/s, in_qsize 15, out_qsize 0\n",
      "2019-11-05 02:28:03,839 : INFO : EPOCH 22 - PROGRESS: at 97.71% examples, 298300 words/s, in_qsize 16, out_qsize 0\n",
      "2019-11-05 02:28:04,189 : INFO : worker thread finished; awaiting finish of 7 more threads\n",
      "2019-11-05 02:28:04,214 : INFO : worker thread finished; awaiting finish of 6 more threads\n",
      "2019-11-05 02:28:04,242 : INFO : worker thread finished; awaiting finish of 5 more threads\n",
      "2019-11-05 02:28:04,263 : INFO : worker thread finished; awaiting finish of 4 more threads\n",
      "2019-11-05 02:28:04,276 : INFO : worker thread finished; awaiting finish of 3 more threads\n",
      "2019-11-05 02:28:04,279 : INFO : worker thread finished; awaiting finish of 2 more threads\n",
      "2019-11-05 02:28:04,284 : INFO : worker thread finished; awaiting finish of 1 more threads\n",
      "2019-11-05 02:28:04,292 : INFO : worker thread finished; awaiting finish of 0 more threads\n",
      "2019-11-05 02:28:04,293 : INFO : EPOCH - 22 : training on 9227204 raw words (8222064 effective words) took 27.4s, 300231 effective words/s\n",
      "2019-11-05 02:28:05,358 : INFO : EPOCH 23 - PROGRESS: at 3.58% examples, 280104 words/s, in_qsize 16, out_qsize 0\n",
      "2019-11-05 02:28:06,437 : INFO : EPOCH 23 - PROGRESS: at 7.50% examples, 288788 words/s, in_qsize 15, out_qsize 0\n",
      "2019-11-05 02:28:07,441 : INFO : EPOCH 23 - PROGRESS: at 11.30% examples, 295856 words/s, in_qsize 15, out_qsize 0\n",
      "2019-11-05 02:28:08,441 : INFO : EPOCH 23 - PROGRESS: at 15.41% examples, 306088 words/s, in_qsize 15, out_qsize 0\n",
      "2019-11-05 02:28:09,453 : INFO : EPOCH 23 - PROGRESS: at 18.97% examples, 303017 words/s, in_qsize 15, out_qsize 0\n",
      "2019-11-05 02:28:10,454 : INFO : EPOCH 23 - PROGRESS: at 22.98% examples, 307343 words/s, in_qsize 16, out_qsize 1\n",
      "2019-11-05 02:28:11,485 : INFO : EPOCH 23 - PROGRESS: at 26.78% examples, 306670 words/s, in_qsize 15, out_qsize 0\n",
      "2019-11-05 02:28:12,504 : INFO : EPOCH 23 - PROGRESS: at 30.99% examples, 310934 words/s, in_qsize 16, out_qsize 0\n",
      "2019-11-05 02:28:13,529 : INFO : EPOCH 23 - PROGRESS: at 34.68% examples, 309193 words/s, in_qsize 16, out_qsize 0\n",
      "2019-11-05 02:28:14,597 : INFO : EPOCH 23 - PROGRESS: at 38.57% examples, 308253 words/s, in_qsize 15, out_qsize 3\n",
      "2019-11-05 02:28:15,612 : INFO : EPOCH 23 - PROGRESS: at 42.35% examples, 308155 words/s, in_qsize 16, out_qsize 0\n",
      "2019-11-05 02:28:16,786 : INFO : EPOCH 23 - PROGRESS: at 46.68% examples, 307725 words/s, in_qsize 12, out_qsize 3\n",
      "2019-11-05 02:28:17,840 : INFO : EPOCH 23 - PROGRESS: at 50.99% examples, 310092 words/s, in_qsize 15, out_qsize 0\n",
      "2019-11-05 02:28:18,903 : INFO : EPOCH 23 - PROGRESS: at 54.89% examples, 309501 words/s, in_qsize 13, out_qsize 2\n",
      "2019-11-05 02:28:20,016 : INFO : EPOCH 23 - PROGRESS: at 59.23% examples, 310627 words/s, in_qsize 15, out_qsize 0\n",
      "2019-11-05 02:28:21,005 : INFO : EPOCH 23 - PROGRESS: at 62.89% examples, 310022 words/s, in_qsize 15, out_qsize 0\n",
      "2019-11-05 02:28:22,038 : INFO : EPOCH 23 - PROGRESS: at 66.80% examples, 310029 words/s, in_qsize 14, out_qsize 1\n",
      "2019-11-05 02:28:23,040 : INFO : EPOCH 23 - PROGRESS: at 70.80% examples, 311057 words/s, in_qsize 14, out_qsize 1\n",
      "2019-11-05 02:28:24,095 : INFO : EPOCH 23 - PROGRESS: at 74.81% examples, 311115 words/s, in_qsize 15, out_qsize 0\n",
      "2019-11-05 02:28:25,108 : INFO : EPOCH 23 - PROGRESS: at 78.40% examples, 310090 words/s, in_qsize 16, out_qsize 2\n",
      "2019-11-05 02:28:26,146 : INFO : EPOCH 23 - PROGRESS: at 82.75% examples, 311669 words/s, in_qsize 15, out_qsize 1\n",
      "2019-11-05 02:28:27,162 : INFO : EPOCH 23 - PROGRESS: at 86.42% examples, 311063 words/s, in_qsize 15, out_qsize 2\n",
      "2019-11-05 02:28:28,181 : INFO : EPOCH 23 - PROGRESS: at 90.43% examples, 311578 words/s, in_qsize 15, out_qsize 0\n",
      "2019-11-05 02:28:29,193 : INFO : EPOCH 23 - PROGRESS: at 94.25% examples, 311422 words/s, in_qsize 15, out_qsize 0\n",
      "2019-11-05 02:28:30,230 : INFO : EPOCH 23 - PROGRESS: at 98.04% examples, 310985 words/s, in_qsize 16, out_qsize 0\n",
      "2019-11-05 02:28:30,489 : INFO : worker thread finished; awaiting finish of 7 more threads\n",
      "2019-11-05 02:28:30,505 : INFO : worker thread finished; awaiting finish of 6 more threads\n",
      "2019-11-05 02:28:30,507 : INFO : worker thread finished; awaiting finish of 5 more threads\n",
      "2019-11-05 02:28:30,541 : INFO : worker thread finished; awaiting finish of 4 more threads\n",
      "2019-11-05 02:28:30,543 : INFO : worker thread finished; awaiting finish of 3 more threads\n",
      "2019-11-05 02:28:30,545 : INFO : worker thread finished; awaiting finish of 2 more threads\n",
      "2019-11-05 02:28:30,567 : INFO : worker thread finished; awaiting finish of 1 more threads\n",
      "2019-11-05 02:28:30,570 : INFO : worker thread finished; awaiting finish of 0 more threads\n",
      "2019-11-05 02:28:30,571 : INFO : EPOCH - 23 : training on 9227204 raw words (8222636 effective words) took 26.3s, 313096 effective words/s\n",
      "2019-11-05 02:28:31,626 : INFO : EPOCH 24 - PROGRESS: at 3.14% examples, 247255 words/s, in_qsize 11, out_qsize 5\n",
      "2019-11-05 02:28:32,662 : INFO : EPOCH 24 - PROGRESS: at 7.06% examples, 278348 words/s, in_qsize 15, out_qsize 1\n",
      "2019-11-05 02:28:33,697 : INFO : EPOCH 24 - PROGRESS: at 11.29% examples, 297445 words/s, in_qsize 15, out_qsize 0\n",
      "2019-11-05 02:28:34,758 : INFO : EPOCH 24 - PROGRESS: at 15.08% examples, 296504 words/s, in_qsize 15, out_qsize 0\n",
      "2019-11-05 02:28:35,823 : INFO : EPOCH 24 - PROGRESS: at 19.19% examples, 300771 words/s, in_qsize 16, out_qsize 1\n",
      "2019-11-05 02:28:36,900 : INFO : EPOCH 24 - PROGRESS: at 23.20% examples, 302416 words/s, in_qsize 14, out_qsize 2\n",
      "2019-11-05 02:28:38,001 : INFO : EPOCH 24 - PROGRESS: at 27.43% examples, 303777 words/s, in_qsize 15, out_qsize 0\n",
      "2019-11-05 02:28:39,059 : INFO : EPOCH 24 - PROGRESS: at 31.21% examples, 303940 words/s, in_qsize 16, out_qsize 5\n",
      "2019-11-05 02:28:40,043 : INFO : EPOCH 24 - PROGRESS: at 34.67% examples, 301294 words/s, in_qsize 16, out_qsize 7\n",
      "2019-11-05 02:28:41,057 : INFO : EPOCH 24 - PROGRESS: at 39.22% examples, 307841 words/s, in_qsize 16, out_qsize 0\n",
      "2019-11-05 02:28:42,119 : INFO : EPOCH 24 - PROGRESS: at 43.21% examples, 308053 words/s, in_qsize 15, out_qsize 0\n",
      "2019-11-05 02:28:43,134 : INFO : EPOCH 24 - PROGRESS: at 47.00% examples, 307980 words/s, in_qsize 13, out_qsize 1\n",
      "2019-11-05 02:28:44,155 : INFO : EPOCH 24 - PROGRESS: at 50.99% examples, 309116 words/s, in_qsize 15, out_qsize 0\n",
      "2019-11-05 02:28:45,210 : INFO : EPOCH 24 - PROGRESS: at 54.99% examples, 309363 words/s, in_qsize 15, out_qsize 0\n",
      "2019-11-05 02:28:46,225 : INFO : EPOCH 24 - PROGRESS: at 58.79% examples, 309235 words/s, in_qsize 16, out_qsize 0\n",
      "2019-11-05 02:28:47,267 : INFO : EPOCH 24 - PROGRESS: at 62.90% examples, 310210 words/s, in_qsize 15, out_qsize 0\n",
      "2019-11-05 02:28:48,302 : INFO : EPOCH 24 - PROGRESS: at 66.69% examples, 309673 words/s, in_qsize 15, out_qsize 0\n",
      "2019-11-05 02:28:49,308 : INFO : EPOCH 24 - PROGRESS: at 70.70% examples, 310630 words/s, in_qsize 13, out_qsize 0\n",
      "2019-11-05 02:28:50,338 : INFO : EPOCH 24 - PROGRESS: at 74.70% examples, 311100 words/s, in_qsize 15, out_qsize 2\n",
      "2019-11-05 02:28:51,344 : INFO : EPOCH 24 - PROGRESS: at 78.62% examples, 311460 words/s, in_qsize 13, out_qsize 0\n",
      "2019-11-05 02:28:52,348 : INFO : EPOCH 24 - PROGRESS: at 82.42% examples, 311424 words/s, in_qsize 15, out_qsize 0\n",
      "2019-11-05 02:28:53,377 : INFO : EPOCH 24 - PROGRESS: at 86.42% examples, 311819 words/s, in_qsize 14, out_qsize 0\n",
      "2019-11-05 02:28:54,401 : INFO : EPOCH 24 - PROGRESS: at 89.89% examples, 310373 words/s, in_qsize 14, out_qsize 1\n",
      "2019-11-05 02:28:55,418 : INFO : EPOCH 24 - PROGRESS: at 93.70% examples, 310213 words/s, in_qsize 16, out_qsize 1\n",
      "2019-11-05 02:28:56,448 : INFO : EPOCH 24 - PROGRESS: at 97.60% examples, 310254 words/s, in_qsize 16, out_qsize 0\n",
      "2019-11-05 02:28:56,819 : INFO : worker thread finished; awaiting finish of 7 more threads\n",
      "2019-11-05 02:28:56,827 : INFO : worker thread finished; awaiting finish of 6 more threads\n",
      "2019-11-05 02:28:56,829 : INFO : worker thread finished; awaiting finish of 5 more threads\n",
      "2019-11-05 02:28:56,859 : INFO : worker thread finished; awaiting finish of 4 more threads\n",
      "2019-11-05 02:28:56,862 : INFO : worker thread finished; awaiting finish of 3 more threads\n",
      "2019-11-05 02:28:56,873 : INFO : worker thread finished; awaiting finish of 2 more threads\n",
      "2019-11-05 02:28:56,887 : INFO : worker thread finished; awaiting finish of 1 more threads\n",
      "2019-11-05 02:28:56,889 : INFO : worker thread finished; awaiting finish of 0 more threads\n",
      "2019-11-05 02:28:56,890 : INFO : EPOCH - 24 : training on 9227204 raw words (8221964 effective words) took 26.3s, 312526 effective words/s\n",
      "2019-11-05 02:28:57,938 : INFO : EPOCH 25 - PROGRESS: at 3.47% examples, 274987 words/s, in_qsize 10, out_qsize 2\n",
      "2019-11-05 02:28:58,948 : INFO : EPOCH 25 - PROGRESS: at 7.17% examples, 287225 words/s, in_qsize 16, out_qsize 2\n",
      "2019-11-05 02:28:59,990 : INFO : EPOCH 25 - PROGRESS: at 11.40% examples, 302974 words/s, in_qsize 15, out_qsize 0\n",
      "2019-11-05 02:29:01,001 : INFO : EPOCH 25 - PROGRESS: at 14.86% examples, 297691 words/s, in_qsize 14, out_qsize 1\n",
      "2019-11-05 02:29:02,011 : INFO : EPOCH 25 - PROGRESS: at 18.97% examples, 305023 words/s, in_qsize 15, out_qsize 0\n",
      "2019-11-05 02:29:03,118 : INFO : EPOCH 25 - PROGRESS: at 22.98% examples, 303831 words/s, in_qsize 15, out_qsize 0\n",
      "2019-11-05 02:29:04,125 : INFO : EPOCH 25 - PROGRESS: at 26.66% examples, 303406 words/s, in_qsize 11, out_qsize 4\n",
      "2019-11-05 02:29:05,144 : INFO : EPOCH 25 - PROGRESS: at 30.78% examples, 306976 words/s, in_qsize 15, out_qsize 1\n",
      "2019-11-05 02:29:06,161 : INFO : EPOCH 25 - PROGRESS: at 34.46% examples, 305971 words/s, in_qsize 14, out_qsize 1\n",
      "2019-11-05 02:29:07,208 : INFO : EPOCH 25 - PROGRESS: at 38.46% examples, 307766 words/s, in_qsize 15, out_qsize 0\n",
      "2019-11-05 02:29:08,272 : INFO : EPOCH 25 - PROGRESS: at 42.46% examples, 307146 words/s, in_qsize 15, out_qsize 0\n",
      "2019-11-05 02:29:09,277 : INFO : EPOCH 25 - PROGRESS: at 46.57% examples, 309546 words/s, in_qsize 16, out_qsize 0\n",
      "2019-11-05 02:29:10,363 : INFO : EPOCH 25 - PROGRESS: at 50.35% examples, 307732 words/s, in_qsize 15, out_qsize 2\n",
      "2019-11-05 02:29:11,466 : INFO : EPOCH 25 - PROGRESS: at 54.56% examples, 308291 words/s, in_qsize 15, out_qsize 0\n",
      "2019-11-05 02:29:12,477 : INFO : EPOCH 25 - PROGRESS: at 58.90% examples, 311195 words/s, in_qsize 15, out_qsize 0\n",
      "2019-11-05 02:29:13,504 : INFO : EPOCH 25 - PROGRESS: at 62.57% examples, 310172 words/s, in_qsize 14, out_qsize 1\n",
      "2019-11-05 02:29:14,556 : INFO : EPOCH 25 - PROGRESS: at 66.47% examples, 309841 words/s, in_qsize 15, out_qsize 0\n",
      "2019-11-05 02:29:15,557 : INFO : EPOCH 25 - PROGRESS: at 70.48% examples, 310875 words/s, in_qsize 14, out_qsize 1\n",
      "2019-11-05 02:29:16,590 : INFO : EPOCH 25 - PROGRESS: at 74.16% examples, 309958 words/s, in_qsize 15, out_qsize 0\n",
      "2019-11-05 02:29:17,608 : INFO : EPOCH 25 - PROGRESS: at 77.85% examples, 309338 words/s, in_qsize 14, out_qsize 3\n",
      "2019-11-05 02:29:18,633 : INFO : EPOCH 25 - PROGRESS: at 81.88% examples, 309916 words/s, in_qsize 15, out_qsize 0\n",
      "2019-11-05 02:29:19,655 : INFO : EPOCH 25 - PROGRESS: at 85.88% examples, 310475 words/s, in_qsize 16, out_qsize 0\n",
      "2019-11-05 02:29:20,741 : INFO : EPOCH 25 - PROGRESS: at 89.89% examples, 310160 words/s, in_qsize 15, out_qsize 0\n",
      "2019-11-05 02:29:21,745 : INFO : EPOCH 25 - PROGRESS: at 93.70% examples, 310151 words/s, in_qsize 11, out_qsize 3\n",
      "2019-11-05 02:29:22,757 : INFO : EPOCH 25 - PROGRESS: at 97.50% examples, 310063 words/s, in_qsize 15, out_qsize 0\n",
      "2019-11-05 02:29:23,159 : INFO : worker thread finished; awaiting finish of 7 more threads\n",
      "2019-11-05 02:29:23,163 : INFO : worker thread finished; awaiting finish of 6 more threads\n",
      "2019-11-05 02:29:23,165 : INFO : worker thread finished; awaiting finish of 5 more threads\n",
      "2019-11-05 02:29:23,169 : INFO : worker thread finished; awaiting finish of 4 more threads\n",
      "2019-11-05 02:29:23,192 : INFO : worker thread finished; awaiting finish of 3 more threads\n",
      "2019-11-05 02:29:23,205 : INFO : worker thread finished; awaiting finish of 2 more threads\n",
      "2019-11-05 02:29:23,211 : INFO : worker thread finished; awaiting finish of 1 more threads\n",
      "2019-11-05 02:29:23,216 : INFO : worker thread finished; awaiting finish of 0 more threads\n",
      "2019-11-05 02:29:23,217 : INFO : EPOCH - 25 : training on 9227204 raw words (8223248 effective words) took 26.3s, 312476 effective words/s\n",
      "2019-11-05 02:29:24,292 : INFO : EPOCH 26 - PROGRESS: at 3.47% examples, 267926 words/s, in_qsize 15, out_qsize 0\n",
      "2019-11-05 02:29:25,303 : INFO : EPOCH 26 - PROGRESS: at 7.49% examples, 296185 words/s, in_qsize 15, out_qsize 0\n",
      "2019-11-05 02:29:26,323 : INFO : EPOCH 26 - PROGRESS: at 11.19% examples, 296506 words/s, in_qsize 16, out_qsize 0\n",
      "2019-11-05 02:29:27,328 : INFO : EPOCH 26 - PROGRESS: at 15.19% examples, 304164 words/s, in_qsize 15, out_qsize 0\n",
      "2019-11-05 02:29:28,342 : INFO : EPOCH 26 - PROGRESS: at 18.97% examples, 304771 words/s, in_qsize 14, out_qsize 1\n",
      "2019-11-05 02:29:29,357 : INFO : EPOCH 26 - PROGRESS: at 22.87% examples, 306903 words/s, in_qsize 16, out_qsize 0\n",
      "2019-11-05 02:29:30,464 : INFO : EPOCH 26 - PROGRESS: at 26.99% examples, 307433 words/s, in_qsize 15, out_qsize 1\n",
      "2019-11-05 02:29:31,481 : INFO : EPOCH 26 - PROGRESS: at 30.78% examples, 306566 words/s, in_qsize 15, out_qsize 0\n",
      "2019-11-05 02:29:32,546 : INFO : EPOCH 26 - PROGRESS: at 34.78% examples, 306866 words/s, in_qsize 16, out_qsize 0\n",
      "2019-11-05 02:29:33,620 : INFO : EPOCH 26 - PROGRESS: at 39.11% examples, 309435 words/s, in_qsize 16, out_qsize 0\n",
      "2019-11-05 02:29:34,621 : INFO : EPOCH 26 - PROGRESS: at 42.78% examples, 308846 words/s, in_qsize 15, out_qsize 0\n",
      "2019-11-05 02:29:35,627 : INFO : EPOCH 26 - PROGRESS: at 46.78% examples, 310368 words/s, in_qsize 15, out_qsize 1\n",
      "2019-11-05 02:29:36,669 : INFO : EPOCH 26 - PROGRESS: at 50.67% examples, 310168 words/s, in_qsize 14, out_qsize 2\n",
      "2019-11-05 02:29:37,760 : INFO : EPOCH 26 - PROGRESS: at 54.78% examples, 310179 words/s, in_qsize 15, out_qsize 0\n",
      "2019-11-05 02:29:38,769 : INFO : EPOCH 26 - PROGRESS: at 58.90% examples, 311835 words/s, in_qsize 15, out_qsize 0\n",
      "2019-11-05 02:29:39,794 : INFO : EPOCH 26 - PROGRESS: at 62.79% examples, 311898 words/s, in_qsize 14, out_qsize 0\n",
      "2019-11-05 02:29:40,829 : INFO : EPOCH 26 - PROGRESS: at 66.48% examples, 310752 words/s, in_qsize 15, out_qsize 0\n",
      "2019-11-05 02:29:41,854 : INFO : EPOCH 26 - PROGRESS: at 70.48% examples, 311354 words/s, in_qsize 12, out_qsize 1\n",
      "2019-11-05 02:29:42,900 : INFO : EPOCH 26 - PROGRESS: at 74.37% examples, 311670 words/s, in_qsize 13, out_qsize 3\n",
      "2019-11-05 02:29:43,866 : INFO : EPOCH 26 - PROGRESS: at 78.29% examples, 312081 words/s, in_qsize 15, out_qsize 0\n",
      "2019-11-05 02:29:44,898 : INFO : EPOCH 26 - PROGRESS: at 82.21% examples, 312030 words/s, in_qsize 15, out_qsize 1\n",
      "2019-11-05 02:29:45,934 : INFO : EPOCH 26 - PROGRESS: at 85.77% examples, 310730 words/s, in_qsize 12, out_qsize 3\n",
      "2019-11-05 02:29:46,953 : INFO : EPOCH 26 - PROGRESS: at 89.78% examples, 311270 words/s, in_qsize 13, out_qsize 2\n",
      "2019-11-05 02:29:47,957 : INFO : EPOCH 26 - PROGRESS: at 93.81% examples, 311946 words/s, in_qsize 13, out_qsize 0\n",
      "2019-11-05 02:29:49,003 : INFO : EPOCH 26 - PROGRESS: at 97.71% examples, 311733 words/s, in_qsize 15, out_qsize 0\n",
      "2019-11-05 02:29:49,391 : INFO : worker thread finished; awaiting finish of 7 more threads\n",
      "2019-11-05 02:29:49,413 : INFO : worker thread finished; awaiting finish of 6 more threads\n",
      "2019-11-05 02:29:49,431 : INFO : worker thread finished; awaiting finish of 5 more threads\n",
      "2019-11-05 02:29:49,448 : INFO : worker thread finished; awaiting finish of 4 more threads\n",
      "2019-11-05 02:29:49,457 : INFO : worker thread finished; awaiting finish of 3 more threads\n",
      "2019-11-05 02:29:49,471 : INFO : worker thread finished; awaiting finish of 2 more threads\n",
      "2019-11-05 02:29:49,474 : INFO : worker thread finished; awaiting finish of 1 more threads\n",
      "2019-11-05 02:29:49,478 : INFO : worker thread finished; awaiting finish of 0 more threads\n",
      "2019-11-05 02:29:49,479 : INFO : EPOCH - 26 : training on 9227204 raw words (8222791 effective words) took 26.3s, 313245 effective words/s\n",
      "2019-11-05 02:29:50,522 : INFO : EPOCH 27 - PROGRESS: at 3.25% examples, 258753 words/s, in_qsize 14, out_qsize 1\n",
      "2019-11-05 02:29:51,525 : INFO : EPOCH 27 - PROGRESS: at 7.27% examples, 293099 words/s, in_qsize 15, out_qsize 0\n",
      "2019-11-05 02:29:52,534 : INFO : EPOCH 27 - PROGRESS: at 10.86% examples, 292686 words/s, in_qsize 14, out_qsize 1\n",
      "2019-11-05 02:29:53,572 : INFO : EPOCH 27 - PROGRESS: at 14.65% examples, 294556 words/s, in_qsize 16, out_qsize 2\n",
      "2019-11-05 02:29:54,696 : INFO : EPOCH 27 - PROGRESS: at 18.87% examples, 298331 words/s, in_qsize 15, out_qsize 3\n",
      "2019-11-05 02:29:55,743 : INFO : EPOCH 27 - PROGRESS: at 22.65% examples, 297665 words/s, in_qsize 15, out_qsize 0\n",
      "2019-11-05 02:29:56,752 : INFO : EPOCH 27 - PROGRESS: at 26.67% examples, 301688 words/s, in_qsize 15, out_qsize 0\n",
      "2019-11-05 02:29:57,813 : INFO : EPOCH 27 - PROGRESS: at 30.24% examples, 298575 words/s, in_qsize 14, out_qsize 1\n",
      "2019-11-05 02:29:58,834 : INFO : EPOCH 27 - PROGRESS: at 34.24% examples, 301212 words/s, in_qsize 16, out_qsize 0\n",
      "2019-11-05 02:29:59,871 : INFO : EPOCH 27 - PROGRESS: at 38.13% examples, 302002 words/s, in_qsize 16, out_qsize 0\n",
      "2019-11-05 02:30:00,955 : INFO : EPOCH 27 - PROGRESS: at 42.02% examples, 301420 words/s, in_qsize 12, out_qsize 4\n",
      "2019-11-05 02:30:01,969 : INFO : EPOCH 27 - PROGRESS: at 46.03% examples, 303348 words/s, in_qsize 15, out_qsize 0\n",
      "2019-11-05 02:30:02,990 : INFO : EPOCH 27 - PROGRESS: at 50.02% examples, 304826 words/s, in_qsize 13, out_qsize 1\n",
      "2019-11-05 02:30:04,019 : INFO : EPOCH 27 - PROGRESS: at 54.14% examples, 306550 words/s, in_qsize 14, out_qsize 0\n",
      "2019-11-05 02:30:05,041 : INFO : EPOCH 27 - PROGRESS: at 57.81% examples, 305869 words/s, in_qsize 15, out_qsize 0\n",
      "2019-11-05 02:30:06,052 : INFO : EPOCH 27 - PROGRESS: at 61.82% examples, 307099 words/s, in_qsize 16, out_qsize 0\n",
      "2019-11-05 02:30:07,137 : INFO : EPOCH 27 - PROGRESS: at 65.72% examples, 306386 words/s, in_qsize 15, out_qsize 0\n",
      "2019-11-05 02:30:08,194 : INFO : EPOCH 27 - PROGRESS: at 69.94% examples, 307645 words/s, in_qsize 14, out_qsize 1\n",
      "2019-11-05 02:30:09,216 : INFO : EPOCH 27 - PROGRESS: at 73.73% examples, 307504 words/s, in_qsize 15, out_qsize 0\n",
      "2019-11-05 02:30:10,297 : INFO : EPOCH 27 - PROGRESS: at 77.86% examples, 308291 words/s, in_qsize 15, out_qsize 0\n",
      "2019-11-05 02:30:11,309 : INFO : EPOCH 27 - PROGRESS: at 81.99% examples, 309041 words/s, in_qsize 15, out_qsize 0\n",
      "2019-11-05 02:30:12,349 : INFO : EPOCH 27 - PROGRESS: at 85.77% examples, 308992 words/s, in_qsize 16, out_qsize 2\n",
      "2019-11-05 02:30:13,351 : INFO : EPOCH 27 - PROGRESS: at 89.89% examples, 309848 words/s, in_qsize 16, out_qsize 0\n",
      "2019-11-05 02:30:14,353 : INFO : EPOCH 27 - PROGRESS: at 93.92% examples, 310593 words/s, in_qsize 12, out_qsize 0\n",
      "2019-11-05 02:30:15,438 : INFO : EPOCH 27 - PROGRESS: at 97.71% examples, 309627 words/s, in_qsize 15, out_qsize 1\n",
      "2019-11-05 02:30:15,808 : INFO : worker thread finished; awaiting finish of 7 more threads\n",
      "2019-11-05 02:30:15,830 : INFO : worker thread finished; awaiting finish of 6 more threads\n",
      "2019-11-05 02:30:15,850 : INFO : worker thread finished; awaiting finish of 5 more threads\n",
      "2019-11-05 02:30:15,856 : INFO : worker thread finished; awaiting finish of 4 more threads\n",
      "2019-11-05 02:30:15,886 : INFO : worker thread finished; awaiting finish of 3 more threads\n",
      "2019-11-05 02:30:15,891 : INFO : worker thread finished; awaiting finish of 2 more threads\n",
      "2019-11-05 02:30:15,896 : INFO : worker thread finished; awaiting finish of 1 more threads\n",
      "2019-11-05 02:30:15,904 : INFO : worker thread finished; awaiting finish of 0 more threads\n",
      "2019-11-05 02:30:15,905 : INFO : EPOCH - 27 : training on 9227204 raw words (8222354 effective words) took 26.4s, 311263 effective words/s\n",
      "2019-11-05 02:30:16,957 : INFO : EPOCH 28 - PROGRESS: at 3.58% examples, 287000 words/s, in_qsize 16, out_qsize 0\n",
      "2019-11-05 02:30:17,973 : INFO : EPOCH 28 - PROGRESS: at 7.28% examples, 292620 words/s, in_qsize 13, out_qsize 2\n",
      "2019-11-05 02:30:18,987 : INFO : EPOCH 28 - PROGRESS: at 11.30% examples, 303448 words/s, in_qsize 16, out_qsize 0\n",
      "2019-11-05 02:30:20,025 : INFO : EPOCH 28 - PROGRESS: at 15.08% examples, 302545 words/s, in_qsize 14, out_qsize 1\n",
      "2019-11-05 02:30:21,076 : INFO : EPOCH 28 - PROGRESS: at 18.97% examples, 303017 words/s, in_qsize 15, out_qsize 2\n",
      "2019-11-05 02:30:22,076 : INFO : EPOCH 28 - PROGRESS: at 23.09% examples, 308799 words/s, in_qsize 14, out_qsize 0\n",
      "2019-11-05 02:30:23,123 : INFO : EPOCH 28 - PROGRESS: at 26.78% examples, 305980 words/s, in_qsize 15, out_qsize 0\n",
      "2019-11-05 02:30:24,208 : INFO : EPOCH 28 - PROGRESS: at 31.00% examples, 307856 words/s, in_qsize 15, out_qsize 1\n",
      "2019-11-05 02:30:25,221 : INFO : EPOCH 28 - PROGRESS: at 34.89% examples, 308790 words/s, in_qsize 15, out_qsize 0\n",
      "2019-11-05 02:30:26,270 : INFO : EPOCH 28 - PROGRESS: at 39.00% examples, 310188 words/s, in_qsize 15, out_qsize 0\n",
      "2019-11-05 02:30:27,270 : INFO : EPOCH 28 - PROGRESS: at 42.68% examples, 309526 words/s, in_qsize 14, out_qsize 1\n",
      "2019-11-05 02:30:28,286 : INFO : EPOCH 28 - PROGRESS: at 46.67% examples, 310773 words/s, in_qsize 10, out_qsize 2\n",
      "2019-11-05 02:30:29,292 : INFO : EPOCH 28 - PROGRESS: at 50.34% examples, 310043 words/s, in_qsize 12, out_qsize 3\n",
      "2019-11-05 02:30:30,349 : INFO : EPOCH 28 - PROGRESS: at 54.46% examples, 310811 words/s, in_qsize 15, out_qsize 0\n",
      "2019-11-05 02:30:31,453 : INFO : EPOCH 28 - PROGRESS: at 58.47% examples, 309954 words/s, in_qsize 14, out_qsize 1\n",
      "2019-11-05 02:30:32,538 : INFO : EPOCH 28 - PROGRESS: at 62.57% examples, 310097 words/s, in_qsize 16, out_qsize 0\n",
      "2019-11-05 02:30:33,614 : INFO : EPOCH 28 - PROGRESS: at 66.69% examples, 310350 words/s, in_qsize 13, out_qsize 2\n",
      "2019-11-05 02:30:34,615 : INFO : EPOCH 28 - PROGRESS: at 70.59% examples, 310880 words/s, in_qsize 15, out_qsize 0\n",
      "2019-11-05 02:30:35,646 : INFO : EPOCH 28 - PROGRESS: at 74.70% examples, 311793 words/s, in_qsize 15, out_qsize 0\n",
      "2019-11-05 02:30:36,773 : INFO : EPOCH 28 - PROGRESS: at 78.83% examples, 311172 words/s, in_qsize 15, out_qsize 0\n",
      "2019-11-05 02:30:37,801 : INFO : EPOCH 28 - PROGRESS: at 82.64% examples, 310797 words/s, in_qsize 16, out_qsize 1\n",
      "2019-11-05 02:30:38,816 : INFO : EPOCH 28 - PROGRESS: at 86.53% examples, 311011 words/s, in_qsize 14, out_qsize 1\n",
      "2019-11-05 02:30:39,854 : INFO : EPOCH 28 - PROGRESS: at 90.44% examples, 310909 words/s, in_qsize 16, out_qsize 0\n",
      "2019-11-05 02:30:40,875 : INFO : EPOCH 28 - PROGRESS: at 94.58% examples, 311737 words/s, in_qsize 15, out_qsize 0\n",
      "2019-11-05 02:30:41,946 : INFO : EPOCH 28 - PROGRESS: at 98.69% examples, 311927 words/s, in_qsize 12, out_qsize 1\n",
      "2019-11-05 02:30:42,070 : INFO : worker thread finished; awaiting finish of 7 more threads\n",
      "2019-11-05 02:30:42,073 : INFO : worker thread finished; awaiting finish of 6 more threads\n",
      "2019-11-05 02:30:42,090 : INFO : worker thread finished; awaiting finish of 5 more threads\n",
      "2019-11-05 02:30:42,105 : INFO : worker thread finished; awaiting finish of 4 more threads\n",
      "2019-11-05 02:30:42,113 : INFO : worker thread finished; awaiting finish of 3 more threads\n",
      "2019-11-05 02:30:42,137 : INFO : worker thread finished; awaiting finish of 2 more threads\n",
      "2019-11-05 02:30:42,138 : INFO : worker thread finished; awaiting finish of 1 more threads\n",
      "2019-11-05 02:30:42,150 : INFO : worker thread finished; awaiting finish of 0 more threads\n",
      "2019-11-05 02:30:42,150 : INFO : EPOCH - 28 : training on 9227204 raw words (8222016 effective words) took 26.2s, 313607 effective words/s\n",
      "2019-11-05 02:30:43,206 : INFO : EPOCH 29 - PROGRESS: at 3.47% examples, 279061 words/s, in_qsize 15, out_qsize 1\n",
      "2019-11-05 02:30:44,221 : INFO : EPOCH 29 - PROGRESS: at 7.60% examples, 306143 words/s, in_qsize 13, out_qsize 0\n",
      "2019-11-05 02:30:45,229 : INFO : EPOCH 29 - PROGRESS: at 11.40% examples, 307349 words/s, in_qsize 14, out_qsize 1\n",
      "2019-11-05 02:30:46,243 : INFO : EPOCH 29 - PROGRESS: at 15.30% examples, 309543 words/s, in_qsize 15, out_qsize 0\n",
      "2019-11-05 02:30:47,247 : INFO : EPOCH 29 - PROGRESS: at 18.97% examples, 307942 words/s, in_qsize 15, out_qsize 0\n",
      "2019-11-05 02:30:48,249 : INFO : EPOCH 29 - PROGRESS: at 22.43% examples, 304133 words/s, in_qsize 14, out_qsize 2\n",
      "2019-11-05 02:30:49,281 : INFO : EPOCH 29 - PROGRESS: at 26.77% examples, 310102 words/s, in_qsize 15, out_qsize 0\n",
      "2019-11-05 02:30:50,320 : INFO : EPOCH 29 - PROGRESS: at 30.67% examples, 309952 words/s, in_qsize 15, out_qsize 0\n",
      "2019-11-05 02:30:51,365 : INFO : EPOCH 29 - PROGRESS: at 34.78% examples, 311550 words/s, in_qsize 13, out_qsize 0\n",
      "2019-11-05 02:30:52,410 : INFO : EPOCH 29 - PROGRESS: at 38.46% examples, 309315 words/s, in_qsize 15, out_qsize 0\n",
      "2019-11-05 02:30:53,450 : INFO : EPOCH 29 - PROGRESS: at 42.46% examples, 310004 words/s, in_qsize 12, out_qsize 3\n",
      "2019-11-05 02:30:54,456 : INFO : EPOCH 29 - PROGRESS: at 46.46% examples, 311456 words/s, in_qsize 16, out_qsize 0\n",
      "2019-11-05 02:30:55,485 : INFO : EPOCH 29 - PROGRESS: at 50.24% examples, 310803 words/s, in_qsize 15, out_qsize 0\n",
      "2019-11-05 02:30:56,499 : INFO : EPOCH 29 - PROGRESS: at 54.14% examples, 311218 words/s, in_qsize 12, out_qsize 3\n",
      "2019-11-05 02:30:57,537 : INFO : EPOCH 29 - PROGRESS: at 58.15% examples, 311661 words/s, in_qsize 16, out_qsize 2\n",
      "2019-11-05 02:30:58,582 : INFO : EPOCH 29 - PROGRESS: at 62.04% examples, 311931 words/s, in_qsize 15, out_qsize 1\n",
      "2019-11-05 02:30:59,686 : INFO : EPOCH 29 - PROGRESS: at 66.26% examples, 311936 words/s, in_qsize 15, out_qsize 6\n",
      "2019-11-05 02:31:00,667 : INFO : EPOCH 29 - PROGRESS: at 70.27% examples, 312868 words/s, in_qsize 14, out_qsize 1\n",
      "2019-11-05 02:31:01,716 : INFO : EPOCH 29 - PROGRESS: at 74.37% examples, 313380 words/s, in_qsize 16, out_qsize 0\n",
      "2019-11-05 02:31:02,873 : INFO : EPOCH 29 - PROGRESS: at 78.51% examples, 312211 words/s, in_qsize 14, out_qsize 3\n",
      "2019-11-05 02:31:03,878 : INFO : EPOCH 29 - PROGRESS: at 82.74% examples, 313757 words/s, in_qsize 14, out_qsize 1\n",
      "2019-11-05 02:31:04,918 : INFO : EPOCH 29 - PROGRESS: at 86.85% examples, 314295 words/s, in_qsize 15, out_qsize 0\n",
      "2019-11-05 02:31:05,976 : INFO : EPOCH 29 - PROGRESS: at 90.76% examples, 313783 words/s, in_qsize 14, out_qsize 1\n",
      "2019-11-05 02:31:06,985 : INFO : EPOCH 29 - PROGRESS: at 94.80% examples, 314300 words/s, in_qsize 15, out_qsize 1\n",
      "2019-11-05 02:31:08,030 : INFO : EPOCH 29 - PROGRESS: at 98.69% examples, 313993 words/s, in_qsize 10, out_qsize 3\n",
      "2019-11-05 02:31:08,067 : INFO : worker thread finished; awaiting finish of 7 more threads\n",
      "2019-11-05 02:31:08,077 : INFO : worker thread finished; awaiting finish of 6 more threads\n",
      "2019-11-05 02:31:08,094 : INFO : worker thread finished; awaiting finish of 5 more threads\n",
      "2019-11-05 02:31:08,101 : INFO : worker thread finished; awaiting finish of 4 more threads\n",
      "2019-11-05 02:31:08,176 : INFO : worker thread finished; awaiting finish of 3 more threads\n",
      "2019-11-05 02:31:08,183 : INFO : worker thread finished; awaiting finish of 2 more threads\n",
      "2019-11-05 02:31:08,186 : INFO : worker thread finished; awaiting finish of 1 more threads\n",
      "2019-11-05 02:31:08,189 : INFO : worker thread finished; awaiting finish of 0 more threads\n",
      "2019-11-05 02:31:08,190 : INFO : EPOCH - 29 : training on 9227204 raw words (8222724 effective words) took 26.0s, 316210 effective words/s\n",
      "2019-11-05 02:31:09,241 : INFO : EPOCH 30 - PROGRESS: at 3.47% examples, 273921 words/s, in_qsize 15, out_qsize 0\n",
      "2019-11-05 02:31:10,285 : INFO : EPOCH 30 - PROGRESS: at 7.50% examples, 298113 words/s, in_qsize 15, out_qsize 1\n",
      "2019-11-05 02:31:11,356 : INFO : EPOCH 30 - PROGRESS: at 11.40% examples, 296551 words/s, in_qsize 16, out_qsize 1\n",
      "2019-11-05 02:31:12,381 : INFO : EPOCH 30 - PROGRESS: at 15.73% examples, 308932 words/s, in_qsize 15, out_qsize 0\n",
      "2019-11-05 02:31:13,419 : INFO : EPOCH 30 - PROGRESS: at 19.29% examples, 303794 words/s, in_qsize 14, out_qsize 1\n",
      "2019-11-05 02:31:14,445 : INFO : EPOCH 30 - PROGRESS: at 23.20% examples, 305319 words/s, in_qsize 15, out_qsize 1\n",
      "2019-11-05 02:31:15,507 : INFO : EPOCH 30 - PROGRESS: at 27.42% examples, 308466 words/s, in_qsize 15, out_qsize 0\n",
      "2019-11-05 02:31:16,516 : INFO : EPOCH 30 - PROGRESS: at 30.99% examples, 306409 words/s, in_qsize 15, out_qsize 0\n",
      "2019-11-05 02:31:17,557 : INFO : EPOCH 30 - PROGRESS: at 35.00% examples, 307563 words/s, in_qsize 15, out_qsize 0\n",
      "2019-11-05 02:31:18,564 : INFO : EPOCH 30 - PROGRESS: at 38.89% examples, 308601 words/s, in_qsize 15, out_qsize 0\n",
      "2019-11-05 02:31:19,593 : INFO : EPOCH 30 - PROGRESS: at 43.00% examples, 310431 words/s, in_qsize 14, out_qsize 0\n",
      "2019-11-05 02:31:20,630 : INFO : EPOCH 30 - PROGRESS: at 47.00% examples, 311052 words/s, in_qsize 13, out_qsize 2\n",
      "2019-11-05 02:31:21,663 : INFO : EPOCH 30 - PROGRESS: at 51.10% examples, 312353 words/s, in_qsize 15, out_qsize 0\n",
      "2019-11-05 02:31:22,805 : INFO : EPOCH 30 - PROGRESS: at 54.99% examples, 309887 words/s, in_qsize 14, out_qsize 1\n",
      "2019-11-05 02:31:23,829 : INFO : EPOCH 30 - PROGRESS: at 59.01% examples, 310676 words/s, in_qsize 15, out_qsize 0\n",
      "2019-11-05 02:31:24,842 : INFO : EPOCH 30 - PROGRESS: at 63.33% examples, 313185 words/s, in_qsize 12, out_qsize 0\n",
      "2019-11-05 02:31:25,848 : INFO : EPOCH 30 - PROGRESS: at 67.13% examples, 313011 words/s, in_qsize 16, out_qsize 0\n",
      "2019-11-05 02:31:26,949 : INFO : EPOCH 30 - PROGRESS: at 71.02% examples, 312477 words/s, in_qsize 16, out_qsize 0\n",
      "2019-11-05 02:31:27,952 : INFO : EPOCH 30 - PROGRESS: at 74.92% examples, 312553 words/s, in_qsize 15, out_qsize 1\n",
      "2019-11-05 02:31:28,972 : INFO : EPOCH 30 - PROGRESS: at 78.73% examples, 311818 words/s, in_qsize 12, out_qsize 3\n",
      "2019-11-05 02:31:29,976 : INFO : EPOCH 30 - PROGRESS: at 82.96% examples, 313407 words/s, in_qsize 16, out_qsize 0\n",
      "2019-11-05 02:31:30,995 : INFO : EPOCH 30 - PROGRESS: at 86.53% examples, 312272 words/s, in_qsize 15, out_qsize 0\n",
      "2019-11-05 02:31:32,051 : INFO : EPOCH 30 - PROGRESS: at 90.54% examples, 312256 words/s, in_qsize 15, out_qsize 0\n",
      "2019-11-05 02:31:33,055 : INFO : EPOCH 30 - PROGRESS: at 94.47% examples, 312528 words/s, in_qsize 15, out_qsize 0\n",
      "2019-11-05 02:31:34,067 : INFO : EPOCH 30 - PROGRESS: at 98.79% examples, 314071 words/s, in_qsize 12, out_qsize 0\n",
      "2019-11-05 02:31:34,240 : INFO : worker thread finished; awaiting finish of 7 more threads\n",
      "2019-11-05 02:31:34,259 : INFO : worker thread finished; awaiting finish of 6 more threads\n",
      "2019-11-05 02:31:34,288 : INFO : worker thread finished; awaiting finish of 5 more threads\n",
      "2019-11-05 02:31:34,289 : INFO : worker thread finished; awaiting finish of 4 more threads\n",
      "2019-11-05 02:31:34,294 : INFO : worker thread finished; awaiting finish of 3 more threads\n",
      "2019-11-05 02:31:34,307 : INFO : worker thread finished; awaiting finish of 2 more threads\n",
      "2019-11-05 02:31:34,315 : INFO : worker thread finished; awaiting finish of 1 more threads\n",
      "2019-11-05 02:31:34,319 : INFO : worker thread finished; awaiting finish of 0 more threads\n",
      "2019-11-05 02:31:34,320 : INFO : EPOCH - 30 : training on 9227204 raw words (8223344 effective words) took 26.1s, 314821 effective words/s\n",
      "2019-11-05 02:31:35,436 : INFO : EPOCH 31 - PROGRESS: at 3.58% examples, 271645 words/s, in_qsize 15, out_qsize 0\n",
      "2019-11-05 02:31:36,446 : INFO : EPOCH 31 - PROGRESS: at 7.60% examples, 298009 words/s, in_qsize 11, out_qsize 2\n",
      "2019-11-05 02:31:37,458 : INFO : EPOCH 31 - PROGRESS: at 11.62% examples, 307159 words/s, in_qsize 15, out_qsize 0\n",
      "2019-11-05 02:31:38,516 : INFO : EPOCH 31 - PROGRESS: at 15.41% examples, 303887 words/s, in_qsize 15, out_qsize 2\n",
      "2019-11-05 02:31:39,517 : INFO : EPOCH 31 - PROGRESS: at 19.30% examples, 307104 words/s, in_qsize 14, out_qsize 1\n",
      "2019-11-05 02:31:40,563 : INFO : EPOCH 31 - PROGRESS: at 23.09% examples, 305623 words/s, in_qsize 16, out_qsize 1\n",
      "2019-11-05 02:31:41,672 : INFO : EPOCH 31 - PROGRESS: at 27.32% examples, 306763 words/s, in_qsize 14, out_qsize 1\n",
      "2019-11-05 02:31:42,709 : INFO : EPOCH 31 - PROGRESS: at 31.21% examples, 307056 words/s, in_qsize 16, out_qsize 0\n",
      "2019-11-05 02:31:43,801 : INFO : EPOCH 31 - PROGRESS: at 35.53% examples, 309286 words/s, in_qsize 15, out_qsize 0\n",
      "2019-11-05 02:31:44,833 : INFO : EPOCH 31 - PROGRESS: at 39.43% examples, 309428 words/s, in_qsize 15, out_qsize 0\n",
      "2019-11-05 02:31:45,853 : INFO : EPOCH 31 - PROGRESS: at 43.43% examples, 310632 words/s, in_qsize 15, out_qsize 0\n",
      "2019-11-05 02:31:46,923 : INFO : EPOCH 31 - PROGRESS: at 47.54% examples, 311130 words/s, in_qsize 15, out_qsize 0\n",
      "2019-11-05 02:31:47,951 : INFO : EPOCH 31 - PROGRESS: at 51.43% examples, 311209 words/s, in_qsize 14, out_qsize 1\n",
      "2019-11-05 02:31:48,953 : INFO : EPOCH 31 - PROGRESS: at 55.53% examples, 313057 words/s, in_qsize 16, out_qsize 0\n",
      "2019-11-05 02:31:49,981 : INFO : EPOCH 31 - PROGRESS: at 58.90% examples, 310157 words/s, in_qsize 16, out_qsize 3\n",
      "2019-11-05 02:31:51,008 : INFO : EPOCH 31 - PROGRESS: at 63.00% examples, 311803 words/s, in_qsize 12, out_qsize 4\n",
      "2019-11-05 02:31:52,007 : INFO : EPOCH 31 - PROGRESS: at 66.69% examples, 311088 words/s, in_qsize 16, out_qsize 3\n",
      "2019-11-05 02:31:53,089 : INFO : EPOCH 31 - PROGRESS: at 70.80% examples, 311004 words/s, in_qsize 16, out_qsize 1\n",
      "2019-11-05 02:31:54,092 : INFO : EPOCH 31 - PROGRESS: at 74.81% examples, 311881 words/s, in_qsize 15, out_qsize 0\n",
      "2019-11-05 02:31:55,101 : INFO : EPOCH 31 - PROGRESS: at 78.84% examples, 312590 words/s, in_qsize 15, out_qsize 0\n",
      "2019-11-05 02:31:56,146 : INFO : EPOCH 31 - PROGRESS: at 82.42% examples, 311562 words/s, in_qsize 14, out_qsize 4\n",
      "2019-11-05 02:31:57,141 : INFO : EPOCH 31 - PROGRESS: at 86.31% examples, 311585 words/s, in_qsize 15, out_qsize 0\n",
      "2019-11-05 02:31:58,181 : INFO : EPOCH 31 - PROGRESS: at 90.44% examples, 312180 words/s, in_qsize 13, out_qsize 2\n",
      "2019-11-05 02:31:59,183 : INFO : EPOCH 31 - PROGRESS: at 94.25% examples, 312132 words/s, in_qsize 13, out_qsize 2\n",
      "2019-11-05 02:32:00,236 : INFO : EPOCH 31 - PROGRESS: at 97.93% examples, 311127 words/s, in_qsize 15, out_qsize 0\n",
      "2019-11-05 02:32:00,526 : INFO : worker thread finished; awaiting finish of 7 more threads\n",
      "2019-11-05 02:32:00,549 : INFO : worker thread finished; awaiting finish of 6 more threads\n",
      "2019-11-05 02:32:00,550 : INFO : worker thread finished; awaiting finish of 5 more threads\n",
      "2019-11-05 02:32:00,551 : INFO : worker thread finished; awaiting finish of 4 more threads\n",
      "2019-11-05 02:32:00,573 : INFO : worker thread finished; awaiting finish of 3 more threads\n",
      "2019-11-05 02:32:00,587 : INFO : worker thread finished; awaiting finish of 2 more threads\n",
      "2019-11-05 02:32:00,601 : INFO : worker thread finished; awaiting finish of 1 more threads\n",
      "2019-11-05 02:32:00,612 : INFO : worker thread finished; awaiting finish of 0 more threads\n",
      "2019-11-05 02:32:00,613 : INFO : EPOCH - 31 : training on 9227204 raw words (8223250 effective words) took 26.3s, 313151 effective words/s\n",
      "2019-11-05 02:32:01,661 : INFO : EPOCH 32 - PROGRESS: at 3.25% examples, 257662 words/s, in_qsize 15, out_qsize 1\n",
      "2019-11-05 02:32:02,708 : INFO : EPOCH 32 - PROGRESS: at 7.38% examples, 290604 words/s, in_qsize 15, out_qsize 0\n",
      "2019-11-05 02:32:03,741 : INFO : EPOCH 32 - PROGRESS: at 11.51% examples, 303026 words/s, in_qsize 16, out_qsize 0\n",
      "2019-11-05 02:32:04,767 : INFO : EPOCH 32 - PROGRESS: at 15.41% examples, 305320 words/s, in_qsize 15, out_qsize 0\n",
      "2019-11-05 02:32:05,801 : INFO : EPOCH 32 - PROGRESS: at 19.51% examples, 309727 words/s, in_qsize 15, out_qsize 0\n",
      "2019-11-05 02:32:06,804 : INFO : EPOCH 32 - PROGRESS: at 23.42% examples, 311344 words/s, in_qsize 14, out_qsize 1\n",
      "2019-11-05 02:32:07,817 : INFO : EPOCH 32 - PROGRESS: at 27.20% examples, 310859 words/s, in_qsize 15, out_qsize 0\n",
      "2019-11-05 02:32:08,821 : INFO : EPOCH 32 - PROGRESS: at 31.00% examples, 310839 words/s, in_qsize 15, out_qsize 0\n",
      "2019-11-05 02:32:09,824 : INFO : EPOCH 32 - PROGRESS: at 34.89% examples, 311765 words/s, in_qsize 15, out_qsize 0\n",
      "2019-11-05 02:32:10,880 : INFO : EPOCH 32 - PROGRESS: at 38.68% examples, 310087 words/s, in_qsize 15, out_qsize 0\n",
      "2019-11-05 02:32:11,883 : INFO : EPOCH 32 - PROGRESS: at 43.00% examples, 314105 words/s, in_qsize 11, out_qsize 0\n",
      "2019-11-05 02:32:13,007 : INFO : EPOCH 32 - PROGRESS: at 46.78% examples, 310759 words/s, in_qsize 14, out_qsize 1\n",
      "2019-11-05 02:32:14,018 : INFO : EPOCH 32 - PROGRESS: at 50.88% examples, 312598 words/s, in_qsize 15, out_qsize 0\n",
      "2019-11-05 02:32:15,037 : INFO : EPOCH 32 - PROGRESS: at 54.78% examples, 312760 words/s, in_qsize 15, out_qsize 0\n",
      "2019-11-05 02:32:16,062 : INFO : EPOCH 32 - PROGRESS: at 58.58% examples, 312201 words/s, in_qsize 15, out_qsize 0\n",
      "2019-11-05 02:32:17,101 : INFO : EPOCH 32 - PROGRESS: at 62.57% examples, 312512 words/s, in_qsize 15, out_qsize 0\n",
      "2019-11-05 02:32:18,139 : INFO : EPOCH 32 - PROGRESS: at 66.47% examples, 312303 words/s, in_qsize 15, out_qsize 1\n",
      "2019-11-05 02:32:19,236 : INFO : EPOCH 32 - PROGRESS: at 70.58% examples, 312819 words/s, in_qsize 15, out_qsize 1\n",
      "2019-11-05 02:32:20,258 : INFO : EPOCH 32 - PROGRESS: at 74.48% examples, 312169 words/s, in_qsize 16, out_qsize 2\n",
      "2019-11-05 02:32:21,345 : INFO : EPOCH 32 - PROGRESS: at 78.40% examples, 311270 words/s, in_qsize 15, out_qsize 0\n",
      "2019-11-05 02:32:22,423 : INFO : EPOCH 32 - PROGRESS: at 82.64% examples, 311808 words/s, in_qsize 15, out_qsize 0\n",
      "2019-11-05 02:32:23,465 : INFO : EPOCH 32 - PROGRESS: at 86.75% examples, 312395 words/s, in_qsize 14, out_qsize 1\n",
      "2019-11-05 02:32:24,494 : INFO : EPOCH 32 - PROGRESS: at 90.87% examples, 313100 words/s, in_qsize 16, out_qsize 0\n",
      "2019-11-05 02:32:25,512 : INFO : EPOCH 32 - PROGRESS: at 94.47% examples, 312083 words/s, in_qsize 15, out_qsize 0\n",
      "2019-11-05 02:32:26,538 : INFO : EPOCH 32 - PROGRESS: at 98.79% examples, 313486 words/s, in_qsize 12, out_qsize 0\n",
      "2019-11-05 02:32:26,690 : INFO : worker thread finished; awaiting finish of 7 more threads\n",
      "2019-11-05 02:32:26,694 : INFO : worker thread finished; awaiting finish of 6 more threads\n",
      "2019-11-05 02:32:26,696 : INFO : worker thread finished; awaiting finish of 5 more threads\n",
      "2019-11-05 02:32:26,697 : INFO : worker thread finished; awaiting finish of 4 more threads\n",
      "2019-11-05 02:32:26,698 : INFO : worker thread finished; awaiting finish of 3 more threads\n",
      "2019-11-05 02:32:26,729 : INFO : worker thread finished; awaiting finish of 2 more threads\n",
      "2019-11-05 02:32:26,736 : INFO : worker thread finished; awaiting finish of 1 more threads\n",
      "2019-11-05 02:32:26,748 : INFO : worker thread finished; awaiting finish of 0 more threads\n",
      "2019-11-05 02:32:26,749 : INFO : EPOCH - 32 : training on 9227204 raw words (8222718 effective words) took 26.1s, 314744 effective words/s\n",
      "2019-11-05 02:32:26,750 : INFO : training on a 295270528 raw words (263127457 effective words) took 846.3s, 310922 effective words/s\n"
     ]
    },
    {
     "name": "stdout",
     "output_type": "stream",
     "text": [
      "CPU times: user 26min 44s, sys: 12.8 s, total: 26min 57s\n",
      "Wall time: 14min 6s\n"
     ]
    },
    {
     "data": {
      "text/plain": [
       "(263127457, 295270528)"
      ]
     },
     "execution_count": 18,
     "metadata": {},
     "output_type": "execute_result"
    }
   ],
   "source": [
    "%%time\n",
    "w2v_model.train(documents, total_examples=len(documents), epochs=W2V_EPOCH)"
   ]
  },
  {
   "cell_type": "code",
   "execution_count": 19,
   "metadata": {
    "_uuid": "27cc2651c74227115d8bfd8c40e5618048e05edd"
   },
   "outputs": [
    {
     "name": "stderr",
     "output_type": "stream",
     "text": [
      "/opt/conda/lib/python3.6/site-packages/ipykernel_launcher.py:1: DeprecationWarning: Call to deprecated `most_similar` (Method will be removed in 4.0.0, use self.wv.most_similar() instead).\n",
      "  \"\"\"Entry point for launching an IPython kernel.\n",
      "2019-11-05 02:32:27,584 : INFO : precomputing L2-norms of word weight vectors\n",
      "/opt/conda/lib/python3.6/site-packages/gensim/matutils.py:737: FutureWarning: Conversion of the second argument of issubdtype from `int` to `np.signedinteger` is deprecated. In future, it will be treated as `np.int64 == np.dtype(int).type`.\n",
      "  if np.issubdtype(vec.dtype, np.int):\n"
     ]
    },
    {
     "data": {
      "text/plain": [
       "[('luv', 0.5730835199356079),\n",
       " ('loves', 0.5698384642601013),\n",
       " ('loved', 0.5360028743743896),\n",
       " ('adore', 0.5127588510513306),\n",
       " ('looove', 0.5117019414901733),\n",
       " ('amazing', 0.5033037662506104),\n",
       " ('awesome', 0.45735669136047363),\n",
       " ('loveee', 0.44634413719177246),\n",
       " ('lovee', 0.44072240591049194),\n",
       " ('loooove', 0.43453940749168396)]"
      ]
     },
     "execution_count": 19,
     "metadata": {},
     "output_type": "execute_result"
    }
   ],
   "source": [
    "w2v_model.most_similar(\"love\")"
   ]
  },
  {
   "cell_type": "markdown",
   "metadata": {
    "_uuid": "e13563644468037258598637b49373ca96b9b879"
   },
   "source": [
    "### Tokenize Text"
   ]
  },
  {
   "cell_type": "code",
   "execution_count": 20,
   "metadata": {
    "_uuid": "6852bc709a7cd20173cbeeb218505078f8f37c57"
   },
   "outputs": [
    {
     "name": "stdout",
     "output_type": "stream",
     "text": [
      "Total words 290419\n",
      "CPU times: user 32.7 s, sys: 200 ms, total: 32.9 s\n",
      "Wall time: 32.8 s\n"
     ]
    }
   ],
   "source": [
    "%%time\n",
    "tokenizer = Tokenizer()\n",
    "tokenizer.fit_on_texts(df_train.text)\n",
    "\n",
    "vocab_size = len(tokenizer.word_index) + 1\n",
    "print(\"Total words\", vocab_size)"
   ]
  },
  {
   "cell_type": "code",
   "execution_count": 21,
   "metadata": {
    "_uuid": "45de439df3015030c71f84c2d170346936a1d68f"
   },
   "outputs": [
    {
     "name": "stdout",
     "output_type": "stream",
     "text": [
      "CPU times: user 50.9 s, sys: 1.07 s, total: 52 s\n",
      "Wall time: 52.1 s\n"
     ]
    }
   ],
   "source": [
    "%%time\n",
    "x_train = pad_sequences(tokenizer.texts_to_sequences(df_train.text), maxlen=SEQUENCE_LENGTH)\n",
    "x_test = pad_sequences(tokenizer.texts_to_sequences(df_test.text), maxlen=SEQUENCE_LENGTH)"
   ]
  },
  {
   "cell_type": "markdown",
   "metadata": {
    "_uuid": "03b35903fc6260e190d6928d240ef7432de117fc"
   },
   "source": [
    "### Label Encoder "
   ]
  },
  {
   "cell_type": "code",
   "execution_count": 22,
   "metadata": {
    "_uuid": "33676e0efa39e97d89bd650b8b4eae933a22fbf0"
   },
   "outputs": [
    {
     "data": {
      "text/plain": [
       "['POSITIVE', 'NEGATIVE', 'NEUTRAL']"
      ]
     },
     "execution_count": 22,
     "metadata": {},
     "output_type": "execute_result"
    }
   ],
   "source": [
    "labels = df_train.target.unique().tolist()\n",
    "labels.append(NEUTRAL)\n",
    "labels"
   ]
  },
  {
   "cell_type": "code",
   "execution_count": 23,
   "metadata": {
    "_uuid": "04239a9bef76e7922fd86098a5601dfde8ee4665"
   },
   "outputs": [
    {
     "name": "stdout",
     "output_type": "stream",
     "text": [
      "y_train (1280000, 1)\n",
      "y_test (320000, 1)\n"
     ]
    }
   ],
   "source": [
    "encoder = LabelEncoder()\n",
    "encoder.fit(df_train.target.tolist())\n",
    "\n",
    "y_train = encoder.transform(df_train.target.tolist())\n",
    "y_test = encoder.transform(df_test.target.tolist())\n",
    "\n",
    "y_train = y_train.reshape(-1,1)\n",
    "y_test = y_test.reshape(-1,1)\n",
    "\n",
    "print(\"y_train\",y_train.shape)\n",
    "print(\"y_test\",y_test.shape)"
   ]
  },
  {
   "cell_type": "code",
   "execution_count": 24,
   "metadata": {
    "_uuid": "04299c886911ca135583ab64878f213939a2990c"
   },
   "outputs": [
    {
     "name": "stdout",
     "output_type": "stream",
     "text": [
      "x_train (1280000, 300)\n",
      "y_train (1280000, 1)\n",
      "\n",
      "x_test (320000, 300)\n",
      "y_test (320000, 1)\n"
     ]
    }
   ],
   "source": [
    "print(\"x_train\", x_train.shape)\n",
    "print(\"y_train\", y_train.shape)\n",
    "print()\n",
    "print(\"x_test\", x_test.shape)\n",
    "print(\"y_test\", y_test.shape)"
   ]
  },
  {
   "cell_type": "code",
   "execution_count": 25,
   "metadata": {
    "_uuid": "232533fb27b7be99d9b8c2f8fb22c9c6bf121a6f"
   },
   "outputs": [
    {
     "data": {
      "text/plain": [
       "array([[1],\n",
       "       [1],\n",
       "       [1],\n",
       "       [0],\n",
       "       [1],\n",
       "       [1],\n",
       "       [1],\n",
       "       [1],\n",
       "       [1],\n",
       "       [1]])"
      ]
     },
     "execution_count": 25,
     "metadata": {},
     "output_type": "execute_result"
    }
   ],
   "source": [
    "y_train[:10]"
   ]
  },
  {
   "cell_type": "markdown",
   "metadata": {
    "_uuid": "233c0ea94055a03e2e7df3e2a13d036ec963484f"
   },
   "source": [
    "### Embedding layer"
   ]
  },
  {
   "cell_type": "code",
   "execution_count": 26,
   "metadata": {
    "_uuid": "9ab488374b59e3f30f8b1ea92767d853c4846bac"
   },
   "outputs": [
    {
     "name": "stdout",
     "output_type": "stream",
     "text": [
      "(290419, 300)\n"
     ]
    }
   ],
   "source": [
    "embedding_matrix = np.zeros((vocab_size, W2V_SIZE))\n",
    "for word, i in tokenizer.word_index.items():\n",
    "  if word in w2v_model.wv:\n",
    "    embedding_matrix[i] = w2v_model.wv[word]\n",
    "print(embedding_matrix.shape)"
   ]
  },
  {
   "cell_type": "code",
   "execution_count": 27,
   "metadata": {
    "_uuid": "833279d91e4286065968237fb5f2a0c2dd4d246c"
   },
   "outputs": [],
   "source": [
    "embedding_layer = Embedding(vocab_size, W2V_SIZE, weights=[embedding_matrix], input_length=SEQUENCE_LENGTH, trainable=False)"
   ]
  },
  {
   "cell_type": "markdown",
   "metadata": {
    "_uuid": "b299ef78f94c2085942c993a2d58753a7476305a"
   },
   "source": [
    "### Build Model"
   ]
  },
  {
   "cell_type": "code",
   "execution_count": 28,
   "metadata": {
    "_uuid": "e775ef4f1b74e6412457181383c39f2df554ef3f"
   },
   "outputs": [
    {
     "name": "stdout",
     "output_type": "stream",
     "text": [
      "_________________________________________________________________\n",
      "Layer (type)                 Output Shape              Param #   \n",
      "=================================================================\n",
      "embedding_1 (Embedding)      (None, 300, 300)          87125700  \n",
      "_________________________________________________________________\n",
      "dropout_1 (Dropout)          (None, 300, 300)          0         \n",
      "_________________________________________________________________\n",
      "lstm_1 (LSTM)                (None, 100)               160400    \n",
      "_________________________________________________________________\n",
      "dense_1 (Dense)              (None, 1)                 101       \n",
      "=================================================================\n",
      "Total params: 87,286,201\n",
      "Trainable params: 160,501\n",
      "Non-trainable params: 87,125,700\n",
      "_________________________________________________________________\n"
     ]
    }
   ],
   "source": [
    "model = Sequential()\n",
    "model.add(embedding_layer)\n",
    "model.add(Dropout(0.5))\n",
    "model.add(LSTM(100, dropout=0.2, recurrent_dropout=0.2))\n",
    "model.add(Dense(1, activation='sigmoid'))\n",
    "\n",
    "model.summary()"
   ]
  },
  {
   "cell_type": "markdown",
   "metadata": {
    "_uuid": "28d22eafd0c7d798dcf3d742bc92fb8577939e6c"
   },
   "source": [
    "### Compile model"
   ]
  },
  {
   "cell_type": "code",
   "execution_count": 29,
   "metadata": {
    "_uuid": "1331e08d590bb2aa2033706c8faca217afc0f1c3"
   },
   "outputs": [],
   "source": [
    "model.compile(loss='binary_crossentropy',\n",
    "              optimizer=\"adam\",\n",
    "              metrics=['accuracy'])"
   ]
  },
  {
   "cell_type": "markdown",
   "metadata": {
    "_uuid": "c7733127cb8b380e0c807268903bf4d03ef92542"
   },
   "source": [
    "### Callbacks"
   ]
  },
  {
   "cell_type": "code",
   "execution_count": 30,
   "metadata": {
    "_uuid": "a688df590386f5748da6fe00b01904fe6c71619e"
   },
   "outputs": [],
   "source": [
    "callbacks = [ ReduceLROnPlateau(monitor='val_loss', patience=5, cooldown=0),\n",
    "              EarlyStopping(monitor='val_acc', min_delta=1e-4, patience=5)]"
   ]
  },
  {
   "cell_type": "markdown",
   "metadata": {
    "_uuid": "8d0873633dd49179c8cae17377641b97d323ef3b"
   },
   "source": [
    "### Train"
   ]
  },
  {
   "cell_type": "code",
   "execution_count": 31,
   "metadata": {
    "_uuid": "2b659d390c6577dc5cdb6b6297934279b4e801d5"
   },
   "outputs": [
    {
     "name": "stdout",
     "output_type": "stream",
     "text": [
      "Train on 1152000 samples, validate on 128000 samples\n",
      "Epoch 1/32\n",
      "1152000/1152000 [==============================] - 885s 768us/step - loss: 0.5084 - acc: 0.7475 - val_loss: 0.4678 - val_acc: 0.7772\n",
      "Epoch 2/32\n",
      "1152000/1152000 [==============================] - 861s 748us/step - loss: 0.4820 - acc: 0.7653 - val_loss: 0.4602 - val_acc: 0.7818\n",
      "Epoch 3/32\n",
      "1152000/1152000 [==============================] - 867s 753us/step - loss: 0.4752 - acc: 0.7698 - val_loss: 0.4547 - val_acc: 0.7847\n",
      "Epoch 4/32\n",
      "1152000/1152000 [==============================] - 857s 744us/step - loss: 0.4708 - acc: 0.7728 - val_loss: 0.4525 - val_acc: 0.7866\n",
      "Epoch 5/32\n",
      "1152000/1152000 [==============================] - 864s 750us/step - loss: 0.4685 - acc: 0.7738 - val_loss: 0.4499 - val_acc: 0.7877\n",
      "Epoch 6/32\n",
      "1152000/1152000 [==============================] - 857s 744us/step - loss: 0.4667 - acc: 0.7752 - val_loss: 0.4490 - val_acc: 0.7881\n",
      "Epoch 7/32\n",
      "1152000/1152000 [==============================] - 866s 752us/step - loss: 0.4648 - acc: 0.7764 - val_loss: 0.4482 - val_acc: 0.7887\n",
      "Epoch 8/32\n",
      "1152000/1152000 [==============================] - 857s 744us/step - loss: 0.4631 - acc: 0.7771 - val_loss: 0.4467 - val_acc: 0.7899\n",
      "Epoch 9/32\n",
      "1152000/1152000 [==============================] - 860s 746us/step - loss: 0.4627 - acc: 0.7775 - val_loss: 0.4453 - val_acc: 0.7898\n",
      "Epoch 10/32\n",
      "1038336/1152000 [==========================>...] - ETA: 1:20 - loss: 0.4619 - acc: 0.7783"
     ]
    }
   ],
   "source": [
    "%%time\n",
    "history = model.fit(x_train, y_train,\n",
    "                    batch_size=BATCH_SIZE,\n",
    "                    epochs=EPOCHS,\n",
    "                    validation_split=0.1,\n",
    "                    verbose=1,\n",
    "                    callbacks=callbacks)"
   ]
  },
  {
   "cell_type": "markdown",
   "metadata": {
    "_uuid": "267258196d96796ac69a7b8c466314bcf5d6ee42"
   },
   "source": [
    "### Evaluate"
   ]
  },
  {
   "cell_type": "code",
   "execution_count": 32,
   "metadata": {
    "_uuid": "98ecd8f1b8b74594c3ea775dd68a094e92458022"
   },
   "outputs": [
    {
     "name": "stdout",
     "output_type": "stream",
     "text": [
      "320000/320000 [==============================] - 91s 285us/step\n",
      "\n",
      "ACCURACY: 0.792640625\n",
      "LOSS: 0.44133171429634094\n",
      "CPU times: user 1min 59s, sys: 17 s, total: 2min 16s\n",
      "Wall time: 1min 31s\n"
     ]
    }
   ],
   "source": [
    "%%time\n",
    "score = model.evaluate(x_test, y_test, batch_size=BATCH_SIZE)\n",
    "print()\n",
    "print(\"ACCURACY:\",score[1])\n",
    "print(\"LOSS:\",score[0])"
   ]
  },
  {
   "cell_type": "code",
   "execution_count": 33,
   "metadata": {
    "_uuid": "40c72cd1e9d6c4fd799cbba7c813765ac4039dfc"
   },
   "outputs": [
    {
     "data": {
      "image/png": "[encoded data removed]",
      "text/plain": [
       "<Figure size 432x288 with 1 Axes>"
      ]
     },
     "metadata": {},
     "output_type": "display_data"
    },
    {
     "data": {
      "image/png": "[encoded data removed]",
      "text/plain": [
       "<Figure size 432x288 with 1 Axes>"
      ]
     },
     "metadata": {},
     "output_type": "display_data"
    }
   ],
   "source": [
    "acc = history.history['acc']\n",
    "val_acc = history.history['val_acc']\n",
    "loss = history.history['loss']\n",
    "val_loss = history.history['val_loss']\n",
    " \n",
    "epochs = range(len(acc))\n",
    " \n",
    "plt.plot(epochs, acc, 'b', label='Training acc')\n",
    "plt.plot(epochs, val_acc, 'r', label='Validation acc')\n",
    "plt.title('Training and validation accuracy')\n",
    "plt.legend()\n",
    " \n",
    "plt.figure()\n",
    " \n",
    "plt.plot(epochs, loss, 'b', label='Training loss')\n",
    "plt.plot(epochs, val_loss, 'r', label='Validation loss')\n",
    "plt.title('Training and validation loss')\n",
    "plt.legend()\n",
    " \n",
    "plt.show()"
   ]
  },
  {
   "cell_type": "markdown",
   "metadata": {
    "_uuid": "6bdfc0f6a6af5bebc0271d83dd7432c91001409b"
   },
   "source": [
    "### Predict"
   ]
  },
  {
   "cell_type": "code",
   "execution_count": 34,
   "metadata": {
    "_uuid": "f0b0fa3d4b1bb14b3f5e3d169a369f3ebef29ae1"
   },
   "outputs": [],
   "source": [
    "def decode_sentiment(score, include_neutral=True):\n",
    "    if include_neutral:        \n",
    "        label = NEUTRAL\n",
    "        if score <= SENTIMENT_THRESHOLDS[0]:\n",
    "            label = NEGATIVE\n",
    "        elif score >= SENTIMENT_THRESHOLDS[1]:\n",
    "            label = POSITIVE\n",
    "\n",
    "        return label\n",
    "    else:\n",
    "        return NEGATIVE if score < 0.5 else POSITIVE"
   ]
  },
  {
   "cell_type": "code",
   "execution_count": 35,
   "metadata": {
    "_uuid": "ed4086d651f2f8cbed11d3c909a8873607d29a06"
   },
   "outputs": [],
   "source": [
    "def predict(text, include_neutral=True):\n",
    "    start_at = time.time()\n",
    "    # Tokenize text\n",
    "    x_test = pad_sequences(tokenizer.texts_to_sequences([text]), maxlen=SEQUENCE_LENGTH)\n",
    "    # Predict\n",
    "    score = model.predict([x_test])[0]\n",
    "    # Decode sentiment\n",
    "    label = decode_sentiment(score, include_neutral=include_neutral)\n",
    "\n",
    "    return {\"label\": label, \"score\": float(score),\n",
    "       \"elapsed_time\": time.time()-start_at}  "
   ]
  },
  {
   "cell_type": "code",
   "execution_count": 36,
   "metadata": {
    "_uuid": "ca38b1e6c9b5acfed7467de2cf02a78333108872"
   },
   "outputs": [
    {
     "data": {
      "text/plain": [
       "{'label': 'POSITIVE',\n",
       " 'score': 0.7782406806945801,\n",
       " 'elapsed_time': 0.47750043869018555}"
      ]
     },
     "execution_count": 36,
     "metadata": {},
     "output_type": "execute_result"
    }
   ],
   "source": [
    "predict(\"MPs vote to reject 12 December election plan - but Boris Johnson is likely to try again for a pre-Christmas poll\")"
   ]
  },
  {
   "cell_type": "code",
   "execution_count": 37,
   "metadata": {
    "_uuid": "0e5fe647533be0148850de349fea6ef6f71303d1"
   },
   "outputs": [
    {
     "data": {
      "text/plain": [
       "{'label': 'NEGATIVE',\n",
       " 'score': 0.20838777720928192,\n",
       " 'elapsed_time': 0.2800109386444092}"
      ]
     },
     "execution_count": 37,
     "metadata": {},
     "output_type": "execute_result"
    }
   ],
   "source": [
    "predict(\"IS leader Abu Bakr al-Baghdadi was killed in US operation in Syria, President Donald Trump confirms\")"
   ]
  },
  {
   "cell_type": "code",
   "execution_count": 38,
   "metadata": {
    "_uuid": "37064dffcc8920d34ccd54fac7c8b50e583a8269"
   },
   "outputs": [
    {
     "data": {
      "text/plain": [
       "{'label': 'NEGATIVE',\n",
       " 'score': 0.04633406922221184,\n",
       " 'elapsed_time': 0.292252779006958}"
      ]
     },
     "execution_count": 38,
     "metadata": {},
     "output_type": "execute_result"
    }
   ],
   "source": [
    "predict('He was a sick and depraved man, and now he’s gone. Baghdadi was vicious and violent and he died in a vicious and violent way. US President Donald Trump says the “world is now a much safer place” after the killing of IS leader Abu Bakr al-Baghdadi')"
   ]
  },
  {
   "cell_type": "code",
   "execution_count": 39,
   "metadata": {},
   "outputs": [
    {
     "data": {
      "text/plain": [
       "{'label': 'NEGATIVE',\n",
       " 'score': 0.24239711463451385,\n",
       " 'elapsed_time': 0.26810717582702637}"
      ]
     },
     "execution_count": 39,
     "metadata": {},
     "output_type": "execute_result"
    }
   ],
   "source": [
    "predict('I bought this property for $1.5 million: Condo resident yells profanities at security guards over visitor parking')"
   ]
  },
  {
   "cell_type": "markdown",
   "metadata": {
    "_uuid": "3ee72e47f84b6dbc32e02a783de5ec1661f157e1"
   },
   "source": [
    "### Confusion Matrix"
   ]
  },
  {
   "cell_type": "code",
   "execution_count": 40,
   "metadata": {
    "_uuid": "0e920173eb05f04aecdd735bc5dff0f5be5f8d15"
   },
   "outputs": [
    {
     "name": "stdout",
     "output_type": "stream",
     "text": [
      "320000/320000 [==============================] - 22s 70us/step\n",
      "CPU times: user 20.8 s, sys: 3.66 s, total: 24.5 s\n",
      "Wall time: 23.1 s\n"
     ]
    }
   ],
   "source": [
    "%%time\n",
    "y_pred_1d = []\n",
    "y_test_1d = list(df_test.target)\n",
    "scores = model.predict(x_test, verbose=1, batch_size=8000)\n",
    "y_pred_1d = [decode_sentiment(score, include_neutral=False) for score in scores]"
   ]
  },
  {
   "cell_type": "code",
   "execution_count": 41,
   "metadata": {
    "_uuid": "b3575191bb425ab871f3f41e83812ee84bb7e595"
   },
   "outputs": [],
   "source": [
    "def plot_confusion_matrix(cm, classes,\n",
    "                          title='Confusion matrix',\n",
    "                          cmap=plt.cm.Blues):\n",
    "    \"\"\"\n",
    "    This function prints and plots the confusion matrix.\n",
    "    Normalization can be applied by setting `normalize=True`.\n",
    "    \"\"\"\n",
    "\n",
    "    cm = cm.astype('float') / cm.sum(axis=1)[:, np.newaxis]\n",
    "\n",
    "    plt.imshow(cm, interpolation='nearest', cmap=cmap)\n",
    "    plt.title(title, fontsize=30)\n",
    "    plt.colorbar()\n",
    "    tick_marks = np.arange(len(classes))\n",
    "    plt.xticks(tick_marks, classes, rotation=90, fontsize=22)\n",
    "    plt.yticks(tick_marks, classes, fontsize=22)\n",
    "\n",
    "    fmt = '.2f'\n",
    "    thresh = cm.max() / 2.\n",
    "    for i, j in itertools.product(range(cm.shape[0]), range(cm.shape[1])):\n",
    "        plt.text(j, i, format(cm[i, j], fmt),\n",
    "                 horizontalalignment=\"center\",\n",
    "                 color=\"white\" if cm[i, j] > thresh else \"black\")\n",
    "\n",
    "    plt.ylabel('True label', fontsize=25)\n",
    "    plt.xlabel('Predicted label', fontsize=25)"
   ]
  },
  {
   "cell_type": "code",
   "execution_count": 42,
   "metadata": {
    "_uuid": "a57dc6f6211c144491a70f533225edfa95a2dc66"
   },
   "outputs": [
    {
     "data": {
      "image/png": "[encoded data removed]",
      "text/plain": [
       "<Figure size 864x864 with 2 Axes>"
      ]
     },
     "metadata": {},
     "output_type": "display_data"
    },
    {
     "name": "stdout",
     "output_type": "stream",
     "text": [
      "CPU times: user 1.9 s, sys: 256 ms, total: 2.16 s\n",
      "Wall time: 1.86 s\n"
     ]
    }
   ],
   "source": [
    "%%time\n",
    "\n",
    "cnf_matrix = confusion_matrix(y_test_1d, y_pred_1d)\n",
    "plt.figure(figsize=(12,12))\n",
    "plot_confusion_matrix(cnf_matrix, classes=df_train.target.unique(), title=\"Confusion matrix\")\n",
    "plt.show()"
   ]
  },
  {
   "cell_type": "markdown",
   "metadata": {
    "_uuid": "e23b957348dcc084249d3cc7538b972da471c2cd"
   },
   "source": [
    "### Classification Report"
   ]
  },
  {
   "cell_type": "code",
   "execution_count": 43,
   "metadata": {
    "_uuid": "a7fe05b7caa1c984ff1deb0be2f7c6bc043df9f5"
   },
   "outputs": [
    {
     "name": "stdout",
     "output_type": "stream",
     "text": [
      "              precision    recall  f1-score   support\n",
      "\n",
      "    NEGATIVE       0.80      0.79      0.79    159494\n",
      "    POSITIVE       0.79      0.80      0.79    160506\n",
      "\n",
      "   micro avg       0.79      0.79      0.79    320000\n",
      "   macro avg       0.79      0.79      0.79    320000\n",
      "weighted avg       0.79      0.79      0.79    320000\n",
      "\n"
     ]
    }
   ],
   "source": [
    "print(classification_report(y_test_1d, y_pred_1d))"
   ]
  },
  {
   "cell_type": "markdown",
   "metadata": {
    "_uuid": "4eb300f0c6693a618587c7dcf32f77f5416cbfb9"
   },
   "source": [
    "### Accuracy Score"
   ]
  },
  {
   "cell_type": "code",
   "execution_count": 44,
   "metadata": {
    "_uuid": "5cf76e6e09f8a60ed25947932b94c772eda44d23"
   },
   "outputs": [
    {
     "data": {
      "text/plain": [
       "0.7926375"
      ]
     },
     "execution_count": 44,
     "metadata": {},
     "output_type": "execute_result"
    }
   ],
   "source": [
    "accuracy_score(y_test_1d, y_pred_1d)"
   ]
  },
  {
   "cell_type": "markdown",
   "metadata": {
    "_uuid": "4f014c32f3833db282e1a075c526604f34e3158c"
   },
   "source": [
    "### Save model"
   ]
  },
  {
   "cell_type": "code",
   "execution_count": 45,
   "metadata": {
    "_uuid": "3b2b3ad5b592977b404acfa1c9ad303a62837255"
   },
   "outputs": [
    {
     "name": "stderr",
     "output_type": "stream",
     "text": [
      "2019-11-05 09:02:24,574 : INFO : saving Word2Vec object under model.w2v, separately None\n",
      "2019-11-05 09:02:24,575 : INFO : not storing attribute vectors_norm\n",
      "2019-11-05 09:02:24,578 : INFO : not storing attribute cum_table\n",
      "2019-11-05 09:02:25,532 : INFO : saved model.w2v\n"
     ]
    }
   ],
   "source": [
    "model.save(KERAS_MODEL)\n",
    "w2v_model.save(WORD2VEC_MODEL)\n",
    "pickle.dump(tokenizer, open(TOKENIZER_MODEL, \"wb\"), protocol=0)\n",
    "pickle.dump(encoder, open(ENCODER_MODEL, \"wb\"), protocol=0)"
   ]
  }
 ],
 "metadata": {
  "kernelspec": {
   "display_name": "Python 3",
   "language": "python",
   "name": "python3"
  },
  "language_info": {
   "codemirror_mode": {
    "name": "ipython",
    "version": 3
   },
   "file_extension": ".py",
   "mimetype": "text/x-python",
   "name": "python",
   "nbconvert_exporter": "python",
   "pygments_lexer": "ipython3",
   "version": "3.6.6"
  }
 },
 "nbformat": 4,
 "nbformat_minor": 1
}
