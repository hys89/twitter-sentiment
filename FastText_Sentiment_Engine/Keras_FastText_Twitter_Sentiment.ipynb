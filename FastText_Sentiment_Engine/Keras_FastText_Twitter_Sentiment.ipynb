{
 "cells": [
  {
   "cell_type": "markdown",
   "metadata": {},
   "source": [
    "Uses FastText (https://arxiv.org/abs/1607.01759) in Keras to predict sentiment of tweets."
   ]
  },
  {
   "cell_type": "code",
   "execution_count": 35,
   "metadata": {},
   "outputs": [],
   "source": [
    "from __future__ import print_function\n",
    "import numpy as np\n",
    "\n",
    "from keras.preprocessing import sequence\n",
    "from keras.models import Sequential\n",
    "from keras.layers import Dense\n",
    "from keras.layers import Embedding\n",
    "from keras.layers import GlobalAveragePooling1D\n",
    "from keras.datasets import imdb\n",
    "\n",
    "# save np.load\n",
    "np_load_old = np.load\n",
    "\n",
    "# modify the default parameters of np.load\n",
    "np.load = lambda *a,**k: np_load_old(*a, allow_pickle=True, **k)"
   ]
  },
  {
   "cell_type": "code",
   "execution_count": 36,
   "metadata": {},
   "outputs": [],
   "source": [
    "def create_ngram_set(input_list, ngram_value=2):\n",
    "    \"\"\"\n",
    "    Extract a set of n-grams from a list of integers.\n",
    "\n",
    "    >>> create_ngram_set([1, 4, 9, 4, 1, 4], ngram_value=2)\n",
    "    {(4, 9), (4, 1), (1, 4), (9, 4)}\n",
    "\n",
    "    >>> create_ngram_set([1, 4, 9, 4, 1, 4], ngram_value=3)\n",
    "    [(1, 4, 9), (4, 9, 4), (9, 4, 1), (4, 1, 4)]\n",
    "    \"\"\"\n",
    "    return set(zip(*[input_list[i:] for i in range(ngram_value)]))\n",
    "\n",
    "\n",
    "def add_ngram(sequences, token_indice, ngram_range=2):\n",
    "    \"\"\"\n",
    "    Augment the input list of list (sequences) by appending n-grams values.\n",
    "\n",
    "    Example: adding bi-gram\n",
    "    >>> sequences = [[1, 3, 4, 5], [1, 3, 7, 9, 2]]\n",
    "    >>> token_indice = {(1, 3): 1337, (9, 2): 42, (4, 5): 2017}\n",
    "    >>> add_ngram(sequences, token_indice, ngram_range=2)\n",
    "    [[1, 3, 4, 5, 1337, 2017], [1, 3, 7, 9, 2, 1337, 42]]\n",
    "\n",
    "    Example: adding tri-gram\n",
    "    >>> sequences = [[1, 3, 4, 5], [1, 3, 7, 9, 2]]\n",
    "    >>> token_indice = {(1, 3): 1337, (9, 2): 42, (4, 5): 2017, (7, 9, 2): 2018}\n",
    "    >>> add_ngram(sequences, token_indice, ngram_range=3)\n",
    "    [[1, 3, 4, 5, 1337, 2017], [1, 3, 7, 9, 2, 1337, 42, 2018]]\n",
    "    \"\"\"\n",
    "    new_sequences = []\n",
    "    for input_list in sequences:\n",
    "        new_list = input_list[:]\n",
    "        for ngram_value in range(2, ngram_range + 1):\n",
    "            for i in range(len(new_list) - ngram_value + 1):\n",
    "                ngram = tuple(new_list[i:i + ngram_value])\n",
    "                if ngram in token_indice:\n",
    "                    new_list.append(token_indice[ngram])\n",
    "        new_sequences.append(new_list)\n",
    "\n",
    "    return new_sequences"
   ]
  },
  {
   "cell_type": "code",
   "execution_count": 37,
   "metadata": {},
   "outputs": [],
   "source": [
    "# Set parameters:\n",
    "# ngram_range = 2 will add bi-grams features\n",
    "ngram_range = 1\n",
    "max_features = 80000\n",
    "maxlen = 150\n",
    "batch_size = 32\n",
    "embedding_dims = 50\n",
    "epochs = 5"
   ]
  },
  {
   "cell_type": "code",
   "execution_count": 38,
   "metadata": {},
   "outputs": [
    {
     "name": "stdout",
     "output_type": "stream",
     "text": [
      "Loading data...\n",
      "25000 train sequences\n",
      "25000 test sequences\n",
      "Average train sequence length: 238\n",
      "Average test sequence length: 230\n"
     ]
    }
   ],
   "source": [
    "print('Loading data...')\n",
    "(x_train, y_train), (x_test, y_test) = imdb.load_data(num_words=max_features)\n",
    "print(len(x_train), 'train sequences')\n",
    "print(len(x_test), 'test sequences')\n",
    "print('Average train sequence length: {}'.format(\n",
    "    np.mean(list(map(len, x_train)), dtype=int)))\n",
    "print('Average test sequence length: {}'.format(\n",
    "    np.mean(list(map(len, x_test)), dtype=int)))\n",
    "\n",
    "np.load = np_load_old"
   ]
  },
  {
   "cell_type": "code",
   "execution_count": 39,
   "metadata": {},
   "outputs": [],
   "source": [
    "if ngram_range > 1:\n",
    "    print('Adding {}-gram features'.format(ngram_range))\n",
    "    # Create set of unique n-gram from the training set.\n",
    "    ngram_set = set()\n",
    "    for input_list in x_train:\n",
    "        for i in range(2, ngram_range + 1):\n",
    "            set_of_ngram = create_ngram_set(input_list, ngram_value=i)\n",
    "            ngram_set.update(set_of_ngram)\n",
    "\n",
    "    # Dictionary mapping n-gram token to a unique integer.\n",
    "    # Integer values are greater than max_features in order\n",
    "    # to avoid collision with existing features.\n",
    "    start_index = max_features + 1\n",
    "    token_indice = {v: k + start_index for k, v in enumerate(ngram_set)}\n",
    "    indice_token = {token_indice[k]: k for k in token_indice}\n",
    "\n",
    "    # max_features is the highest integer that could be found in the dataset.\n",
    "    max_features = np.max(list(indice_token.keys())) + 1\n",
    "\n",
    "    # Augmenting x_train and x_test with n-grams features\n",
    "    x_train = add_ngram(x_train, token_indice, ngram_range)\n",
    "    x_test = add_ngram(x_test, token_indice, ngram_range)\n",
    "    print('Average train sequence length: {}'.format(\n",
    "        np.mean(list(map(len, x_train)), dtype=int)))\n",
    "    print('Average test sequence length: {}'.format(\n",
    "        np.mean(list(map(len, x_test)), dtype=int)))"
   ]
  },
  {
   "cell_type": "code",
   "execution_count": 40,
   "metadata": {},
   "outputs": [
    {
     "name": "stdout",
     "output_type": "stream",
     "text": [
      "Pad sequences (samples x time)\n",
      "x_train shape: (25000, 150)\n",
      "x_test shape: (25000, 150)\n"
     ]
    }
   ],
   "source": [
    "print('Pad sequences (samples x time)')\n",
    "x_train = sequence.pad_sequences(x_train, maxlen=maxlen)\n",
    "x_test = sequence.pad_sequences(x_test, maxlen=maxlen)\n",
    "print('x_train shape:', x_train.shape)\n",
    "print('x_test shape:', x_test.shape)"
   ]
  },
  {
   "cell_type": "code",
   "execution_count": 41,
   "metadata": {},
   "outputs": [
    {
     "name": "stdout",
     "output_type": "stream",
     "text": [
      "Build model...\n"
     ]
    }
   ],
   "source": [
    "print('Build model...')\n",
    "model = Sequential()\n",
    "\n",
    "# we start off with an efficient embedding layer which maps\n",
    "# our vocab indices into embedding_dims dimensions\n",
    "model.add(Embedding(max_features,\n",
    "                    embedding_dims,\n",
    "                    input_length=maxlen))\n",
    "\n",
    "# we add a GlobalAveragePooling1D, which will average the embeddings\n",
    "# of all words in the document\n",
    "model.add(GlobalAveragePooling1D())\n",
    "\n",
    "# We project onto a single unit output layer, and squash it with a sigmoid:\n",
    "model.add(Dense(1, activation='sigmoid'))\n",
    "\n",
    "model.compile(loss='binary_crossentropy',\n",
    "              optimizer='adam',\n",
    "              metrics=['accuracy'])"
   ]
  },
  {
   "cell_type": "code",
   "execution_count": 42,
   "metadata": {
    "scrolled": true
   },
   "outputs": [
    {
     "name": "stdout",
     "output_type": "stream",
     "text": [
      "Train on 25000 samples, validate on 25000 samples\n",
      "Epoch 1/5\n",
      "25000/25000 [==============================] - ETA: 8:21 - loss: 0.6934 - acc: 0.468 - ETA: 3:02 - loss: 0.6933 - acc: 0.468 - ETA: 1:59 - loss: 0.6933 - acc: 0.462 - ETA: 1:32 - loss: 0.6931 - acc: 0.495 - ETA: 1:16 - loss: 0.6930 - acc: 0.500 - ETA: 1:07 - loss: 0.6928 - acc: 0.536 - ETA: 1:00 - loss: 0.6926 - acc: 0.552 - ETA: 55s - loss: 0.6926 - acc: 0.556 - ETA: 51s - loss: 0.6924 - acc: 0.58 - ETA: 48s - loss: 0.6922 - acc: 0.59 - ETA: 46s - loss: 0.6921 - acc: 0.59 - ETA: 44s - loss: 0.6920 - acc: 0.60 - ETA: 42s - loss: 0.6918 - acc: 0.61 - ETA: 41s - loss: 0.6917 - acc: 0.62 - ETA: 39s - loss: 0.6917 - acc: 0.62 - ETA: 38s - loss: 0.6915 - acc: 0.62 - ETA: 37s - loss: 0.6914 - acc: 0.63 - ETA: 36s - loss: 0.6911 - acc: 0.64 - ETA: 35s - loss: 0.6910 - acc: 0.64 - ETA: 35s - loss: 0.6910 - acc: 0.64 - ETA: 34s - loss: 0.6908 - acc: 0.65 - ETA: 33s - loss: 0.6906 - acc: 0.65 - ETA: 33s - loss: 0.6904 - acc: 0.66 - ETA: 32s - loss: 0.6903 - acc: 0.66 - ETA: 32s - loss: 0.6902 - acc: 0.66 - ETA: 31s - loss: 0.6900 - acc: 0.67 - ETA: 31s - loss: 0.6898 - acc: 0.67 - ETA: 30s - loss: 0.6897 - acc: 0.68 - ETA: 30s - loss: 0.6896 - acc: 0.68 - ETA: 30s - loss: 0.6896 - acc: 0.67 - ETA: 29s - loss: 0.6894 - acc: 0.67 - ETA: 29s - loss: 0.6894 - acc: 0.67 - ETA: 29s - loss: 0.6892 - acc: 0.68 - ETA: 28s - loss: 0.6891 - acc: 0.68 - ETA: 28s - loss: 0.6890 - acc: 0.67 - ETA: 28s - loss: 0.6889 - acc: 0.67 - ETA: 28s - loss: 0.6887 - acc: 0.67 - ETA: 27s - loss: 0.6886 - acc: 0.68 - ETA: 27s - loss: 0.6884 - acc: 0.68 - ETA: 27s - loss: 0.6883 - acc: 0.68 - ETA: 27s - loss: 0.6881 - acc: 0.68 - ETA: 26s - loss: 0.6880 - acc: 0.68 - ETA: 26s - loss: 0.6878 - acc: 0.69 - ETA: 26s - loss: 0.6876 - acc: 0.69 - ETA: 26s - loss: 0.6875 - acc: 0.69 - ETA: 26s - loss: 0.6873 - acc: 0.69 - ETA: 25s - loss: 0.6871 - acc: 0.69 - ETA: 25s - loss: 0.6870 - acc: 0.69 - ETA: 25s - loss: 0.6869 - acc: 0.69 - ETA: 25s - loss: 0.6867 - acc: 0.69 - ETA: 25s - loss: 0.6866 - acc: 0.69 - ETA: 25s - loss: 0.6864 - acc: 0.69 - ETA: 24s - loss: 0.6862 - acc: 0.69 - ETA: 24s - loss: 0.6860 - acc: 0.69 - ETA: 24s - loss: 0.6858 - acc: 0.69 - ETA: 24s - loss: 0.6856 - acc: 0.69 - ETA: 24s - loss: 0.6856 - acc: 0.69 - ETA: 24s - loss: 0.6854 - acc: 0.69 - ETA: 24s - loss: 0.6851 - acc: 0.69 - ETA: 24s - loss: 0.6849 - acc: 0.69 - ETA: 23s - loss: 0.6848 - acc: 0.69 - ETA: 23s - loss: 0.6846 - acc: 0.69 - ETA: 23s - loss: 0.6843 - acc: 0.69 - ETA: 23s - loss: 0.6842 - acc: 0.69 - ETA: 23s - loss: 0.6840 - acc: 0.69 - ETA: 23s - loss: 0.6837 - acc: 0.69 - ETA: 23s - loss: 0.6835 - acc: 0.69 - ETA: 23s - loss: 0.6833 - acc: 0.69 - ETA: 22s - loss: 0.6831 - acc: 0.69 - ETA: 22s - loss: 0.6830 - acc: 0.69 - ETA: 22s - loss: 0.6826 - acc: 0.69 - ETA: 22s - loss: 0.6823 - acc: 0.69 - ETA: 22s - loss: 0.6820 - acc: 0.69 - ETA: 22s - loss: 0.6817 - acc: 0.69 - ETA: 22s - loss: 0.6813 - acc: 0.69 - ETA: 22s - loss: 0.6811 - acc: 0.69 - ETA: 22s - loss: 0.6809 - acc: 0.69 - ETA: 21s - loss: 0.6806 - acc: 0.69 - ETA: 21s - loss: 0.6803 - acc: 0.69 - ETA: 21s - loss: 0.6800 - acc: 0.69 - ETA: 21s - loss: 0.6798 - acc: 0.69 - ETA: 21s - loss: 0.6795 - acc: 0.69 - ETA: 21s - loss: 0.6791 - acc: 0.69 - ETA: 21s - loss: 0.6788 - acc: 0.69 - ETA: 21s - loss: 0.6786 - acc: 0.69 - ETA: 21s - loss: 0.6783 - acc: 0.69 - ETA: 21s - loss: 0.6779 - acc: 0.69 - ETA: 20s - loss: 0.6778 - acc: 0.69 - ETA: 20s - loss: 0.6776 - acc: 0.69 - ETA: 20s - loss: 0.6772 - acc: 0.69 - ETA: 20s - loss: 0.6770 - acc: 0.69 - ETA: 20s - loss: 0.6767 - acc: 0.69 - ETA: 20s - loss: 0.6763 - acc: 0.70 - ETA: 20s - loss: 0.6762 - acc: 0.69 - ETA: 20s - loss: 0.6759 - acc: 0.69 - ETA: 20s - loss: 0.6758 - acc: 0.69 - ETA: 20s - loss: 0.6754 - acc: 0.70 - ETA: 20s - loss: 0.6751 - acc: 0.70 - ETA: 19s - loss: 0.6749 - acc: 0.70 - ETA: 19s - loss: 0.6746 - acc: 0.70 - ETA: 19s - loss: 0.6744 - acc: 0.70 - ETA: 19s - loss: 0.6739 - acc: 0.70 - ETA: 19s - loss: 0.6735 - acc: 0.70 - ETA: 19s - loss: 0.6732 - acc: 0.70 - ETA: 19s - loss: 0.6729 - acc: 0.70 - ETA: 19s - loss: 0.6726 - acc: 0.70 - ETA: 19s - loss: 0.6722 - acc: 0.70 - ETA: 19s - loss: 0.6717 - acc: 0.70 - ETA: 19s - loss: 0.6714 - acc: 0.70 - ETA: 19s - loss: 0.6710 - acc: 0.70 - ETA: 18s - loss: 0.6706 - acc: 0.70 - ETA: 18s - loss: 0.6704 - acc: 0.70 - ETA: 18s - loss: 0.6701 - acc: 0.70 - ETA: 18s - loss: 0.6698 - acc: 0.71 - ETA: 18s - loss: 0.6693 - acc: 0.71 - ETA: 18s - loss: 0.6691 - acc: 0.71 - ETA: 18s - loss: 0.6688 - acc: 0.71 - ETA: 18s - loss: 0.6685 - acc: 0.71 - ETA: 18s - loss: 0.6681 - acc: 0.71 - ETA: 18s - loss: 0.6678 - acc: 0.71 - ETA: 18s - loss: 0.6673 - acc: 0.71 - ETA: 18s - loss: 0.6668 - acc: 0.71 - ETA: 18s - loss: 0.6665 - acc: 0.71 - ETA: 17s - loss: 0.6663 - acc: 0.71 - ETA: 17s - loss: 0.6659 - acc: 0.71 - ETA: 17s - loss: 0.6656 - acc: 0.71 - ETA: 17s - loss: 0.6653 - acc: 0.71 - ETA: 17s - loss: 0.6649 - acc: 0.71 - ETA: 17s - loss: 0.6644 - acc: 0.71 - ETA: 17s - loss: 0.6640 - acc: 0.71 - ETA: 17s - loss: 0.6637 - acc: 0.71 - ETA: 17s - loss: 0.6632 - acc: 0.71 - ETA: 17s - loss: 0.6629 - acc: 0.71 - ETA: 17s - loss: 0.6624 - acc: 0.71 - ETA: 17s - loss: 0.6621 - acc: 0.71 - ETA: 17s - loss: 0.6617 - acc: 0.71 - ETA: 16s - loss: 0.6614 - acc: 0.71 - ETA: 16s - loss: 0.6611 - acc: 0.71 - ETA: 16s - loss: 0.6606 - acc: 0.71 - ETA: 16s - loss: 0.6600 - acc: 0.72 - ETA: 16s - loss: 0.6598 - acc: 0.72 - ETA: 16s - loss: 0.6593 - acc: 0.72 - ETA: 16s - loss: 0.6589 - acc: 0.72 - ETA: 16s - loss: 0.6585 - acc: 0.72 - ETA: 16s - loss: 0.6579 - acc: 0.72 - ETA: 16s - loss: 0.6573 - acc: 0.72 - ETA: 16s - loss: 0.6571 - acc: 0.72 - ETA: 16s - loss: 0.6567 - acc: 0.72 - ETA: 16s - loss: 0.6563 - acc: 0.72 - ETA: 15s - loss: 0.6559 - acc: 0.72 - ETA: 15s - loss: 0.6556 - acc: 0.72 - ETA: 15s - loss: 0.6552 - acc: 0.72 - ETA: 15s - loss: 0.6549 - acc: 0.72 - ETA: 15s - loss: 0.6541 - acc: 0.72 - ETA: 15s - loss: 0.6540 - acc: 0.72 - ETA: 15s - loss: 0.6533 - acc: 0.72 - ETA: 15s - loss: 0.6530 - acc: 0.72 - ETA: 15s - loss: 0.6527 - acc: 0.72 - ETA: 15s - loss: 0.6522 - acc: 0.72 - ETA: 15s - loss: 0.6518 - acc: 0.72 - ETA: 15s - loss: 0.6513 - acc: 0.72 - ETA: 15s - loss: 0.6510 - acc: 0.72 - ETA: 15s - loss: 0.6506 - acc: 0.72 - ETA: 14s - loss: 0.6500 - acc: 0.72 - ETA: 14s - loss: 0.6496 - acc: 0.72 - ETA: 14s - loss: 0.6491 - acc: 0.72 - ETA: 14s - loss: 0.6487 - acc: 0.72 - ETA: 14s - loss: 0.6484 - acc: 0.72 - ETA: 14s - loss: 0.6481 - acc: 0.72 - ETA: 14s - loss: 0.6476 - acc: 0.72 - ETA: 14s - loss: 0.6473 - acc: 0.72 - ETA: 14s - loss: 0.6471 - acc: 0.72 - ETA: 14s - loss: 0.6466 - acc: 0.73 - ETA: 14s - loss: 0.6464 - acc: 0.72 - ETA: 14s - loss: 0.6459 - acc: 0.73 - ETA: 14s - loss: 0.6453 - acc: 0.73 - ETA: 14s - loss: 0.6449 - acc: 0.73 - ETA: 13s - loss: 0.6444 - acc: 0.73 - ETA: 13s - loss: 0.6438 - acc: 0.73 - ETA: 13s - loss: 0.6435 - acc: 0.73 - ETA: 13s - loss: 0.6429 - acc: 0.73 - ETA: 13s - loss: 0.6423 - acc: 0.73 - ETA: 13s - loss: 0.6418 - acc: 0.73 - ETA: 13s - loss: 0.6413 - acc: 0.73 - ETA: 13s - loss: 0.6409 - acc: 0.73 - ETA: 13s - loss: 0.6401 - acc: 0.73 - ETA: 13s - loss: 0.6397 - acc: 0.73 - ETA: 13s - loss: 0.6394 - acc: 0.73 - ETA: 13s - loss: 0.6392 - acc: 0.73 - ETA: 13s - loss: 0.6389 - acc: 0.73 - ETA: 13s - loss: 0.6386 - acc: 0.73 - ETA: 13s - loss: 0.6381 - acc: 0.73 - ETA: 12s - loss: 0.6375 - acc: 0.73 - ETA: 12s - loss: 0.6372 - acc: 0.73 - ETA: 12s - loss: 0.6366 - acc: 0.73 - ETA: 12s - loss: 0.6361 - acc: 0.73 - ETA: 12s - loss: 0.6357 - acc: 0.73 - ETA: 12s - loss: 0.6354 - acc: 0.73 - ETA: 12s - loss: 0.6350 - acc: 0.73 - ETA: 12s - loss: 0.6345 - acc: 0.73 - ETA: 12s - loss: 0.6341 - acc: 0.74 - ETA: 12s - loss: 0.6338 - acc: 0.73 - ETA: 12s - loss: 0.6335 - acc: 0.73 - ETA: 12s - loss: 0.6330 - acc: 0.74 - ETA: 12s - loss: 0.6329 - acc: 0.74 - ETA: 12s - loss: 0.6326 - acc: 0.74 - ETA: 11s - loss: 0.6321 - acc: 0.74 - ETA: 11s - loss: 0.6318 - acc: 0.74 - ETA: 11s - loss: 0.6314 - acc: 0.74 - ETA: 11s - loss: 0.6310 - acc: 0.74 - ETA: 11s - loss: 0.6307 - acc: 0.74 - ETA: 11s - loss: 0.6304 - acc: 0.74 - ETA: 11s - loss: 0.6298 - acc: 0.74 - ETA: 11s - loss: 0.6292 - acc: 0.74 - ETA: 11s - loss: 0.6287 - acc: 0.74 - ETA: 11s - loss: 0.6283 - acc: 0.74 - ETA: 11s - loss: 0.6278 - acc: 0.74 - ETA: 11s - loss: 0.6273 - acc: 0.74 - ETA: 11s - loss: 0.6270 - acc: 0.74 - ETA: 11s - loss: 0.6266 - acc: 0.74 - ETA: 11s - loss: 0.6261 - acc: 0.74 - ETA: 10s - loss: 0.6258 - acc: 0.74 - ETA: 10s - loss: 0.6254 - acc: 0.74 - ETA: 10s - loss: 0.6250 - acc: 0.74 - ETA: 10s - loss: 0.6244 - acc: 0.74 - ETA: 10s - loss: 0.6241 - acc: 0.74 - ETA: 10s - loss: 0.6237 - acc: 0.74 - ETA: 10s - loss: 0.6232 - acc: 0.74 - ETA: 10s - loss: 0.6228 - acc: 0.74 - ETA: 10s - loss: 0.6224 - acc: 0.74 - ETA: 10s - loss: 0.6221 - acc: 0.74 - ETA: 10s - loss: 0.6215 - acc: 0.74 - ETA: 10s - loss: 0.6213 - acc: 0.74 - ETA: 10s - loss: 0.6208 - acc: 0.74 - ETA: 10s - loss: 0.6203 - acc: 0.74 - ETA: 10s - loss: 0.6199 - acc: 0.74 - ETA: 9s - loss: 0.6195 - acc: 0.7498 - ETA: 9s - loss: 0.6191 - acc: 0.750 - ETA: 9s - loss: 0.6186 - acc: 0.750 - ETA: 9s - loss: 0.6181 - acc: 0.750 - ETA: 9s - loss: 0.6177 - acc: 0.751 - ETA: 9s - loss: 0.6172 - acc: 0.751 - ETA: 9s - loss: 0.6167 - acc: 0.752 - ETA: 9s - loss: 0.6162 - acc: 0.752 - ETA: 9s - loss: 0.6158 - acc: 0.752 - ETA: 9s - loss: 0.6153 - acc: 0.753 - ETA: 9s - loss: 0.6149 - acc: 0.753 - ETA: 9s - loss: 0.6145 - acc: 0.753 - ETA: 9s - loss: 0.6139 - acc: 0.753 - ETA: 9s - loss: 0.6136 - acc: 0.754 - ETA: 9s - loss: 0.6132 - acc: 0.754 - ETA: 8s - loss: 0.6129 - acc: 0.754 - ETA: 8s - loss: 0.6125 - acc: 0.754 - ETA: 8s - loss: 0.6119 - acc: 0.755 - ETA: 8s - loss: 0.6115 - acc: 0.755 - ETA: 8s - loss: 0.6109 - acc: 0.755 - ETA: 8s - loss: 0.6105 - acc: 0.755 - ETA: 8s - loss: 0.6100 - acc: 0.756 - ETA: 8s - loss: 0.6095 - acc: 0.756 - ETA: 8s - loss: 0.6089 - acc: 0.756 - ETA: 8s - loss: 0.6083 - acc: 0.757 - ETA: 8s - loss: 0.6079 - acc: 0.757 - ETA: 8s - loss: 0.6076 - acc: 0.757 - ETA: 8s - loss: 0.6070 - acc: 0.757 - ETA: 8s - loss: 0.6064 - acc: 0.758 - ETA: 8s - loss: 0.6060 - acc: 0.758 - ETA: 8s - loss: 0.6056 - acc: 0.758 - ETA: 7s - loss: 0.6052 - acc: 0.758 - ETA: 7s - loss: 0.6048 - acc: 0.759 - ETA: 7s - loss: 0.6045 - acc: 0.759 - ETA: 7s - loss: 0.6041 - acc: 0.759 - ETA: 7s - loss: 0.6039 - acc: 0.759 - ETA: 7s - loss: 0.6034 - acc: 0.760 - ETA: 7s - loss: 0.6030 - acc: 0.760 - ETA: 7s - loss: 0.6027 - acc: 0.760 - ETA: 7s - loss: 0.6023 - acc: 0.760 - ETA: 7s - loss: 0.6019 - acc: 0.761 - ETA: 7s - loss: 0.6013 - acc: 0.761 - ETA: 7s - loss: 0.6008 - acc: 0.761 - ETA: 7s - loss: 0.6004 - acc: 0.762 - ETA: 7s - loss: 0.6000 - acc: 0.762 - ETA: 7s - loss: 0.5998 - acc: 0.762 - ETA: 6s - loss: 0.5994 - acc: 0.762 - ETA: 6s - loss: 0.5990 - acc: 0.762 - ETA: 6s - loss: 0.5987 - acc: 0.762 - ETA: 6s - loss: 0.5984 - acc: 0.762 - ETA: 6s - loss: 0.5980 - acc: 0.762 - ETA: 6s - loss: 0.5978 - acc: 0.762 - ETA: 6s - loss: 0.5974 - acc: 0.762 - ETA: 6s - loss: 0.5969 - acc: 0.763 - ETA: 6s - loss: 0.5965 - acc: 0.763 - ETA: 6s - loss: 0.5960 - acc: 0.763 - ETA: 6s - loss: 0.5955 - acc: 0.763 - ETA: 6s - loss: 0.5952 - acc: 0.763 - ETA: 6s - loss: 0.5946 - acc: 0.764 - ETA: 6s - loss: 0.5943 - acc: 0.764 - ETA: 6s - loss: 0.5938 - acc: 0.764 - ETA: 5s - loss: 0.5932 - acc: 0.765 - ETA: 5s - loss: 0.5928 - acc: 0.765 - ETA: 5s - loss: 0.5922 - acc: 0.765 - ETA: 5s - loss: 0.5919 - acc: 0.765 - ETA: 5s - loss: 0.5916 - acc: 0.766 - ETA: 5s - loss: 0.5914 - acc: 0.765 - ETA: 5s - loss: 0.5909 - acc: 0.766 - ETA: 5s - loss: 0.5904 - acc: 0.766 - ETA: 5s - loss: 0.5900 - acc: 0.766 - ETA: 5s - loss: 0.5895 - acc: 0.767 - ETA: 5s - loss: 0.5890 - acc: 0.767 - ETA: 5s - loss: 0.5886 - acc: 0.767 - ETA: 5s - loss: 0.5883 - acc: 0.767 - ETA: 5s - loss: 0.5879 - acc: 0.768 - ETA: 5s - loss: 0.5874 - acc: 0.768 - ETA: 5s - loss: 0.5872 - acc: 0.768 - ETA: 4s - loss: 0.5867 - acc: 0.768 - ETA: 4s - loss: 0.5862 - acc: 0.768 - ETA: 4s - loss: 0.5856 - acc: 0.769 - ETA: 4s - loss: 0.5852 - acc: 0.769 - ETA: 4s - loss: 0.5847 - acc: 0.769 - ETA: 4s - loss: 0.5844 - acc: 0.769 - ETA: 4s - loss: 0.5838 - acc: 0.770 - ETA: 4s - loss: 0.5833 - acc: 0.770 - ETA: 4s - loss: 0.5828 - acc: 0.770 - ETA: 4s - loss: 0.5823 - acc: 0.770 - ETA: 4s - loss: 0.5821 - acc: 0.770 - ETA: 4s - loss: 0.5815 - acc: 0.771 - ETA: 4s - loss: 0.5810 - acc: 0.771 - ETA: 4s - loss: 0.5804 - acc: 0.771 - ETA: 4s - loss: 0.5800 - acc: 0.771 - ETA: 3s - loss: 0.5797 - acc: 0.772 - ETA: 3s - loss: 0.5792 - acc: 0.772 - ETA: 3s - loss: 0.5788 - acc: 0.772 - ETA: 3s - loss: 0.5785 - acc: 0.772 - ETA: 3s - loss: 0.5780 - acc: 0.772 - ETA: 3s - loss: 0.5778 - acc: 0.773 - ETA: 3s - loss: 0.5773 - acc: 0.773 - ETA: 3s - loss: 0.5766 - acc: 0.773 - ETA: 3s - loss: 0.5761 - acc: 0.774 - ETA: 3s - loss: 0.5758 - acc: 0.774 - ETA: 3s - loss: 0.5755 - acc: 0.774 - ETA: 3s - loss: 0.5752 - acc: 0.774 - ETA: 3s - loss: 0.5748 - acc: 0.774 - ETA: 3s - loss: 0.5745 - acc: 0.774 - ETA: 3s - loss: 0.5742 - acc: 0.774 - ETA: 3s - loss: 0.5737 - acc: 0.774 - ETA: 2s - loss: 0.5734 - acc: 0.774 - ETA: 2s - loss: 0.5730 - acc: 0.775 - ETA: 2s - loss: 0.5727 - acc: 0.775 - ETA: 2s - loss: 0.5724 - acc: 0.775 - ETA: 2s - loss: 0.5720 - acc: 0.775 - ETA: 2s - loss: 0.5716 - acc: 0.775 - ETA: 2s - loss: 0.5714 - acc: 0.775 - ETA: 2s - loss: 0.5710 - acc: 0.775 - ETA: 2s - loss: 0.5706 - acc: 0.775 - ETA: 2s - loss: 0.5700 - acc: 0.776 - ETA: 2s - loss: 0.5698 - acc: 0.776 - ETA: 2s - loss: 0.5694 - acc: 0.776 - ETA: 2s - loss: 0.5688 - acc: 0.776 - ETA: 2s - loss: 0.5686 - acc: 0.777 - ETA: 2s - loss: 0.5682 - acc: 0.777 - ETA: 1s - loss: 0.5680 - acc: 0.777 - ETA: 1s - loss: 0.5677 - acc: 0.777 - ETA: 1s - loss: 0.5673 - acc: 0.777 - ETA: 1s - loss: 0.5669 - acc: 0.777 - ETA: 1s - loss: 0.5667 - acc: 0.777 - ETA: 1s - loss: 0.5662 - acc: 0.777 - ETA: 1s - loss: 0.5659 - acc: 0.777 - ETA: 1s - loss: 0.5656 - acc: 0.778 - ETA: 1s - loss: 0.5652 - acc: 0.778 - ETA: 1s - loss: 0.5649 - acc: 0.778 - ETA: 1s - loss: 0.5644 - acc: 0.778 - ETA: 1s - loss: 0.5639 - acc: 0.778 - ETA: 1s - loss: 0.5636 - acc: 0.778 - ETA: 1s - loss: 0.5632 - acc: 0.778 - ETA: 1s - loss: 0.5627 - acc: 0.779 - ETA: 1s - loss: 0.5624 - acc: 0.779 - ETA: 0s - loss: 0.5620 - acc: 0.779 - ETA: 0s - loss: 0.5616 - acc: 0.779 - ETA: 0s - loss: 0.5613 - acc: 0.779 - ETA: 0s - loss: 0.5609 - acc: 0.780 - ETA: 0s - loss: 0.5603 - acc: 0.780 - ETA: 0s - loss: 0.5599 - acc: 0.780 - ETA: 0s - loss: 0.5596 - acc: 0.780 - ETA: 0s - loss: 0.5595 - acc: 0.780 - ETA: 0s - loss: 0.5589 - acc: 0.780 - ETA: 0s - loss: 0.5584 - acc: 0.781 - ETA: 0s - loss: 0.5580 - acc: 0.781 - ETA: 0s - loss: 0.5577 - acc: 0.781 - ETA: 0s - loss: 0.5573 - acc: 0.781 - ETA: 0s - loss: 0.5572 - acc: 0.781 - ETA: 0s - loss: 0.5566 - acc: 0.782 - ETA: 0s - loss: 0.5564 - acc: 0.781 - 25s 1ms/step - loss: 0.5564 - acc: 0.7819 - val_loss: 0.4218 - val_acc: 0.8361\n",
      "Epoch 2/5\n",
      "25000/25000 [==============================] - ETA: 23s - loss: 0.4272 - acc: 0.84 - ETA: 23s - loss: 0.4250 - acc: 0.84 - ETA: 23s - loss: 0.4305 - acc: 0.84 - ETA: 23s - loss: 0.4261 - acc: 0.83 - ETA: 23s - loss: 0.4302 - acc: 0.82 - ETA: 23s - loss: 0.4276 - acc: 0.83 - ETA: 23s - loss: 0.4172 - acc: 0.84 - ETA: 23s - loss: 0.4220 - acc: 0.83 - ETA: 23s - loss: 0.4218 - acc: 0.83 - ETA: 23s - loss: 0.4223 - acc: 0.83 - ETA: 23s - loss: 0.4239 - acc: 0.83 - ETA: 23s - loss: 0.4172 - acc: 0.84 - ETA: 23s - loss: 0.4167 - acc: 0.84 - ETA: 23s - loss: 0.4136 - acc: 0.84 - ETA: 23s - loss: 0.4143 - acc: 0.84 - ETA: 23s - loss: 0.4121 - acc: 0.84 - ETA: 23s - loss: 0.4082 - acc: 0.84 - ETA: 22s - loss: 0.4062 - acc: 0.85 - ETA: 22s - loss: 0.4033 - acc: 0.85 - ETA: 22s - loss: 0.4047 - acc: 0.85 - ETA: 22s - loss: 0.4029 - acc: 0.85 - ETA: 22s - loss: 0.4019 - acc: 0.85 - ETA: 22s - loss: 0.3999 - acc: 0.85 - ETA: 22s - loss: 0.4002 - acc: 0.85 - ETA: 22s - loss: 0.3982 - acc: 0.86 - ETA: 22s - loss: 0.3967 - acc: 0.86 - ETA: 22s - loss: 0.3973 - acc: 0.86 - ETA: 22s - loss: 0.3965 - acc: 0.86 - ETA: 22s - loss: 0.3967 - acc: 0.86 - ETA: 22s - loss: 0.3995 - acc: 0.85 - ETA: 22s - loss: 0.3986 - acc: 0.86 - ETA: 22s - loss: 0.3990 - acc: 0.86 - ETA: 22s - loss: 0.3992 - acc: 0.85 - ETA: 21s - loss: 0.3964 - acc: 0.86 - ETA: 21s - loss: 0.3970 - acc: 0.85 - ETA: 21s - loss: 0.3965 - acc: 0.85 - ETA: 21s - loss: 0.3958 - acc: 0.85 - ETA: 21s - loss: 0.3940 - acc: 0.86 - ETA: 21s - loss: 0.3940 - acc: 0.86 - ETA: 21s - loss: 0.3947 - acc: 0.85 - ETA: 21s - loss: 0.3942 - acc: 0.86 - ETA: 21s - loss: 0.3932 - acc: 0.86 - ETA: 21s - loss: 0.3929 - acc: 0.86 - ETA: 21s - loss: 0.3926 - acc: 0.86 - ETA: 21s - loss: 0.3926 - acc: 0.86 - ETA: 21s - loss: 0.3911 - acc: 0.86 - ETA: 21s - loss: 0.3901 - acc: 0.86 - ETA: 21s - loss: 0.3886 - acc: 0.86 - ETA: 21s - loss: 0.3872 - acc: 0.86 - ETA: 21s - loss: 0.3864 - acc: 0.86 - ETA: 20s - loss: 0.3864 - acc: 0.86 - ETA: 20s - loss: 0.3858 - acc: 0.86 - ETA: 20s - loss: 0.3857 - acc: 0.86 - ETA: 20s - loss: 0.3854 - acc: 0.86 - ETA: 20s - loss: 0.3838 - acc: 0.86 - ETA: 20s - loss: 0.3828 - acc: 0.86 - ETA: 20s - loss: 0.3822 - acc: 0.86 - ETA: 20s - loss: 0.3811 - acc: 0.86 - ETA: 20s - loss: 0.3808 - acc: 0.86 - ETA: 20s - loss: 0.3816 - acc: 0.86 - ETA: 20s - loss: 0.3827 - acc: 0.86 - ETA: 20s - loss: 0.3826 - acc: 0.86 - ETA: 20s - loss: 0.3822 - acc: 0.86 - ETA: 20s - loss: 0.3809 - acc: 0.86 - ETA: 20s - loss: 0.3791 - acc: 0.86 - ETA: 20s - loss: 0.3796 - acc: 0.86 - ETA: 20s - loss: 0.3785 - acc: 0.86 - ETA: 20s - loss: 0.3784 - acc: 0.86 - ETA: 19s - loss: 0.3783 - acc: 0.86 - ETA: 19s - loss: 0.3784 - acc: 0.86 - ETA: 19s - loss: 0.3789 - acc: 0.86 - ETA: 19s - loss: 0.3779 - acc: 0.86 - ETA: 19s - loss: 0.3782 - acc: 0.86 - ETA: 19s - loss: 0.3784 - acc: 0.86 - ETA: 19s - loss: 0.3786 - acc: 0.86 - ETA: 19s - loss: 0.3778 - acc: 0.86 - ETA: 19s - loss: 0.3774 - acc: 0.86 - ETA: 19s - loss: 0.3769 - acc: 0.86 - ETA: 19s - loss: 0.3767 - acc: 0.86 - ETA: 19s - loss: 0.3762 - acc: 0.86 - ETA: 19s - loss: 0.3757 - acc: 0.86 - ETA: 19s - loss: 0.3757 - acc: 0.86 - ETA: 19s - loss: 0.3752 - acc: 0.86 - ETA: 19s - loss: 0.3744 - acc: 0.86 - ETA: 18s - loss: 0.3734 - acc: 0.86 - ETA: 18s - loss: 0.3733 - acc: 0.86 - ETA: 18s - loss: 0.3721 - acc: 0.86 - ETA: 18s - loss: 0.3729 - acc: 0.86 - ETA: 18s - loss: 0.3722 - acc: 0.86 - ETA: 18s - loss: 0.3717 - acc: 0.86 - ETA: 18s - loss: 0.3715 - acc: 0.86 - ETA: 18s - loss: 0.3723 - acc: 0.86 - ETA: 18s - loss: 0.3717 - acc: 0.86 - ETA: 18s - loss: 0.3712 - acc: 0.86 - ETA: 18s - loss: 0.3711 - acc: 0.86 - ETA: 18s - loss: 0.3703 - acc: 0.87 - ETA: 18s - loss: 0.3706 - acc: 0.86 - ETA: 18s - loss: 0.3704 - acc: 0.86 - ETA: 18s - loss: 0.3701 - acc: 0.87 - ETA: 18s - loss: 0.3700 - acc: 0.86 - ETA: 18s - loss: 0.3699 - acc: 0.86 - ETA: 17s - loss: 0.3689 - acc: 0.86 - ETA: 17s - loss: 0.3689 - acc: 0.86 - ETA: 17s - loss: 0.3692 - acc: 0.86 - ETA: 17s - loss: 0.3691 - acc: 0.86 - ETA: 17s - loss: 0.3691 - acc: 0.86 - ETA: 17s - loss: 0.3695 - acc: 0.86 - ETA: 17s - loss: 0.3689 - acc: 0.86 - ETA: 17s - loss: 0.3690 - acc: 0.86 - ETA: 17s - loss: 0.3689 - acc: 0.86 - ETA: 17s - loss: 0.3688 - acc: 0.86 - ETA: 17s - loss: 0.3691 - acc: 0.86 - ETA: 17s - loss: 0.3686 - acc: 0.86 - ETA: 17s - loss: 0.3685 - acc: 0.86 - ETA: 17s - loss: 0.3681 - acc: 0.86 - ETA: 17s - loss: 0.3681 - acc: 0.86 - ETA: 17s - loss: 0.3681 - acc: 0.86 - ETA: 16s - loss: 0.3682 - acc: 0.86 - ETA: 16s - loss: 0.3676 - acc: 0.87 - ETA: 16s - loss: 0.3675 - acc: 0.87 - ETA: 16s - loss: 0.3679 - acc: 0.86 - ETA: 16s - loss: 0.3681 - acc: 0.86 - ETA: 16s - loss: 0.3674 - acc: 0.86 - ETA: 16s - loss: 0.3673 - acc: 0.86 - ETA: 16s - loss: 0.3675 - acc: 0.86 - ETA: 16s - loss: 0.3673 - acc: 0.86 - ETA: 16s - loss: 0.3665 - acc: 0.87 - ETA: 16s - loss: 0.3666 - acc: 0.86 - ETA: 16s - loss: 0.3661 - acc: 0.87 - ETA: 16s - loss: 0.3657 - acc: 0.87 - ETA: 16s - loss: 0.3655 - acc: 0.87 - ETA: 16s - loss: 0.3651 - acc: 0.87 - ETA: 16s - loss: 0.3648 - acc: 0.87 - ETA: 15s - loss: 0.3650 - acc: 0.87 - ETA: 15s - loss: 0.3652 - acc: 0.86 - ETA: 15s - loss: 0.3650 - acc: 0.86 - ETA: 15s - loss: 0.3647 - acc: 0.86 - ETA: 15s - loss: 0.3648 - acc: 0.86 - ETA: 15s - loss: 0.3643 - acc: 0.87 - ETA: 15s - loss: 0.3640 - acc: 0.87 - ETA: 15s - loss: 0.3640 - acc: 0.87 - ETA: 15s - loss: 0.3638 - acc: 0.87 - ETA: 15s - loss: 0.3642 - acc: 0.86 - ETA: 15s - loss: 0.3643 - acc: 0.86 - ETA: 15s - loss: 0.3638 - acc: 0.86 - ETA: 15s - loss: 0.3636 - acc: 0.87 - ETA: 15s - loss: 0.3634 - acc: 0.87 - ETA: 15s - loss: 0.3634 - acc: 0.86 - ETA: 15s - loss: 0.3627 - acc: 0.87 - ETA: 14s - loss: 0.3623 - acc: 0.87 - ETA: 14s - loss: 0.3623 - acc: 0.87 - ETA: 14s - loss: 0.3627 - acc: 0.86 - ETA: 14s - loss: 0.3626 - acc: 0.86 - ETA: 14s - loss: 0.3626 - acc: 0.86 - ETA: 14s - loss: 0.3624 - acc: 0.86 - ETA: 14s - loss: 0.3621 - acc: 0.86 - ETA: 14s - loss: 0.3620 - acc: 0.86 - ETA: 14s - loss: 0.3619 - acc: 0.86 - ETA: 14s - loss: 0.3617 - acc: 0.86 - ETA: 14s - loss: 0.3614 - acc: 0.86 - ETA: 14s - loss: 0.3613 - acc: 0.86 - ETA: 14s - loss: 0.3609 - acc: 0.86 - ETA: 14s - loss: 0.3606 - acc: 0.86 - ETA: 14s - loss: 0.3604 - acc: 0.86 - ETA: 14s - loss: 0.3609 - acc: 0.86 - ETA: 13s - loss: 0.3609 - acc: 0.86 - ETA: 13s - loss: 0.3613 - acc: 0.86 - ETA: 13s - loss: 0.3611 - acc: 0.86 - ETA: 13s - loss: 0.3608 - acc: 0.86 - ETA: 13s - loss: 0.3606 - acc: 0.86 - ETA: 13s - loss: 0.3606 - acc: 0.86 - ETA: 13s - loss: 0.3603 - acc: 0.86 - ETA: 13s - loss: 0.3602 - acc: 0.86 - ETA: 13s - loss: 0.3602 - acc: 0.87 - ETA: 13s - loss: 0.3602 - acc: 0.86 - ETA: 13s - loss: 0.3597 - acc: 0.87 - ETA: 13s - loss: 0.3598 - acc: 0.86 - ETA: 13s - loss: 0.3592 - acc: 0.87 - ETA: 13s - loss: 0.3591 - acc: 0.87 - ETA: 13s - loss: 0.3591 - acc: 0.87 - ETA: 13s - loss: 0.3591 - acc: 0.87 - ETA: 13s - loss: 0.3591 - acc: 0.87 - ETA: 12s - loss: 0.3588 - acc: 0.87 - ETA: 12s - loss: 0.3590 - acc: 0.86 - ETA: 12s - loss: 0.3585 - acc: 0.87 - ETA: 12s - loss: 0.3583 - acc: 0.87 - ETA: 12s - loss: 0.3578 - acc: 0.87 - ETA: 12s - loss: 0.3571 - acc: 0.87 - ETA: 12s - loss: 0.3572 - acc: 0.87 - ETA: 12s - loss: 0.3567 - acc: 0.87 - ETA: 12s - loss: 0.3565 - acc: 0.87 - ETA: 12s - loss: 0.3562 - acc: 0.87 - ETA: 12s - loss: 0.3558 - acc: 0.87 - ETA: 12s - loss: 0.3557 - acc: 0.87 - ETA: 12s - loss: 0.3558 - acc: 0.87 - ETA: 12s - loss: 0.3557 - acc: 0.87 - ETA: 12s - loss: 0.3556 - acc: 0.87 - ETA: 12s - loss: 0.3556 - acc: 0.87 - ETA: 12s - loss: 0.3552 - acc: 0.87 - ETA: 11s - loss: 0.3549 - acc: 0.87 - ETA: 11s - loss: 0.3551 - acc: 0.87 - ETA: 11s - loss: 0.3547 - acc: 0.87 - ETA: 11s - loss: 0.3546 - acc: 0.87 - ETA: 11s - loss: 0.3545 - acc: 0.87 - ETA: 11s - loss: 0.3542 - acc: 0.87 - ETA: 11s - loss: 0.3540 - acc: 0.87 - ETA: 11s - loss: 0.3535 - acc: 0.87 - ETA: 11s - loss: 0.3532 - acc: 0.87 - ETA: 11s - loss: 0.3530 - acc: 0.87 - ETA: 11s - loss: 0.3527 - acc: 0.87 - ETA: 11s - loss: 0.3525 - acc: 0.87 - ETA: 11s - loss: 0.3522 - acc: 0.87 - ETA: 11s - loss: 0.3523 - acc: 0.87 - ETA: 11s - loss: 0.3522 - acc: 0.87 - ETA: 11s - loss: 0.3521 - acc: 0.87 - ETA: 10s - loss: 0.3518 - acc: 0.87 - ETA: 10s - loss: 0.3516 - acc: 0.87 - ETA: 10s - loss: 0.3513 - acc: 0.87 - ETA: 10s - loss: 0.3511 - acc: 0.87 - ETA: 10s - loss: 0.3508 - acc: 0.87 - ETA: 10s - loss: 0.3510 - acc: 0.87 - ETA: 10s - loss: 0.3508 - acc: 0.87 - ETA: 10s - loss: 0.3507 - acc: 0.87 - ETA: 10s - loss: 0.3503 - acc: 0.87 - ETA: 10s - loss: 0.3502 - acc: 0.87 - ETA: 10s - loss: 0.3499 - acc: 0.87 - ETA: 10s - loss: 0.3497 - acc: 0.87 - ETA: 10s - loss: 0.3497 - acc: 0.87 - ETA: 10s - loss: 0.3497 - acc: 0.87 - ETA: 10s - loss: 0.3496 - acc: 0.87 - ETA: 10s - loss: 0.3494 - acc: 0.87 - ETA: 9s - loss: 0.3494 - acc: 0.8739 - ETA: 9s - loss: 0.3492 - acc: 0.873 - ETA: 9s - loss: 0.3486 - acc: 0.874 - ETA: 9s - loss: 0.3485 - acc: 0.874 - ETA: 9s - loss: 0.3483 - acc: 0.874 - ETA: 9s - loss: 0.3486 - acc: 0.873 - ETA: 9s - loss: 0.3486 - acc: 0.873 - ETA: 9s - loss: 0.3488 - acc: 0.873 - ETA: 9s - loss: 0.3485 - acc: 0.873 - ETA: 9s - loss: 0.3485 - acc: 0.873 - ETA: 9s - loss: 0.3482 - acc: 0.874 - ETA: 9s - loss: 0.3482 - acc: 0.873 - ETA: 9s - loss: 0.3478 - acc: 0.874 - ETA: 9s - loss: 0.3476 - acc: 0.874 - ETA: 9s - loss: 0.3472 - acc: 0.874 - ETA: 9s - loss: 0.3475 - acc: 0.874 - ETA: 8s - loss: 0.3473 - acc: 0.874 - ETA: 8s - loss: 0.3473 - acc: 0.874 - ETA: 8s - loss: 0.3470 - acc: 0.874 - ETA: 8s - loss: 0.3468 - acc: 0.874 - ETA: 8s - loss: 0.3464 - acc: 0.874 - ETA: 8s - loss: 0.3461 - acc: 0.874 - ETA: 8s - loss: 0.3462 - acc: 0.874 - ETA: 8s - loss: 0.3461 - acc: 0.874 - ETA: 8s - loss: 0.3457 - acc: 0.875 - ETA: 8s - loss: 0.3458 - acc: 0.874 - ETA: 8s - loss: 0.3458 - acc: 0.874 - ETA: 8s - loss: 0.3455 - acc: 0.874 - ETA: 8s - loss: 0.3453 - acc: 0.874 - ETA: 8s - loss: 0.3452 - acc: 0.874 - ETA: 8s - loss: 0.3450 - acc: 0.874 - ETA: 8s - loss: 0.3448 - acc: 0.874 - ETA: 8s - loss: 0.3446 - acc: 0.875 - ETA: 7s - loss: 0.3446 - acc: 0.875 - ETA: 7s - loss: 0.3442 - acc: 0.875 - ETA: 7s - loss: 0.3444 - acc: 0.874 - ETA: 7s - loss: 0.3441 - acc: 0.875 - ETA: 7s - loss: 0.3443 - acc: 0.874 - ETA: 7s - loss: 0.3442 - acc: 0.874 - ETA: 7s - loss: 0.3441 - acc: 0.874 - ETA: 7s - loss: 0.3440 - acc: 0.874 - ETA: 7s - loss: 0.3437 - acc: 0.874 - ETA: 7s - loss: 0.3439 - acc: 0.874 - ETA: 7s - loss: 0.3437 - acc: 0.874 - ETA: 7s - loss: 0.3436 - acc: 0.874 - ETA: 7s - loss: 0.3435 - acc: 0.874 - ETA: 7s - loss: 0.3438 - acc: 0.874 - ETA: 7s - loss: 0.3438 - acc: 0.874 - ETA: 7s - loss: 0.3434 - acc: 0.874 - ETA: 6s - loss: 0.3434 - acc: 0.874 - ETA: 6s - loss: 0.3432 - acc: 0.874 - ETA: 6s - loss: 0.3430 - acc: 0.874 - ETA: 6s - loss: 0.3428 - acc: 0.874 - ETA: 6s - loss: 0.3428 - acc: 0.874 - ETA: 6s - loss: 0.3424 - acc: 0.874 - ETA: 6s - loss: 0.3423 - acc: 0.874 - ETA: 6s - loss: 0.3425 - acc: 0.874 - ETA: 6s - loss: 0.3422 - acc: 0.874 - ETA: 6s - loss: 0.3420 - acc: 0.874 - ETA: 6s - loss: 0.3420 - acc: 0.874 - ETA: 6s - loss: 0.3417 - acc: 0.874 - ETA: 6s - loss: 0.3416 - acc: 0.875 - ETA: 6s - loss: 0.3411 - acc: 0.875 - ETA: 6s - loss: 0.3412 - acc: 0.875 - ETA: 5s - loss: 0.3408 - acc: 0.875 - ETA: 5s - loss: 0.3405 - acc: 0.875 - ETA: 5s - loss: 0.3403 - acc: 0.875 - ETA: 5s - loss: 0.3401 - acc: 0.875 - ETA: 5s - loss: 0.3399 - acc: 0.876 - ETA: 5s - loss: 0.3400 - acc: 0.875 - ETA: 5s - loss: 0.3399 - acc: 0.875 - ETA: 5s - loss: 0.3397 - acc: 0.876 - ETA: 5s - loss: 0.3396 - acc: 0.875 - ETA: 5s - loss: 0.3396 - acc: 0.875 - ETA: 5s - loss: 0.3393 - acc: 0.875 - ETA: 5s - loss: 0.3392 - acc: 0.876 - ETA: 5s - loss: 0.3391 - acc: 0.875 - ETA: 5s - loss: 0.3390 - acc: 0.875 - ETA: 5s - loss: 0.3391 - acc: 0.875 - ETA: 5s - loss: 0.3388 - acc: 0.875 - ETA: 4s - loss: 0.3386 - acc: 0.876 - ETA: 4s - loss: 0.3383 - acc: 0.876 - ETA: 4s - loss: 0.3382 - acc: 0.876 - ETA: 4s - loss: 0.3380 - acc: 0.876 - ETA: 4s - loss: 0.3378 - acc: 0.876 - ETA: 4s - loss: 0.3378 - acc: 0.876 - ETA: 4s - loss: 0.3378 - acc: 0.876 - ETA: 4s - loss: 0.3380 - acc: 0.876 - ETA: 4s - loss: 0.3381 - acc: 0.876 - ETA: 4s - loss: 0.3380 - acc: 0.876 - ETA: 4s - loss: 0.3378 - acc: 0.876 - ETA: 4s - loss: 0.3377 - acc: 0.876 - ETA: 4s - loss: 0.3374 - acc: 0.876 - ETA: 4s - loss: 0.3373 - acc: 0.876 - ETA: 4s - loss: 0.3372 - acc: 0.876 - ETA: 4s - loss: 0.3370 - acc: 0.876 - ETA: 3s - loss: 0.3371 - acc: 0.876 - ETA: 3s - loss: 0.3369 - acc: 0.876 - ETA: 3s - loss: 0.3369 - acc: 0.876 - ETA: 3s - loss: 0.3367 - acc: 0.876 - ETA: 3s - loss: 0.3372 - acc: 0.875 - ETA: 3s - loss: 0.3371 - acc: 0.875 - ETA: 3s - loss: 0.3371 - acc: 0.875 - ETA: 3s - loss: 0.3370 - acc: 0.875 - ETA: 3s - loss: 0.3372 - acc: 0.875 - ETA: 3s - loss: 0.3372 - acc: 0.875 - ETA: 3s - loss: 0.3371 - acc: 0.875 - ETA: 3s - loss: 0.3369 - acc: 0.875 - ETA: 3s - loss: 0.3365 - acc: 0.875 - ETA: 3s - loss: 0.3365 - acc: 0.875 - ETA: 3s - loss: 0.3363 - acc: 0.875 - ETA: 3s - loss: 0.3361 - acc: 0.875 - ETA: 2s - loss: 0.3360 - acc: 0.875 - ETA: 2s - loss: 0.3360 - acc: 0.875 - ETA: 2s - loss: 0.3359 - acc: 0.875 - ETA: 2s - loss: 0.3360 - acc: 0.875 - ETA: 2s - loss: 0.3361 - acc: 0.875 - ETA: 2s - loss: 0.3359 - acc: 0.875 - ETA: 2s - loss: 0.3360 - acc: 0.875 - ETA: 2s - loss: 0.3360 - acc: 0.875 - ETA: 2s - loss: 0.3359 - acc: 0.875 - ETA: 2s - loss: 0.3358 - acc: 0.875 - ETA: 2s - loss: 0.3357 - acc: 0.875 - ETA: 2s - loss: 0.3356 - acc: 0.875 - ETA: 2s - loss: 0.3355 - acc: 0.875 - ETA: 2s - loss: 0.3352 - acc: 0.875 - ETA: 2s - loss: 0.3350 - acc: 0.875 - ETA: 2s - loss: 0.3346 - acc: 0.875 - ETA: 1s - loss: 0.3345 - acc: 0.875 - ETA: 1s - loss: 0.3344 - acc: 0.876 - ETA: 1s - loss: 0.3342 - acc: 0.876 - ETA: 1s - loss: 0.3342 - acc: 0.876 - ETA: 1s - loss: 0.3341 - acc: 0.876 - ETA: 1s - loss: 0.3339 - acc: 0.876 - ETA: 1s - loss: 0.3336 - acc: 0.876 - ETA: 1s - loss: 0.3336 - acc: 0.876 - ETA: 1s - loss: 0.3334 - acc: 0.876 - ETA: 1s - loss: 0.3333 - acc: 0.876 - ETA: 1s - loss: 0.3331 - acc: 0.876 - ETA: 1s - loss: 0.3331 - acc: 0.876 - ETA: 1s - loss: 0.3331 - acc: 0.876 - ETA: 1s - loss: 0.3331 - acc: 0.876 - ETA: 1s - loss: 0.3330 - acc: 0.876 - ETA: 1s - loss: 0.3329 - acc: 0.876 - ETA: 0s - loss: 0.3327 - acc: 0.876 - ETA: 0s - loss: 0.3328 - acc: 0.876 - ETA: 0s - loss: 0.3328 - acc: 0.876 - ETA: 0s - loss: 0.3326 - acc: 0.876 - ETA: 0s - loss: 0.3326 - acc: 0.876 - ETA: 0s - loss: 0.3328 - acc: 0.876 - ETA: 0s - loss: 0.3327 - acc: 0.876 - ETA: 0s - loss: 0.3327 - acc: 0.876 - ETA: 0s - loss: 0.3326 - acc: 0.876 - ETA: 0s - loss: 0.3323 - acc: 0.876 - ETA: 0s - loss: 0.3322 - acc: 0.876 - ETA: 0s - loss: 0.3323 - acc: 0.876 - ETA: 0s - loss: 0.3321 - acc: 0.876 - ETA: 0s - loss: 0.3324 - acc: 0.876 - ETA: 0s - loss: 0.3323 - acc: 0.876 - ETA: 0s - loss: 0.3321 - acc: 0.876 - 25s 1ms/step - loss: 0.3321 - acc: 0.8767 - val_loss: 0.3319 - val_acc: 0.8628\n",
      "Epoch 3/5\n",
      "25000/25000 [==============================] - ETA: 24s - loss: 0.3771 - acc: 0.81 - ETA: 25s - loss: 0.2581 - acc: 0.90 - ETA: 25s - loss: 0.2518 - acc: 0.91 - ETA: 25s - loss: 0.2617 - acc: 0.88 - ETA: 25s - loss: 0.2505 - acc: 0.89 - ETA: 25s - loss: 0.2555 - acc: 0.89 - ETA: 25s - loss: 0.2637 - acc: 0.89 - ETA: 25s - loss: 0.2682 - acc: 0.89 - ETA: 25s - loss: 0.2667 - acc: 0.90 - ETA: 25s - loss: 0.2638 - acc: 0.90 - ETA: 25s - loss: 0.2674 - acc: 0.89 - ETA: 25s - loss: 0.2687 - acc: 0.89 - ETA: 25s - loss: 0.2670 - acc: 0.89 - ETA: 25s - loss: 0.2668 - acc: 0.89 - ETA: 25s - loss: 0.2689 - acc: 0.89 - ETA: 25s - loss: 0.2677 - acc: 0.89 - ETA: 24s - loss: 0.2660 - acc: 0.90 - ETA: 24s - loss: 0.2667 - acc: 0.90 - ETA: 24s - loss: 0.2660 - acc: 0.90 - ETA: 24s - loss: 0.2645 - acc: 0.90 - ETA: 24s - loss: 0.2632 - acc: 0.90 - ETA: 24s - loss: 0.2613 - acc: 0.90 - ETA: 24s - loss: 0.2646 - acc: 0.90 - ETA: 24s - loss: 0.2621 - acc: 0.90 - ETA: 24s - loss: 0.2636 - acc: 0.90 - ETA: 24s - loss: 0.2624 - acc: 0.90 - ETA: 24s - loss: 0.2618 - acc: 0.90 - ETA: 24s - loss: 0.2596 - acc: 0.90 - ETA: 24s - loss: 0.2615 - acc: 0.90 - ETA: 24s - loss: 0.2633 - acc: 0.90 - ETA: 24s - loss: 0.2621 - acc: 0.90 - ETA: 24s - loss: 0.2611 - acc: 0.90 - ETA: 24s - loss: 0.2592 - acc: 0.90 - ETA: 23s - loss: 0.2583 - acc: 0.90 - ETA: 23s - loss: 0.2580 - acc: 0.90 - ETA: 23s - loss: 0.2572 - acc: 0.91 - ETA: 23s - loss: 0.2578 - acc: 0.91 - ETA: 23s - loss: 0.2569 - acc: 0.91 - ETA: 23s - loss: 0.2562 - acc: 0.91 - ETA: 23s - loss: 0.2566 - acc: 0.91 - ETA: 23s - loss: 0.2577 - acc: 0.91 - ETA: 23s - loss: 0.2577 - acc: 0.91 - ETA: 23s - loss: 0.2586 - acc: 0.91 - ETA: 23s - loss: 0.2591 - acc: 0.91 - ETA: 23s - loss: 0.2588 - acc: 0.91 - ETA: 23s - loss: 0.2572 - acc: 0.91 - ETA: 23s - loss: 0.2553 - acc: 0.91 - ETA: 22s - loss: 0.2561 - acc: 0.91 - ETA: 22s - loss: 0.2550 - acc: 0.91 - ETA: 22s - loss: 0.2540 - acc: 0.91 - ETA: 22s - loss: 0.2539 - acc: 0.91 - ETA: 22s - loss: 0.2550 - acc: 0.91 - ETA: 22s - loss: 0.2547 - acc: 0.91 - ETA: 22s - loss: 0.2552 - acc: 0.91 - ETA: 22s - loss: 0.2554 - acc: 0.91 - ETA: 22s - loss: 0.2559 - acc: 0.91 - ETA: 22s - loss: 0.2570 - acc: 0.91 - ETA: 22s - loss: 0.2572 - acc: 0.91 - ETA: 21s - loss: 0.2583 - acc: 0.91 - ETA: 21s - loss: 0.2595 - acc: 0.91 - ETA: 21s - loss: 0.2598 - acc: 0.91 - ETA: 21s - loss: 0.2593 - acc: 0.91 - ETA: 21s - loss: 0.2593 - acc: 0.91 - ETA: 21s - loss: 0.2592 - acc: 0.91 - ETA: 21s - loss: 0.2595 - acc: 0.91 - ETA: 21s - loss: 0.2590 - acc: 0.91 - ETA: 21s - loss: 0.2587 - acc: 0.91 - ETA: 21s - loss: 0.2578 - acc: 0.91 - ETA: 21s - loss: 0.2574 - acc: 0.91 - ETA: 21s - loss: 0.2572 - acc: 0.91 - ETA: 21s - loss: 0.2578 - acc: 0.91 - ETA: 20s - loss: 0.2575 - acc: 0.91 - ETA: 20s - loss: 0.2571 - acc: 0.91 - ETA: 20s - loss: 0.2578 - acc: 0.91 - ETA: 20s - loss: 0.2581 - acc: 0.91 - ETA: 20s - loss: 0.2588 - acc: 0.91 - ETA: 20s - loss: 0.2598 - acc: 0.91 - ETA: 20s - loss: 0.2602 - acc: 0.90 - ETA: 20s - loss: 0.2598 - acc: 0.91 - ETA: 20s - loss: 0.2601 - acc: 0.91 - ETA: 20s - loss: 0.2601 - acc: 0.91 - ETA: 20s - loss: 0.2613 - acc: 0.90 - ETA: 20s - loss: 0.2621 - acc: 0.90 - ETA: 20s - loss: 0.2625 - acc: 0.90 - ETA: 19s - loss: 0.2624 - acc: 0.90 - ETA: 19s - loss: 0.2625 - acc: 0.90 - ETA: 19s - loss: 0.2624 - acc: 0.90 - ETA: 19s - loss: 0.2629 - acc: 0.90 - ETA: 19s - loss: 0.2634 - acc: 0.90 - ETA: 19s - loss: 0.2631 - acc: 0.90 - ETA: 19s - loss: 0.2633 - acc: 0.90 - ETA: 19s - loss: 0.2636 - acc: 0.90 - ETA: 19s - loss: 0.2627 - acc: 0.90 - ETA: 19s - loss: 0.2629 - acc: 0.90 - ETA: 19s - loss: 0.2623 - acc: 0.90 - ETA: 19s - loss: 0.2616 - acc: 0.90 - ETA: 19s - loss: 0.2613 - acc: 0.90 - ETA: 19s - loss: 0.2611 - acc: 0.90 - ETA: 18s - loss: 0.2605 - acc: 0.91 - ETA: 18s - loss: 0.2606 - acc: 0.91 - ETA: 18s - loss: 0.2603 - acc: 0.91 - ETA: 18s - loss: 0.2600 - acc: 0.91 - ETA: 18s - loss: 0.2603 - acc: 0.91 - ETA: 18s - loss: 0.2596 - acc: 0.91 - ETA: 18s - loss: 0.2596 - acc: 0.91 - ETA: 18s - loss: 0.2587 - acc: 0.91 - ETA: 18s - loss: 0.2587 - acc: 0.91 - ETA: 18s - loss: 0.2589 - acc: 0.91 - ETA: 18s - loss: 0.2589 - acc: 0.91 - ETA: 18s - loss: 0.2590 - acc: 0.91 - ETA: 18s - loss: 0.2596 - acc: 0.90 - ETA: 18s - loss: 0.2594 - acc: 0.90 - ETA: 18s - loss: 0.2596 - acc: 0.90 - ETA: 17s - loss: 0.2599 - acc: 0.90 - ETA: 17s - loss: 0.2599 - acc: 0.90 - ETA: 17s - loss: 0.2595 - acc: 0.90 - ETA: 17s - loss: 0.2599 - acc: 0.90 - ETA: 17s - loss: 0.2599 - acc: 0.90 - ETA: 17s - loss: 0.2595 - acc: 0.90 - ETA: 17s - loss: 0.2601 - acc: 0.90 - ETA: 17s - loss: 0.2602 - acc: 0.90 - ETA: 17s - loss: 0.2605 - acc: 0.90 - ETA: 17s - loss: 0.2607 - acc: 0.90 - ETA: 17s - loss: 0.2602 - acc: 0.90 - ETA: 17s - loss: 0.2601 - acc: 0.90 - ETA: 17s - loss: 0.2595 - acc: 0.90 - ETA: 17s - loss: 0.2592 - acc: 0.90 - ETA: 16s - loss: 0.2599 - acc: 0.90 - ETA: 16s - loss: 0.2599 - acc: 0.90 - ETA: 16s - loss: 0.2599 - acc: 0.90 - ETA: 16s - loss: 0.2592 - acc: 0.90 - ETA: 16s - loss: 0.2590 - acc: 0.90 - ETA: 16s - loss: 0.2596 - acc: 0.90 - ETA: 16s - loss: 0.2599 - acc: 0.90 - ETA: 16s - loss: 0.2598 - acc: 0.90 - ETA: 16s - loss: 0.2593 - acc: 0.90 - ETA: 16s - loss: 0.2590 - acc: 0.90 - ETA: 16s - loss: 0.2589 - acc: 0.90 - ETA: 16s - loss: 0.2591 - acc: 0.90 - ETA: 16s - loss: 0.2597 - acc: 0.90 - ETA: 16s - loss: 0.2596 - acc: 0.90 - ETA: 16s - loss: 0.2599 - acc: 0.90 - ETA: 16s - loss: 0.2599 - acc: 0.90 - ETA: 15s - loss: 0.2604 - acc: 0.90 - ETA: 15s - loss: 0.2607 - acc: 0.90 - ETA: 15s - loss: 0.2608 - acc: 0.90 - ETA: 15s - loss: 0.2612 - acc: 0.90 - ETA: 15s - loss: 0.2612 - acc: 0.90 - ETA: 15s - loss: 0.2608 - acc: 0.90 - ETA: 15s - loss: 0.2606 - acc: 0.90 - ETA: 15s - loss: 0.2604 - acc: 0.90 - ETA: 15s - loss: 0.2599 - acc: 0.90 - ETA: 15s - loss: 0.2596 - acc: 0.90 - ETA: 15s - loss: 0.2598 - acc: 0.90 - ETA: 15s - loss: 0.2604 - acc: 0.90 - ETA: 15s - loss: 0.2606 - acc: 0.90 - ETA: 15s - loss: 0.2607 - acc: 0.90 - ETA: 14s - loss: 0.2603 - acc: 0.90 - ETA: 14s - loss: 0.2604 - acc: 0.90 - ETA: 14s - loss: 0.2604 - acc: 0.90 - ETA: 14s - loss: 0.2607 - acc: 0.90 - ETA: 14s - loss: 0.2604 - acc: 0.90 - ETA: 14s - loss: 0.2603 - acc: 0.90 - ETA: 14s - loss: 0.2599 - acc: 0.90 - ETA: 14s - loss: 0.2599 - acc: 0.90 - ETA: 14s - loss: 0.2599 - acc: 0.90 - ETA: 14s - loss: 0.2600 - acc: 0.90 - ETA: 14s - loss: 0.2604 - acc: 0.90 - ETA: 14s - loss: 0.2599 - acc: 0.90 - ETA: 14s - loss: 0.2599 - acc: 0.90 - ETA: 14s - loss: 0.2598 - acc: 0.90 - ETA: 14s - loss: 0.2598 - acc: 0.90 - ETA: 13s - loss: 0.2597 - acc: 0.90 - ETA: 13s - loss: 0.2595 - acc: 0.90 - ETA: 13s - loss: 0.2594 - acc: 0.90 - ETA: 13s - loss: 0.2598 - acc: 0.90 - ETA: 13s - loss: 0.2595 - acc: 0.90 - ETA: 13s - loss: 0.2593 - acc: 0.90 - ETA: 13s - loss: 0.2589 - acc: 0.90 - ETA: 13s - loss: 0.2588 - acc: 0.90 - ETA: 13s - loss: 0.2585 - acc: 0.90 - ETA: 13s - loss: 0.2579 - acc: 0.90 - ETA: 13s - loss: 0.2581 - acc: 0.90 - ETA: 13s - loss: 0.2579 - acc: 0.90 - ETA: 13s - loss: 0.2577 - acc: 0.90 - ETA: 13s - loss: 0.2575 - acc: 0.90 - ETA: 13s - loss: 0.2573 - acc: 0.90 - ETA: 12s - loss: 0.2573 - acc: 0.90 - ETA: 12s - loss: 0.2578 - acc: 0.90 - ETA: 12s - loss: 0.2581 - acc: 0.90 - ETA: 12s - loss: 0.2578 - acc: 0.90 - ETA: 12s - loss: 0.2580 - acc: 0.90 - ETA: 12s - loss: 0.2579 - acc: 0.90 - ETA: 12s - loss: 0.2581 - acc: 0.90 - ETA: 12s - loss: 0.2581 - acc: 0.90 - ETA: 12s - loss: 0.2577 - acc: 0.90 - ETA: 12s - loss: 0.2575 - acc: 0.90 - ETA: 12s - loss: 0.2572 - acc: 0.90 - ETA: 12s - loss: 0.2569 - acc: 0.90 - ETA: 12s - loss: 0.2571 - acc: 0.90 - ETA: 12s - loss: 0.2575 - acc: 0.90 - ETA: 12s - loss: 0.2582 - acc: 0.90 - ETA: 11s - loss: 0.2583 - acc: 0.90 - ETA: 11s - loss: 0.2586 - acc: 0.90 - ETA: 11s - loss: 0.2583 - acc: 0.90 - ETA: 11s - loss: 0.2581 - acc: 0.90 - ETA: 11s - loss: 0.2585 - acc: 0.90 - ETA: 11s - loss: 0.2583 - acc: 0.90 - ETA: 11s - loss: 0.2581 - acc: 0.90 - ETA: 11s - loss: 0.2582 - acc: 0.90 - ETA: 11s - loss: 0.2577 - acc: 0.90 - ETA: 11s - loss: 0.2572 - acc: 0.90 - ETA: 11s - loss: 0.2569 - acc: 0.90 - ETA: 11s - loss: 0.2568 - acc: 0.90 - ETA: 11s - loss: 0.2569 - acc: 0.90 - ETA: 11s - loss: 0.2566 - acc: 0.90 - ETA: 11s - loss: 0.2567 - acc: 0.90 - ETA: 11s - loss: 0.2565 - acc: 0.90 - ETA: 10s - loss: 0.2560 - acc: 0.90 - ETA: 10s - loss: 0.2560 - acc: 0.90 - ETA: 10s - loss: 0.2556 - acc: 0.90 - ETA: 10s - loss: 0.2556 - acc: 0.90 - ETA: 10s - loss: 0.2556 - acc: 0.90 - ETA: 10s - loss: 0.2557 - acc: 0.90 - ETA: 10s - loss: 0.2555 - acc: 0.90 - ETA: 10s - loss: 0.2554 - acc: 0.90 - ETA: 10s - loss: 0.2553 - acc: 0.90 - ETA: 10s - loss: 0.2552 - acc: 0.90 - ETA: 10s - loss: 0.2551 - acc: 0.90 - ETA: 10s - loss: 0.2548 - acc: 0.90 - ETA: 10s - loss: 0.2549 - acc: 0.90 - ETA: 10s - loss: 0.2547 - acc: 0.90 - ETA: 10s - loss: 0.2549 - acc: 0.90 - ETA: 9s - loss: 0.2547 - acc: 0.9079 - ETA: 9s - loss: 0.2546 - acc: 0.908 - ETA: 9s - loss: 0.2548 - acc: 0.908 - ETA: 9s - loss: 0.2547 - acc: 0.907 - ETA: 9s - loss: 0.2545 - acc: 0.908 - ETA: 9s - loss: 0.2543 - acc: 0.908 - ETA: 9s - loss: 0.2544 - acc: 0.907 - ETA: 9s - loss: 0.2545 - acc: 0.907 - ETA: 9s - loss: 0.2545 - acc: 0.907 - ETA: 9s - loss: 0.2545 - acc: 0.907 - ETA: 9s - loss: 0.2545 - acc: 0.907 - ETA: 9s - loss: 0.2543 - acc: 0.907 - ETA: 9s - loss: 0.2541 - acc: 0.908 - ETA: 9s - loss: 0.2544 - acc: 0.907 - ETA: 9s - loss: 0.2545 - acc: 0.907 - ETA: 9s - loss: 0.2543 - acc: 0.907 - ETA: 8s - loss: 0.2541 - acc: 0.907 - ETA: 8s - loss: 0.2539 - acc: 0.907 - ETA: 8s - loss: 0.2537 - acc: 0.907 - ETA: 8s - loss: 0.2540 - acc: 0.907 - ETA: 8s - loss: 0.2540 - acc: 0.907 - ETA: 8s - loss: 0.2543 - acc: 0.907 - ETA: 8s - loss: 0.2546 - acc: 0.907 - ETA: 8s - loss: 0.2544 - acc: 0.907 - ETA: 8s - loss: 0.2543 - acc: 0.907 - ETA: 8s - loss: 0.2548 - acc: 0.907 - ETA: 8s - loss: 0.2543 - acc: 0.907 - ETA: 8s - loss: 0.2542 - acc: 0.907 - ETA: 8s - loss: 0.2538 - acc: 0.908 - ETA: 8s - loss: 0.2537 - acc: 0.908 - ETA: 8s - loss: 0.2535 - acc: 0.908 - ETA: 7s - loss: 0.2534 - acc: 0.908 - ETA: 7s - loss: 0.2534 - acc: 0.908 - ETA: 7s - loss: 0.2530 - acc: 0.908 - ETA: 7s - loss: 0.2531 - acc: 0.908 - ETA: 7s - loss: 0.2529 - acc: 0.908 - ETA: 7s - loss: 0.2529 - acc: 0.908 - ETA: 7s - loss: 0.2528 - acc: 0.908 - ETA: 7s - loss: 0.2525 - acc: 0.908 - ETA: 7s - loss: 0.2527 - acc: 0.908 - ETA: 7s - loss: 0.2526 - acc: 0.908 - ETA: 7s - loss: 0.2525 - acc: 0.908 - ETA: 7s - loss: 0.2523 - acc: 0.908 - ETA: 7s - loss: 0.2521 - acc: 0.908 - ETA: 7s - loss: 0.2519 - acc: 0.908 - ETA: 7s - loss: 0.2520 - acc: 0.908 - ETA: 7s - loss: 0.2519 - acc: 0.908 - ETA: 6s - loss: 0.2514 - acc: 0.908 - ETA: 6s - loss: 0.2510 - acc: 0.909 - ETA: 6s - loss: 0.2511 - acc: 0.909 - ETA: 6s - loss: 0.2507 - acc: 0.909 - ETA: 6s - loss: 0.2504 - acc: 0.909 - ETA: 6s - loss: 0.2508 - acc: 0.909 - ETA: 6s - loss: 0.2507 - acc: 0.909 - ETA: 6s - loss: 0.2508 - acc: 0.909 - ETA: 6s - loss: 0.2504 - acc: 0.909 - ETA: 6s - loss: 0.2506 - acc: 0.909 - ETA: 6s - loss: 0.2505 - acc: 0.909 - ETA: 6s - loss: 0.2505 - acc: 0.909 - ETA: 6s - loss: 0.2504 - acc: 0.910 - ETA: 6s - loss: 0.2503 - acc: 0.910 - ETA: 6s - loss: 0.2503 - acc: 0.910 - ETA: 6s - loss: 0.2504 - acc: 0.910 - ETA: 5s - loss: 0.2499 - acc: 0.910 - ETA: 5s - loss: 0.2500 - acc: 0.910 - ETA: 5s - loss: 0.2498 - acc: 0.910 - ETA: 5s - loss: 0.2497 - acc: 0.910 - ETA: 5s - loss: 0.2497 - acc: 0.910 - ETA: 5s - loss: 0.2497 - acc: 0.910 - ETA: 5s - loss: 0.2499 - acc: 0.910 - ETA: 5s - loss: 0.2496 - acc: 0.910 - ETA: 5s - loss: 0.2498 - acc: 0.910 - ETA: 5s - loss: 0.2498 - acc: 0.910 - ETA: 5s - loss: 0.2496 - acc: 0.910 - ETA: 5s - loss: 0.2496 - acc: 0.910 - ETA: 5s - loss: 0.2493 - acc: 0.910 - ETA: 5s - loss: 0.2491 - acc: 0.910 - ETA: 5s - loss: 0.2494 - acc: 0.910 - ETA: 4s - loss: 0.2495 - acc: 0.910 - ETA: 4s - loss: 0.2494 - acc: 0.910 - ETA: 4s - loss: 0.2491 - acc: 0.910 - ETA: 4s - loss: 0.2492 - acc: 0.910 - ETA: 4s - loss: 0.2490 - acc: 0.911 - ETA: 4s - loss: 0.2492 - acc: 0.910 - ETA: 4s - loss: 0.2495 - acc: 0.910 - ETA: 4s - loss: 0.2497 - acc: 0.910 - ETA: 4s - loss: 0.2499 - acc: 0.910 - ETA: 4s - loss: 0.2498 - acc: 0.910 - ETA: 4s - loss: 0.2499 - acc: 0.910 - ETA: 4s - loss: 0.2498 - acc: 0.910 - ETA: 4s - loss: 0.2496 - acc: 0.910 - ETA: 4s - loss: 0.2495 - acc: 0.910 - ETA: 4s - loss: 0.2496 - acc: 0.910 - ETA: 4s - loss: 0.2495 - acc: 0.910 - ETA: 3s - loss: 0.2497 - acc: 0.910 - ETA: 3s - loss: 0.2494 - acc: 0.910 - ETA: 3s - loss: 0.2494 - acc: 0.910 - ETA: 3s - loss: 0.2492 - acc: 0.910 - ETA: 3s - loss: 0.2490 - acc: 0.910 - ETA: 3s - loss: 0.2493 - acc: 0.910 - ETA: 3s - loss: 0.2492 - acc: 0.910 - ETA: 3s - loss: 0.2488 - acc: 0.910 - ETA: 3s - loss: 0.2488 - acc: 0.910 - ETA: 3s - loss: 0.2488 - acc: 0.910 - ETA: 3s - loss: 0.2488 - acc: 0.910 - ETA: 3s - loss: 0.2489 - acc: 0.910 - ETA: 3s - loss: 0.2489 - acc: 0.910 - ETA: 3s - loss: 0.2488 - acc: 0.910 - ETA: 3s - loss: 0.2487 - acc: 0.910 - ETA: 3s - loss: 0.2485 - acc: 0.910 - ETA: 2s - loss: 0.2488 - acc: 0.910 - ETA: 2s - loss: 0.2487 - acc: 0.910 - ETA: 2s - loss: 0.2484 - acc: 0.910 - ETA: 2s - loss: 0.2483 - acc: 0.910 - ETA: 2s - loss: 0.2485 - acc: 0.910 - ETA: 2s - loss: 0.2484 - acc: 0.910 - ETA: 2s - loss: 0.2485 - acc: 0.910 - ETA: 2s - loss: 0.2483 - acc: 0.910 - ETA: 2s - loss: 0.2482 - acc: 0.910 - ETA: 2s - loss: 0.2481 - acc: 0.910 - ETA: 2s - loss: 0.2480 - acc: 0.910 - ETA: 2s - loss: 0.2479 - acc: 0.910 - ETA: 2s - loss: 0.2480 - acc: 0.910 - ETA: 2s - loss: 0.2478 - acc: 0.910 - ETA: 2s - loss: 0.2476 - acc: 0.910 - ETA: 2s - loss: 0.2476 - acc: 0.910 - ETA: 1s - loss: 0.2478 - acc: 0.910 - ETA: 1s - loss: 0.2476 - acc: 0.910 - ETA: 1s - loss: 0.2479 - acc: 0.910 - ETA: 1s - loss: 0.2480 - acc: 0.910 - ETA: 1s - loss: 0.2479 - acc: 0.910 - ETA: 1s - loss: 0.2478 - acc: 0.910 - ETA: 1s - loss: 0.2479 - acc: 0.910 - ETA: 1s - loss: 0.2480 - acc: 0.909 - ETA: 1s - loss: 0.2480 - acc: 0.909 - ETA: 1s - loss: 0.2480 - acc: 0.909 - ETA: 1s - loss: 0.2479 - acc: 0.909 - ETA: 1s - loss: 0.2481 - acc: 0.909 - ETA: 1s - loss: 0.2480 - acc: 0.909 - ETA: 1s - loss: 0.2480 - acc: 0.909 - ETA: 1s - loss: 0.2481 - acc: 0.909 - ETA: 1s - loss: 0.2480 - acc: 0.909 - ETA: 0s - loss: 0.2478 - acc: 0.910 - ETA: 0s - loss: 0.2476 - acc: 0.910 - ETA: 0s - loss: 0.2474 - acc: 0.910 - ETA: 0s - loss: 0.2473 - acc: 0.910 - ETA: 0s - loss: 0.2473 - acc: 0.910 - ETA: 0s - loss: 0.2470 - acc: 0.910 - ETA: 0s - loss: 0.2470 - acc: 0.910 - ETA: 0s - loss: 0.2470 - acc: 0.910 - ETA: 0s - loss: 0.2468 - acc: 0.910 - ETA: 0s - loss: 0.2469 - acc: 0.910 - ETA: 0s - loss: 0.2466 - acc: 0.910 - ETA: 0s - loss: 0.2465 - acc: 0.910 - ETA: 0s - loss: 0.2467 - acc: 0.910 - ETA: 0s - loss: 0.2466 - acc: 0.910 - ETA: 0s - loss: 0.2466 - acc: 0.910 - ETA: 0s - loss: 0.2467 - acc: 0.910 - 25s 999us/step - loss: 0.2467 - acc: 0.9103 - val_loss: 0.3046 - val_acc: 0.8727\n",
      "Epoch 4/5\n",
      "25000/25000 [==============================] - ETA: 23s - loss: 0.2226 - acc: 0.87 - ETA: 23s - loss: 0.2253 - acc: 0.89 - ETA: 23s - loss: 0.2275 - acc: 0.91 - ETA: 23s - loss: 0.2122 - acc: 0.91 - ETA: 23s - loss: 0.2063 - acc: 0.91 - ETA: 23s - loss: 0.2143 - acc: 0.90 - ETA: 23s - loss: 0.2088 - acc: 0.91 - ETA: 23s - loss: 0.2142 - acc: 0.91 - ETA: 23s - loss: 0.2187 - acc: 0.90 - ETA: 23s - loss: 0.2254 - acc: 0.90 - ETA: 23s - loss: 0.2205 - acc: 0.90 - ETA: 23s - loss: 0.2142 - acc: 0.91 - ETA: 23s - loss: 0.2078 - acc: 0.91 - ETA: 23s - loss: 0.2068 - acc: 0.91 - ETA: 23s - loss: 0.2044 - acc: 0.92 - ETA: 23s - loss: 0.2036 - acc: 0.92 - ETA: 23s - loss: 0.2027 - acc: 0.92 - ETA: 23s - loss: 0.2045 - acc: 0.92 - ETA: 22s - loss: 0.2049 - acc: 0.92 - ETA: 22s - loss: 0.2075 - acc: 0.91 - ETA: 22s - loss: 0.2099 - acc: 0.91 - ETA: 22s - loss: 0.2082 - acc: 0.91 - ETA: 22s - loss: 0.2092 - acc: 0.91 - ETA: 22s - loss: 0.2116 - acc: 0.91 - ETA: 22s - loss: 0.2096 - acc: 0.91 - ETA: 22s - loss: 0.2073 - acc: 0.91 - ETA: 22s - loss: 0.2065 - acc: 0.91 - ETA: 22s - loss: 0.2043 - acc: 0.92 - ETA: 22s - loss: 0.2043 - acc: 0.92 - ETA: 22s - loss: 0.2033 - acc: 0.92 - ETA: 22s - loss: 0.2019 - acc: 0.92 - ETA: 22s - loss: 0.2040 - acc: 0.92 - ETA: 22s - loss: 0.2030 - acc: 0.92 - ETA: 22s - loss: 0.2030 - acc: 0.92 - ETA: 22s - loss: 0.2023 - acc: 0.92 - ETA: 22s - loss: 0.2026 - acc: 0.92 - ETA: 22s - loss: 0.2028 - acc: 0.92 - ETA: 21s - loss: 0.2015 - acc: 0.92 - ETA: 21s - loss: 0.2014 - acc: 0.92 - ETA: 21s - loss: 0.2014 - acc: 0.92 - ETA: 21s - loss: 0.2003 - acc: 0.92 - ETA: 21s - loss: 0.2012 - acc: 0.92 - ETA: 21s - loss: 0.2027 - acc: 0.92 - ETA: 21s - loss: 0.2018 - acc: 0.92 - ETA: 21s - loss: 0.2024 - acc: 0.92 - ETA: 21s - loss: 0.2016 - acc: 0.92 - ETA: 21s - loss: 0.2012 - acc: 0.92 - ETA: 21s - loss: 0.2009 - acc: 0.92 - ETA: 21s - loss: 0.2018 - acc: 0.92 - ETA: 21s - loss: 0.2032 - acc: 0.92 - ETA: 21s - loss: 0.2028 - acc: 0.92 - ETA: 21s - loss: 0.2029 - acc: 0.92 - ETA: 20s - loss: 0.2079 - acc: 0.92 - ETA: 20s - loss: 0.2070 - acc: 0.92 - ETA: 20s - loss: 0.2085 - acc: 0.92 - ETA: 20s - loss: 0.2081 - acc: 0.92 - ETA: 20s - loss: 0.2086 - acc: 0.92 - ETA: 20s - loss: 0.2079 - acc: 0.92 - ETA: 20s - loss: 0.2075 - acc: 0.92 - ETA: 20s - loss: 0.2067 - acc: 0.92 - ETA: 20s - loss: 0.2061 - acc: 0.92 - ETA: 20s - loss: 0.2074 - acc: 0.92 - ETA: 20s - loss: 0.2068 - acc: 0.92 - ETA: 20s - loss: 0.2070 - acc: 0.92 - ETA: 20s - loss: 0.2080 - acc: 0.92 - ETA: 20s - loss: 0.2078 - acc: 0.92 - ETA: 20s - loss: 0.2074 - acc: 0.92 - ETA: 20s - loss: 0.2066 - acc: 0.92 - ETA: 19s - loss: 0.2088 - acc: 0.92 - ETA: 19s - loss: 0.2082 - acc: 0.92 - ETA: 19s - loss: 0.2079 - acc: 0.92 - ETA: 19s - loss: 0.2078 - acc: 0.92 - ETA: 19s - loss: 0.2075 - acc: 0.92 - ETA: 19s - loss: 0.2074 - acc: 0.92 - ETA: 19s - loss: 0.2071 - acc: 0.92 - ETA: 19s - loss: 0.2076 - acc: 0.92 - ETA: 19s - loss: 0.2074 - acc: 0.92 - ETA: 19s - loss: 0.2074 - acc: 0.92 - ETA: 19s - loss: 0.2073 - acc: 0.92 - ETA: 19s - loss: 0.2068 - acc: 0.92 - ETA: 19s - loss: 0.2076 - acc: 0.92 - ETA: 19s - loss: 0.2089 - acc: 0.92 - ETA: 19s - loss: 0.2090 - acc: 0.92 - ETA: 19s - loss: 0.2083 - acc: 0.92 - ETA: 18s - loss: 0.2082 - acc: 0.92 - ETA: 18s - loss: 0.2083 - acc: 0.92 - ETA: 18s - loss: 0.2083 - acc: 0.92 - ETA: 18s - loss: 0.2089 - acc: 0.92 - ETA: 18s - loss: 0.2089 - acc: 0.92 - ETA: 18s - loss: 0.2083 - acc: 0.92 - ETA: 18s - loss: 0.2084 - acc: 0.92 - ETA: 18s - loss: 0.2086 - acc: 0.92 - ETA: 18s - loss: 0.2079 - acc: 0.92 - ETA: 18s - loss: 0.2083 - acc: 0.92 - ETA: 18s - loss: 0.2086 - acc: 0.92 - ETA: 18s - loss: 0.2083 - acc: 0.92 - ETA: 18s - loss: 0.2079 - acc: 0.92 - ETA: 18s - loss: 0.2076 - acc: 0.92 - ETA: 18s - loss: 0.2071 - acc: 0.92 - ETA: 18s - loss: 0.2068 - acc: 0.92 - ETA: 18s - loss: 0.2064 - acc: 0.92 - ETA: 17s - loss: 0.2064 - acc: 0.92 - ETA: 17s - loss: 0.2064 - acc: 0.92 - ETA: 17s - loss: 0.2059 - acc: 0.92 - ETA: 17s - loss: 0.2055 - acc: 0.92 - ETA: 17s - loss: 0.2051 - acc: 0.92 - ETA: 17s - loss: 0.2060 - acc: 0.92 - ETA: 17s - loss: 0.2057 - acc: 0.92 - ETA: 17s - loss: 0.2063 - acc: 0.92 - ETA: 17s - loss: 0.2058 - acc: 0.92 - ETA: 17s - loss: 0.2054 - acc: 0.92 - ETA: 17s - loss: 0.2054 - acc: 0.92 - ETA: 17s - loss: 0.2047 - acc: 0.92 - ETA: 17s - loss: 0.2043 - acc: 0.92 - ETA: 17s - loss: 0.2040 - acc: 0.92 - ETA: 17s - loss: 0.2034 - acc: 0.92 - ETA: 17s - loss: 0.2030 - acc: 0.92 - ETA: 16s - loss: 0.2027 - acc: 0.92 - ETA: 16s - loss: 0.2027 - acc: 0.92 - ETA: 16s - loss: 0.2031 - acc: 0.92 - ETA: 16s - loss: 0.2028 - acc: 0.92 - ETA: 16s - loss: 0.2028 - acc: 0.92 - ETA: 16s - loss: 0.2027 - acc: 0.92 - ETA: 16s - loss: 0.2030 - acc: 0.92 - ETA: 16s - loss: 0.2025 - acc: 0.92 - ETA: 16s - loss: 0.2022 - acc: 0.92 - ETA: 16s - loss: 0.2021 - acc: 0.92 - ETA: 16s - loss: 0.2035 - acc: 0.92 - ETA: 16s - loss: 0.2035 - acc: 0.92 - ETA: 16s - loss: 0.2035 - acc: 0.92 - ETA: 16s - loss: 0.2031 - acc: 0.92 - ETA: 16s - loss: 0.2028 - acc: 0.92 - ETA: 16s - loss: 0.2034 - acc: 0.92 - ETA: 15s - loss: 0.2038 - acc: 0.92 - ETA: 15s - loss: 0.2035 - acc: 0.92 - ETA: 15s - loss: 0.2031 - acc: 0.92 - ETA: 15s - loss: 0.2027 - acc: 0.92 - ETA: 15s - loss: 0.2027 - acc: 0.92 - ETA: 15s - loss: 0.2026 - acc: 0.92 - ETA: 15s - loss: 0.2025 - acc: 0.92 - ETA: 15s - loss: 0.2022 - acc: 0.92 - ETA: 15s - loss: 0.2016 - acc: 0.92 - ETA: 15s - loss: 0.2015 - acc: 0.92 - ETA: 15s - loss: 0.2014 - acc: 0.92 - ETA: 15s - loss: 0.2006 - acc: 0.92 - ETA: 15s - loss: 0.2011 - acc: 0.92 - ETA: 15s - loss: 0.2005 - acc: 0.92 - ETA: 15s - loss: 0.2003 - acc: 0.93 - ETA: 15s - loss: 0.2000 - acc: 0.93 - ETA: 15s - loss: 0.1995 - acc: 0.93 - ETA: 14s - loss: 0.1997 - acc: 0.93 - ETA: 14s - loss: 0.1994 - acc: 0.93 - ETA: 14s - loss: 0.1992 - acc: 0.93 - ETA: 14s - loss: 0.1995 - acc: 0.93 - ETA: 14s - loss: 0.1995 - acc: 0.93 - ETA: 14s - loss: 0.1997 - acc: 0.93 - ETA: 14s - loss: 0.2003 - acc: 0.93 - ETA: 14s - loss: 0.2001 - acc: 0.93 - ETA: 14s - loss: 0.1994 - acc: 0.93 - ETA: 14s - loss: 0.1995 - acc: 0.93 - ETA: 14s - loss: 0.1995 - acc: 0.93 - ETA: 14s - loss: 0.1994 - acc: 0.93 - ETA: 14s - loss: 0.1992 - acc: 0.93 - ETA: 14s - loss: 0.1993 - acc: 0.93 - ETA: 14s - loss: 0.1994 - acc: 0.93 - ETA: 13s - loss: 0.1994 - acc: 0.93 - ETA: 13s - loss: 0.1992 - acc: 0.93 - ETA: 13s - loss: 0.1991 - acc: 0.93 - ETA: 13s - loss: 0.1987 - acc: 0.93 - ETA: 13s - loss: 0.1985 - acc: 0.93 - ETA: 13s - loss: 0.1990 - acc: 0.93 - ETA: 13s - loss: 0.1986 - acc: 0.93 - ETA: 13s - loss: 0.1989 - acc: 0.93 - ETA: 13s - loss: 0.1988 - acc: 0.93 - ETA: 13s - loss: 0.1984 - acc: 0.93 - ETA: 13s - loss: 0.1983 - acc: 0.93 - ETA: 13s - loss: 0.1988 - acc: 0.93 - ETA: 13s - loss: 0.1989 - acc: 0.93 - ETA: 13s - loss: 0.1989 - acc: 0.93 - ETA: 13s - loss: 0.1991 - acc: 0.93 - ETA: 13s - loss: 0.1988 - acc: 0.93 - ETA: 13s - loss: 0.1988 - acc: 0.92 - ETA: 12s - loss: 0.1988 - acc: 0.92 - ETA: 12s - loss: 0.1991 - acc: 0.92 - ETA: 12s - loss: 0.1989 - acc: 0.92 - ETA: 12s - loss: 0.1988 - acc: 0.92 - ETA: 12s - loss: 0.1986 - acc: 0.92 - ETA: 12s - loss: 0.1989 - acc: 0.92 - ETA: 12s - loss: 0.1991 - acc: 0.92 - ETA: 12s - loss: 0.1987 - acc: 0.92 - ETA: 12s - loss: 0.1987 - acc: 0.92 - ETA: 12s - loss: 0.1982 - acc: 0.93 - ETA: 12s - loss: 0.1987 - acc: 0.93 - ETA: 12s - loss: 0.1987 - acc: 0.93 - ETA: 12s - loss: 0.1984 - acc: 0.93 - ETA: 12s - loss: 0.1986 - acc: 0.93 - ETA: 12s - loss: 0.1986 - acc: 0.92 - ETA: 12s - loss: 0.1990 - acc: 0.92 - ETA: 11s - loss: 0.1992 - acc: 0.92 - ETA: 11s - loss: 0.1989 - acc: 0.92 - ETA: 11s - loss: 0.1992 - acc: 0.92 - ETA: 11s - loss: 0.1991 - acc: 0.92 - ETA: 11s - loss: 0.1989 - acc: 0.92 - ETA: 11s - loss: 0.1993 - acc: 0.92 - ETA: 11s - loss: 0.1997 - acc: 0.92 - ETA: 11s - loss: 0.1996 - acc: 0.92 - ETA: 11s - loss: 0.1995 - acc: 0.92 - ETA: 11s - loss: 0.1994 - acc: 0.92 - ETA: 11s - loss: 0.1996 - acc: 0.92 - ETA: 11s - loss: 0.1992 - acc: 0.92 - ETA: 11s - loss: 0.1990 - acc: 0.92 - ETA: 11s - loss: 0.1987 - acc: 0.92 - ETA: 11s - loss: 0.1985 - acc: 0.93 - ETA: 11s - loss: 0.1988 - acc: 0.93 - ETA: 10s - loss: 0.1986 - acc: 0.93 - ETA: 10s - loss: 0.1988 - acc: 0.93 - ETA: 10s - loss: 0.1988 - acc: 0.93 - ETA: 10s - loss: 0.1991 - acc: 0.93 - ETA: 10s - loss: 0.1992 - acc: 0.92 - ETA: 10s - loss: 0.1992 - acc: 0.92 - ETA: 10s - loss: 0.1991 - acc: 0.92 - ETA: 10s - loss: 0.1989 - acc: 0.92 - ETA: 10s - loss: 0.1987 - acc: 0.93 - ETA: 10s - loss: 0.1988 - acc: 0.92 - ETA: 10s - loss: 0.1990 - acc: 0.92 - ETA: 10s - loss: 0.1991 - acc: 0.92 - ETA: 10s - loss: 0.1989 - acc: 0.93 - ETA: 10s - loss: 0.1988 - acc: 0.93 - ETA: 10s - loss: 0.1989 - acc: 0.92 - ETA: 10s - loss: 0.1989 - acc: 0.92 - ETA: 9s - loss: 0.1991 - acc: 0.9297 - ETA: 9s - loss: 0.1996 - acc: 0.929 - ETA: 9s - loss: 0.1999 - acc: 0.929 - ETA: 9s - loss: 0.1997 - acc: 0.929 - ETA: 9s - loss: 0.1994 - acc: 0.929 - ETA: 9s - loss: 0.1995 - acc: 0.929 - ETA: 9s - loss: 0.1993 - acc: 0.929 - ETA: 9s - loss: 0.1991 - acc: 0.929 - ETA: 9s - loss: 0.1992 - acc: 0.930 - ETA: 9s - loss: 0.1992 - acc: 0.929 - ETA: 9s - loss: 0.1992 - acc: 0.929 - ETA: 9s - loss: 0.1989 - acc: 0.930 - ETA: 9s - loss: 0.1989 - acc: 0.930 - ETA: 9s - loss: 0.1989 - acc: 0.930 - ETA: 9s - loss: 0.1989 - acc: 0.930 - ETA: 9s - loss: 0.1989 - acc: 0.929 - ETA: 8s - loss: 0.1989 - acc: 0.929 - ETA: 8s - loss: 0.1990 - acc: 0.929 - ETA: 8s - loss: 0.1992 - acc: 0.929 - ETA: 8s - loss: 0.1991 - acc: 0.929 - ETA: 8s - loss: 0.1989 - acc: 0.929 - ETA: 8s - loss: 0.1988 - acc: 0.929 - ETA: 8s - loss: 0.1987 - acc: 0.929 - ETA: 8s - loss: 0.1986 - acc: 0.929 - ETA: 8s - loss: 0.1984 - acc: 0.929 - ETA: 8s - loss: 0.1984 - acc: 0.929 - ETA: 8s - loss: 0.1987 - acc: 0.929 - ETA: 8s - loss: 0.1985 - acc: 0.929 - ETA: 8s - loss: 0.1989 - acc: 0.929 - ETA: 8s - loss: 0.1988 - acc: 0.929 - ETA: 8s - loss: 0.1988 - acc: 0.929 - ETA: 8s - loss: 0.1986 - acc: 0.929 - ETA: 7s - loss: 0.1985 - acc: 0.929 - ETA: 7s - loss: 0.1981 - acc: 0.930 - ETA: 7s - loss: 0.1981 - acc: 0.930 - ETA: 7s - loss: 0.1980 - acc: 0.930 - ETA: 7s - loss: 0.1980 - acc: 0.930 - ETA: 7s - loss: 0.1980 - acc: 0.930 - ETA: 7s - loss: 0.1980 - acc: 0.930 - ETA: 7s - loss: 0.1978 - acc: 0.930 - ETA: 7s - loss: 0.1977 - acc: 0.930 - ETA: 7s - loss: 0.1973 - acc: 0.930 - ETA: 7s - loss: 0.1976 - acc: 0.930 - ETA: 7s - loss: 0.1974 - acc: 0.930 - ETA: 7s - loss: 0.1975 - acc: 0.930 - ETA: 7s - loss: 0.1975 - acc: 0.930 - ETA: 7s - loss: 0.1974 - acc: 0.930 - ETA: 7s - loss: 0.1974 - acc: 0.930 - ETA: 6s - loss: 0.1974 - acc: 0.930 - ETA: 6s - loss: 0.1975 - acc: 0.930 - ETA: 6s - loss: 0.1973 - acc: 0.930 - ETA: 6s - loss: 0.1971 - acc: 0.930 - ETA: 6s - loss: 0.1972 - acc: 0.930 - ETA: 6s - loss: 0.1969 - acc: 0.930 - ETA: 6s - loss: 0.1968 - acc: 0.930 - ETA: 6s - loss: 0.1967 - acc: 0.930 - ETA: 6s - loss: 0.1966 - acc: 0.930 - ETA: 6s - loss: 0.1965 - acc: 0.930 - ETA: 6s - loss: 0.1963 - acc: 0.930 - ETA: 6s - loss: 0.1963 - acc: 0.930 - ETA: 6s - loss: 0.1963 - acc: 0.930 - ETA: 6s - loss: 0.1964 - acc: 0.930 - ETA: 6s - loss: 0.1961 - acc: 0.930 - ETA: 6s - loss: 0.1962 - acc: 0.930 - ETA: 5s - loss: 0.1966 - acc: 0.930 - ETA: 5s - loss: 0.1964 - acc: 0.930 - ETA: 5s - loss: 0.1963 - acc: 0.930 - ETA: 5s - loss: 0.1961 - acc: 0.930 - ETA: 5s - loss: 0.1962 - acc: 0.930 - ETA: 5s - loss: 0.1961 - acc: 0.930 - ETA: 5s - loss: 0.1964 - acc: 0.930 - ETA: 5s - loss: 0.1963 - acc: 0.930 - ETA: 5s - loss: 0.1966 - acc: 0.930 - ETA: 5s - loss: 0.1965 - acc: 0.930 - ETA: 5s - loss: 0.1964 - acc: 0.930 - ETA: 5s - loss: 0.1964 - acc: 0.930 - ETA: 5s - loss: 0.1967 - acc: 0.930 - ETA: 5s - loss: 0.1965 - acc: 0.930 - ETA: 5s - loss: 0.1967 - acc: 0.930 - ETA: 5s - loss: 0.1966 - acc: 0.930 - ETA: 4s - loss: 0.1967 - acc: 0.930 - ETA: 4s - loss: 0.1969 - acc: 0.930 - ETA: 4s - loss: 0.1973 - acc: 0.929 - ETA: 4s - loss: 0.1972 - acc: 0.929 - ETA: 4s - loss: 0.1974 - acc: 0.929 - ETA: 4s - loss: 0.1973 - acc: 0.929 - ETA: 4s - loss: 0.1973 - acc: 0.929 - ETA: 4s - loss: 0.1974 - acc: 0.929 - ETA: 4s - loss: 0.1977 - acc: 0.929 - ETA: 4s - loss: 0.1976 - acc: 0.929 - ETA: 4s - loss: 0.1975 - acc: 0.929 - ETA: 4s - loss: 0.1976 - acc: 0.929 - ETA: 4s - loss: 0.1975 - acc: 0.929 - ETA: 4s - loss: 0.1977 - acc: 0.929 - ETA: 4s - loss: 0.1977 - acc: 0.929 - ETA: 4s - loss: 0.1976 - acc: 0.930 - ETA: 3s - loss: 0.1979 - acc: 0.929 - ETA: 3s - loss: 0.1979 - acc: 0.929 - ETA: 3s - loss: 0.1978 - acc: 0.930 - ETA: 3s - loss: 0.1974 - acc: 0.930 - ETA: 3s - loss: 0.1973 - acc: 0.930 - ETA: 3s - loss: 0.1973 - acc: 0.930 - ETA: 3s - loss: 0.1973 - acc: 0.930 - ETA: 3s - loss: 0.1973 - acc: 0.930 - ETA: 3s - loss: 0.1971 - acc: 0.930 - ETA: 3s - loss: 0.1970 - acc: 0.930 - ETA: 3s - loss: 0.1972 - acc: 0.930 - ETA: 3s - loss: 0.1972 - acc: 0.930 - ETA: 3s - loss: 0.1970 - acc: 0.930 - ETA: 3s - loss: 0.1968 - acc: 0.930 - ETA: 3s - loss: 0.1966 - acc: 0.930 - ETA: 3s - loss: 0.1966 - acc: 0.930 - ETA: 2s - loss: 0.1964 - acc: 0.930 - ETA: 2s - loss: 0.1966 - acc: 0.930 - ETA: 2s - loss: 0.1966 - acc: 0.930 - ETA: 2s - loss: 0.1965 - acc: 0.930 - ETA: 2s - loss: 0.1965 - acc: 0.930 - ETA: 2s - loss: 0.1966 - acc: 0.930 - ETA: 2s - loss: 0.1965 - acc: 0.930 - ETA: 2s - loss: 0.1963 - acc: 0.930 - ETA: 2s - loss: 0.1963 - acc: 0.930 - ETA: 2s - loss: 0.1963 - acc: 0.930 - ETA: 2s - loss: 0.1963 - acc: 0.930 - ETA: 2s - loss: 0.1962 - acc: 0.930 - ETA: 2s - loss: 0.1960 - acc: 0.930 - ETA: 2s - loss: 0.1958 - acc: 0.930 - ETA: 2s - loss: 0.1956 - acc: 0.930 - ETA: 2s - loss: 0.1958 - acc: 0.930 - ETA: 1s - loss: 0.1959 - acc: 0.930 - ETA: 1s - loss: 0.1958 - acc: 0.930 - ETA: 1s - loss: 0.1959 - acc: 0.930 - ETA: 1s - loss: 0.1958 - acc: 0.930 - ETA: 1s - loss: 0.1960 - acc: 0.930 - ETA: 1s - loss: 0.1960 - acc: 0.930 - ETA: 1s - loss: 0.1960 - acc: 0.930 - ETA: 1s - loss: 0.1961 - acc: 0.930 - ETA: 1s - loss: 0.1963 - acc: 0.930 - ETA: 1s - loss: 0.1962 - acc: 0.930 - ETA: 1s - loss: 0.1960 - acc: 0.930 - ETA: 1s - loss: 0.1959 - acc: 0.930 - ETA: 1s - loss: 0.1961 - acc: 0.930 - ETA: 1s - loss: 0.1961 - acc: 0.930 - ETA: 1s - loss: 0.1960 - acc: 0.930 - ETA: 1s - loss: 0.1960 - acc: 0.930 - ETA: 0s - loss: 0.1959 - acc: 0.930 - ETA: 0s - loss: 0.1958 - acc: 0.930 - ETA: 0s - loss: 0.1957 - acc: 0.930 - ETA: 0s - loss: 0.1957 - acc: 0.931 - ETA: 0s - loss: 0.1957 - acc: 0.930 - ETA: 0s - loss: 0.1955 - acc: 0.931 - ETA: 0s - loss: 0.1954 - acc: 0.931 - ETA: 0s - loss: 0.1953 - acc: 0.931 - ETA: 0s - loss: 0.1953 - acc: 0.931 - ETA: 0s - loss: 0.1951 - acc: 0.931 - ETA: 0s - loss: 0.1950 - acc: 0.931 - ETA: 0s - loss: 0.1952 - acc: 0.931 - ETA: 0s - loss: 0.1951 - acc: 0.931 - ETA: 0s - loss: 0.1951 - acc: 0.931 - ETA: 0s - loss: 0.1951 - acc: 0.931 - ETA: 0s - loss: 0.1954 - acc: 0.931 - ETA: 0s - loss: 0.1955 - acc: 0.931 - 25s 983us/step - loss: 0.1958 - acc: 0.9310 - val_loss: 0.2972 - val_acc: 0.8759\n",
      "Epoch 5/5\n",
      "25000/25000 [==============================] - ETA: 24s - loss: 0.1953 - acc: 0.90 - ETA: 23s - loss: 0.2084 - acc: 0.93 - ETA: 23s - loss: 0.1813 - acc: 0.94 - ETA: 24s - loss: 0.1901 - acc: 0.93 - ETA: 23s - loss: 0.2035 - acc: 0.91 - ETA: 23s - loss: 0.1931 - acc: 0.92 - ETA: 23s - loss: 0.1878 - acc: 0.92 - ETA: 23s - loss: 0.1942 - acc: 0.91 - ETA: 23s - loss: 0.1839 - acc: 0.92 - ETA: 23s - loss: 0.1767 - acc: 0.92 - ETA: 23s - loss: 0.1715 - acc: 0.93 - ETA: 23s - loss: 0.1698 - acc: 0.93 - ETA: 23s - loss: 0.1716 - acc: 0.93 - ETA: 23s - loss: 0.1725 - acc: 0.93 - ETA: 22s - loss: 0.1719 - acc: 0.93 - ETA: 22s - loss: 0.1698 - acc: 0.93 - ETA: 22s - loss: 0.1683 - acc: 0.93 - ETA: 22s - loss: 0.1658 - acc: 0.93 - ETA: 22s - loss: 0.1653 - acc: 0.93 - ETA: 22s - loss: 0.1626 - acc: 0.93 - ETA: 22s - loss: 0.1606 - acc: 0.94 - ETA: 22s - loss: 0.1650 - acc: 0.93 - ETA: 22s - loss: 0.1640 - acc: 0.93 - ETA: 22s - loss: 0.1616 - acc: 0.94 - ETA: 22s - loss: 0.1609 - acc: 0.93 - ETA: 22s - loss: 0.1629 - acc: 0.93 - ETA: 22s - loss: 0.1661 - acc: 0.93 - ETA: 22s - loss: 0.1631 - acc: 0.94 - ETA: 22s - loss: 0.1640 - acc: 0.94 - ETA: 22s - loss: 0.1644 - acc: 0.94 - ETA: 22s - loss: 0.1643 - acc: 0.94 - ETA: 22s - loss: 0.1637 - acc: 0.94 - ETA: 21s - loss: 0.1640 - acc: 0.94 - ETA: 21s - loss: 0.1637 - acc: 0.94 - ETA: 21s - loss: 0.1658 - acc: 0.94 - ETA: 21s - loss: 0.1650 - acc: 0.94 - ETA: 21s - loss: 0.1640 - acc: 0.94 - ETA: 21s - loss: 0.1621 - acc: 0.94 - ETA: 21s - loss: 0.1625 - acc: 0.94 - ETA: 21s - loss: 0.1634 - acc: 0.94 - ETA: 21s - loss: 0.1634 - acc: 0.94 - ETA: 21s - loss: 0.1632 - acc: 0.94 - ETA: 21s - loss: 0.1640 - acc: 0.94 - ETA: 21s - loss: 0.1632 - acc: 0.94 - ETA: 21s - loss: 0.1630 - acc: 0.94 - ETA: 21s - loss: 0.1628 - acc: 0.94 - ETA: 21s - loss: 0.1616 - acc: 0.94 - ETA: 21s - loss: 0.1618 - acc: 0.94 - ETA: 21s - loss: 0.1630 - acc: 0.94 - ETA: 20s - loss: 0.1630 - acc: 0.94 - ETA: 20s - loss: 0.1621 - acc: 0.94 - ETA: 20s - loss: 0.1609 - acc: 0.94 - ETA: 20s - loss: 0.1592 - acc: 0.94 - ETA: 20s - loss: 0.1599 - acc: 0.94 - ETA: 20s - loss: 0.1595 - acc: 0.94 - ETA: 20s - loss: 0.1593 - acc: 0.94 - ETA: 20s - loss: 0.1614 - acc: 0.94 - ETA: 20s - loss: 0.1600 - acc: 0.94 - ETA: 20s - loss: 0.1588 - acc: 0.94 - ETA: 20s - loss: 0.1599 - acc: 0.94 - ETA: 20s - loss: 0.1588 - acc: 0.94 - ETA: 20s - loss: 0.1588 - acc: 0.94 - ETA: 20s - loss: 0.1587 - acc: 0.94 - ETA: 20s - loss: 0.1588 - acc: 0.94 - ETA: 20s - loss: 0.1590 - acc: 0.94 - ETA: 20s - loss: 0.1597 - acc: 0.94 - ETA: 20s - loss: 0.1597 - acc: 0.94 - ETA: 19s - loss: 0.1597 - acc: 0.94 - ETA: 19s - loss: 0.1602 - acc: 0.94 - ETA: 19s - loss: 0.1599 - acc: 0.94 - ETA: 19s - loss: 0.1605 - acc: 0.94 - ETA: 19s - loss: 0.1601 - acc: 0.94 - ETA: 19s - loss: 0.1602 - acc: 0.94 - ETA: 19s - loss: 0.1597 - acc: 0.94 - ETA: 19s - loss: 0.1605 - acc: 0.94 - ETA: 19s - loss: 0.1600 - acc: 0.94 - ETA: 19s - loss: 0.1600 - acc: 0.94 - ETA: 19s - loss: 0.1600 - acc: 0.94 - ETA: 19s - loss: 0.1592 - acc: 0.94 - ETA: 19s - loss: 0.1591 - acc: 0.94 - ETA: 19s - loss: 0.1593 - acc: 0.94 - ETA: 19s - loss: 0.1591 - acc: 0.94 - ETA: 19s - loss: 0.1591 - acc: 0.94 - ETA: 18s - loss: 0.1587 - acc: 0.94 - ETA: 18s - loss: 0.1586 - acc: 0.94 - ETA: 18s - loss: 0.1578 - acc: 0.94 - ETA: 18s - loss: 0.1579 - acc: 0.94 - ETA: 18s - loss: 0.1573 - acc: 0.94 - ETA: 18s - loss: 0.1570 - acc: 0.94 - ETA: 18s - loss: 0.1568 - acc: 0.94 - ETA: 18s - loss: 0.1570 - acc: 0.94 - ETA: 18s - loss: 0.1571 - acc: 0.94 - ETA: 18s - loss: 0.1566 - acc: 0.94 - ETA: 18s - loss: 0.1570 - acc: 0.94 - ETA: 18s - loss: 0.1572 - acc: 0.94 - ETA: 18s - loss: 0.1571 - acc: 0.94 - ETA: 18s - loss: 0.1569 - acc: 0.94 - ETA: 18s - loss: 0.1566 - acc: 0.94 - ETA: 18s - loss: 0.1564 - acc: 0.94 - ETA: 17s - loss: 0.1560 - acc: 0.94 - ETA: 17s - loss: 0.1565 - acc: 0.94 - ETA: 17s - loss: 0.1568 - acc: 0.94 - ETA: 17s - loss: 0.1569 - acc: 0.94 - ETA: 17s - loss: 0.1567 - acc: 0.94 - ETA: 17s - loss: 0.1566 - acc: 0.94 - ETA: 17s - loss: 0.1576 - acc: 0.94 - ETA: 17s - loss: 0.1581 - acc: 0.94 - ETA: 17s - loss: 0.1581 - acc: 0.94 - ETA: 17s - loss: 0.1576 - acc: 0.94 - ETA: 17s - loss: 0.1580 - acc: 0.94 - ETA: 17s - loss: 0.1583 - acc: 0.94 - ETA: 17s - loss: 0.1581 - acc: 0.94 - ETA: 17s - loss: 0.1584 - acc: 0.94 - ETA: 17s - loss: 0.1582 - acc: 0.94 - ETA: 17s - loss: 0.1580 - acc: 0.94 - ETA: 17s - loss: 0.1578 - acc: 0.94 - ETA: 16s - loss: 0.1574 - acc: 0.94 - ETA: 16s - loss: 0.1571 - acc: 0.94 - ETA: 16s - loss: 0.1570 - acc: 0.94 - ETA: 16s - loss: 0.1575 - acc: 0.94 - ETA: 16s - loss: 0.1572 - acc: 0.94 - ETA: 16s - loss: 0.1581 - acc: 0.94 - ETA: 16s - loss: 0.1591 - acc: 0.94 - ETA: 16s - loss: 0.1596 - acc: 0.94 - ETA: 16s - loss: 0.1604 - acc: 0.94 - ETA: 16s - loss: 0.1601 - acc: 0.94 - ETA: 16s - loss: 0.1608 - acc: 0.94 - ETA: 16s - loss: 0.1608 - acc: 0.94 - ETA: 16s - loss: 0.1609 - acc: 0.94 - ETA: 16s - loss: 0.1613 - acc: 0.94 - ETA: 16s - loss: 0.1616 - acc: 0.94 - ETA: 16s - loss: 0.1613 - acc: 0.94 - ETA: 15s - loss: 0.1614 - acc: 0.94 - ETA: 15s - loss: 0.1613 - acc: 0.94 - ETA: 15s - loss: 0.1611 - acc: 0.94 - ETA: 15s - loss: 0.1612 - acc: 0.94 - ETA: 15s - loss: 0.1613 - acc: 0.94 - ETA: 15s - loss: 0.1614 - acc: 0.94 - ETA: 15s - loss: 0.1626 - acc: 0.94 - ETA: 15s - loss: 0.1623 - acc: 0.94 - ETA: 15s - loss: 0.1624 - acc: 0.94 - ETA: 15s - loss: 0.1627 - acc: 0.94 - ETA: 15s - loss: 0.1622 - acc: 0.94 - ETA: 15s - loss: 0.1627 - acc: 0.94 - ETA: 15s - loss: 0.1634 - acc: 0.94 - ETA: 15s - loss: 0.1630 - acc: 0.94 - ETA: 15s - loss: 0.1629 - acc: 0.94 - ETA: 15s - loss: 0.1631 - acc: 0.94 - ETA: 14s - loss: 0.1629 - acc: 0.94 - ETA: 14s - loss: 0.1637 - acc: 0.94 - ETA: 14s - loss: 0.1639 - acc: 0.94 - ETA: 14s - loss: 0.1640 - acc: 0.94 - ETA: 14s - loss: 0.1638 - acc: 0.94 - ETA: 14s - loss: 0.1634 - acc: 0.94 - ETA: 14s - loss: 0.1635 - acc: 0.94 - ETA: 14s - loss: 0.1632 - acc: 0.94 - ETA: 14s - loss: 0.1630 - acc: 0.94 - ETA: 14s - loss: 0.1631 - acc: 0.94 - ETA: 14s - loss: 0.1633 - acc: 0.94 - ETA: 14s - loss: 0.1633 - acc: 0.94 - ETA: 14s - loss: 0.1633 - acc: 0.94 - ETA: 14s - loss: 0.1634 - acc: 0.94 - ETA: 14s - loss: 0.1647 - acc: 0.94 - ETA: 14s - loss: 0.1644 - acc: 0.94 - ETA: 13s - loss: 0.1641 - acc: 0.94 - ETA: 13s - loss: 0.1643 - acc: 0.94 - ETA: 13s - loss: 0.1643 - acc: 0.94 - ETA: 13s - loss: 0.1645 - acc: 0.94 - ETA: 13s - loss: 0.1649 - acc: 0.94 - ETA: 13s - loss: 0.1649 - acc: 0.94 - ETA: 13s - loss: 0.1650 - acc: 0.94 - ETA: 13s - loss: 0.1649 - acc: 0.94 - ETA: 13s - loss: 0.1651 - acc: 0.94 - ETA: 13s - loss: 0.1651 - acc: 0.94 - ETA: 13s - loss: 0.1649 - acc: 0.94 - ETA: 13s - loss: 0.1648 - acc: 0.94 - ETA: 13s - loss: 0.1646 - acc: 0.94 - ETA: 13s - loss: 0.1642 - acc: 0.94 - ETA: 13s - loss: 0.1645 - acc: 0.94 - ETA: 13s - loss: 0.1646 - acc: 0.94 - ETA: 12s - loss: 0.1646 - acc: 0.94 - ETA: 12s - loss: 0.1645 - acc: 0.94 - ETA: 12s - loss: 0.1643 - acc: 0.94 - ETA: 12s - loss: 0.1644 - acc: 0.94 - ETA: 12s - loss: 0.1642 - acc: 0.94 - ETA: 12s - loss: 0.1645 - acc: 0.94 - ETA: 12s - loss: 0.1645 - acc: 0.94 - ETA: 12s - loss: 0.1645 - acc: 0.94 - ETA: 12s - loss: 0.1646 - acc: 0.94 - ETA: 12s - loss: 0.1643 - acc: 0.94 - ETA: 12s - loss: 0.1643 - acc: 0.94 - ETA: 12s - loss: 0.1645 - acc: 0.94 - ETA: 12s - loss: 0.1641 - acc: 0.94 - ETA: 12s - loss: 0.1641 - acc: 0.94 - ETA: 12s - loss: 0.1638 - acc: 0.94 - ETA: 12s - loss: 0.1644 - acc: 0.94 - ETA: 11s - loss: 0.1643 - acc: 0.94 - ETA: 11s - loss: 0.1641 - acc: 0.94 - ETA: 11s - loss: 0.1639 - acc: 0.94 - ETA: 11s - loss: 0.1638 - acc: 0.94 - ETA: 11s - loss: 0.1637 - acc: 0.94 - ETA: 11s - loss: 0.1638 - acc: 0.94 - ETA: 11s - loss: 0.1636 - acc: 0.94 - ETA: 11s - loss: 0.1636 - acc: 0.94 - ETA: 11s - loss: 0.1638 - acc: 0.94 - ETA: 11s - loss: 0.1637 - acc: 0.94 - ETA: 11s - loss: 0.1636 - acc: 0.94 - ETA: 11s - loss: 0.1633 - acc: 0.94 - ETA: 11s - loss: 0.1631 - acc: 0.94 - ETA: 11s - loss: 0.1628 - acc: 0.94 - ETA: 11s - loss: 0.1627 - acc: 0.94 - ETA: 11s - loss: 0.1629 - acc: 0.94 - ETA: 10s - loss: 0.1626 - acc: 0.94 - ETA: 10s - loss: 0.1624 - acc: 0.94 - ETA: 10s - loss: 0.1629 - acc: 0.94 - ETA: 10s - loss: 0.1627 - acc: 0.94 - ETA: 10s - loss: 0.1629 - acc: 0.94 - ETA: 10s - loss: 0.1627 - acc: 0.94 - ETA: 10s - loss: 0.1626 - acc: 0.94 - ETA: 10s - loss: 0.1623 - acc: 0.94 - ETA: 10s - loss: 0.1622 - acc: 0.94 - ETA: 10s - loss: 0.1622 - acc: 0.94 - ETA: 10s - loss: 0.1622 - acc: 0.94 - ETA: 10s - loss: 0.1619 - acc: 0.94 - ETA: 10s - loss: 0.1614 - acc: 0.94 - ETA: 10s - loss: 0.1611 - acc: 0.94 - ETA: 10s - loss: 0.1611 - acc: 0.94 - ETA: 10s - loss: 0.1609 - acc: 0.94 - ETA: 10s - loss: 0.1608 - acc: 0.94 - ETA: 9s - loss: 0.1609 - acc: 0.9455 - ETA: 9s - loss: 0.1605 - acc: 0.945 - ETA: 9s - loss: 0.1604 - acc: 0.945 - ETA: 9s - loss: 0.1602 - acc: 0.945 - ETA: 9s - loss: 0.1603 - acc: 0.945 - ETA: 9s - loss: 0.1603 - acc: 0.945 - ETA: 9s - loss: 0.1603 - acc: 0.945 - ETA: 9s - loss: 0.1605 - acc: 0.945 - ETA: 9s - loss: 0.1604 - acc: 0.945 - ETA: 9s - loss: 0.1604 - acc: 0.945 - ETA: 9s - loss: 0.1607 - acc: 0.945 - ETA: 9s - loss: 0.1607 - acc: 0.945 - ETA: 9s - loss: 0.1609 - acc: 0.945 - ETA: 9s - loss: 0.1607 - acc: 0.945 - ETA: 9s - loss: 0.1607 - acc: 0.945 - ETA: 9s - loss: 0.1607 - acc: 0.945 - ETA: 8s - loss: 0.1605 - acc: 0.946 - ETA: 8s - loss: 0.1605 - acc: 0.945 - ETA: 8s - loss: 0.1603 - acc: 0.946 - ETA: 8s - loss: 0.1602 - acc: 0.946 - ETA: 8s - loss: 0.1606 - acc: 0.946 - ETA: 8s - loss: 0.1605 - acc: 0.946 - ETA: 8s - loss: 0.1606 - acc: 0.946 - ETA: 8s - loss: 0.1605 - acc: 0.946 - ETA: 8s - loss: 0.1603 - acc: 0.946 - ETA: 8s - loss: 0.1602 - acc: 0.946 - ETA: 8s - loss: 0.1603 - acc: 0.946 - ETA: 8s - loss: 0.1600 - acc: 0.946 - ETA: 8s - loss: 0.1601 - acc: 0.946 - ETA: 8s - loss: 0.1602 - acc: 0.946 - ETA: 8s - loss: 0.1601 - acc: 0.946 - ETA: 8s - loss: 0.1598 - acc: 0.946 - ETA: 7s - loss: 0.1596 - acc: 0.946 - ETA: 7s - loss: 0.1595 - acc: 0.946 - ETA: 7s - loss: 0.1593 - acc: 0.946 - ETA: 7s - loss: 0.1591 - acc: 0.947 - ETA: 7s - loss: 0.1590 - acc: 0.947 - ETA: 7s - loss: 0.1591 - acc: 0.946 - ETA: 7s - loss: 0.1591 - acc: 0.946 - ETA: 7s - loss: 0.1592 - acc: 0.946 - ETA: 7s - loss: 0.1596 - acc: 0.946 - ETA: 7s - loss: 0.1595 - acc: 0.946 - ETA: 7s - loss: 0.1593 - acc: 0.946 - ETA: 7s - loss: 0.1592 - acc: 0.946 - ETA: 7s - loss: 0.1591 - acc: 0.946 - ETA: 7s - loss: 0.1589 - acc: 0.946 - ETA: 7s - loss: 0.1586 - acc: 0.946 - ETA: 7s - loss: 0.1586 - acc: 0.946 - ETA: 7s - loss: 0.1585 - acc: 0.947 - ETA: 6s - loss: 0.1584 - acc: 0.947 - ETA: 6s - loss: 0.1582 - acc: 0.947 - ETA: 6s - loss: 0.1580 - acc: 0.947 - ETA: 6s - loss: 0.1578 - acc: 0.947 - ETA: 6s - loss: 0.1577 - acc: 0.947 - ETA: 6s - loss: 0.1576 - acc: 0.947 - ETA: 6s - loss: 0.1576 - acc: 0.947 - ETA: 6s - loss: 0.1574 - acc: 0.947 - ETA: 6s - loss: 0.1572 - acc: 0.947 - ETA: 6s - loss: 0.1576 - acc: 0.947 - ETA: 6s - loss: 0.1574 - acc: 0.947 - ETA: 6s - loss: 0.1576 - acc: 0.947 - ETA: 6s - loss: 0.1577 - acc: 0.947 - ETA: 6s - loss: 0.1578 - acc: 0.947 - ETA: 6s - loss: 0.1579 - acc: 0.947 - ETA: 6s - loss: 0.1579 - acc: 0.947 - ETA: 5s - loss: 0.1579 - acc: 0.947 - ETA: 5s - loss: 0.1577 - acc: 0.947 - ETA: 5s - loss: 0.1579 - acc: 0.947 - ETA: 5s - loss: 0.1577 - acc: 0.947 - ETA: 5s - loss: 0.1578 - acc: 0.947 - ETA: 5s - loss: 0.1581 - acc: 0.947 - ETA: 5s - loss: 0.1585 - acc: 0.947 - ETA: 5s - loss: 0.1586 - acc: 0.947 - ETA: 5s - loss: 0.1587 - acc: 0.947 - ETA: 5s - loss: 0.1589 - acc: 0.946 - ETA: 5s - loss: 0.1588 - acc: 0.946 - ETA: 5s - loss: 0.1587 - acc: 0.946 - ETA: 5s - loss: 0.1589 - acc: 0.947 - ETA: 5s - loss: 0.1588 - acc: 0.947 - ETA: 5s - loss: 0.1588 - acc: 0.947 - ETA: 5s - loss: 0.1586 - acc: 0.947 - ETA: 4s - loss: 0.1585 - acc: 0.947 - ETA: 4s - loss: 0.1585 - acc: 0.947 - ETA: 4s - loss: 0.1586 - acc: 0.947 - ETA: 4s - loss: 0.1585 - acc: 0.947 - ETA: 4s - loss: 0.1585 - acc: 0.947 - ETA: 4s - loss: 0.1585 - acc: 0.947 - ETA: 4s - loss: 0.1585 - acc: 0.947 - ETA: 4s - loss: 0.1584 - acc: 0.947 - ETA: 4s - loss: 0.1586 - acc: 0.947 - ETA: 4s - loss: 0.1583 - acc: 0.947 - ETA: 4s - loss: 0.1582 - acc: 0.947 - ETA: 4s - loss: 0.1581 - acc: 0.947 - ETA: 4s - loss: 0.1581 - acc: 0.947 - ETA: 4s - loss: 0.1583 - acc: 0.947 - ETA: 4s - loss: 0.1585 - acc: 0.947 - ETA: 4s - loss: 0.1586 - acc: 0.947 - ETA: 3s - loss: 0.1586 - acc: 0.947 - ETA: 3s - loss: 0.1585 - acc: 0.947 - ETA: 3s - loss: 0.1586 - acc: 0.947 - ETA: 3s - loss: 0.1586 - acc: 0.947 - ETA: 3s - loss: 0.1586 - acc: 0.947 - ETA: 3s - loss: 0.1585 - acc: 0.947 - ETA: 3s - loss: 0.1584 - acc: 0.947 - ETA: 3s - loss: 0.1585 - acc: 0.947 - ETA: 3s - loss: 0.1583 - acc: 0.947 - ETA: 3s - loss: 0.1584 - acc: 0.947 - ETA: 3s - loss: 0.1583 - acc: 0.947 - ETA: 3s - loss: 0.1582 - acc: 0.947 - ETA: 3s - loss: 0.1582 - acc: 0.947 - ETA: 3s - loss: 0.1583 - acc: 0.947 - ETA: 3s - loss: 0.1582 - acc: 0.947 - ETA: 3s - loss: 0.1582 - acc: 0.947 - ETA: 2s - loss: 0.1581 - acc: 0.947 - ETA: 2s - loss: 0.1581 - acc: 0.947 - ETA: 2s - loss: 0.1578 - acc: 0.947 - ETA: 2s - loss: 0.1579 - acc: 0.947 - ETA: 2s - loss: 0.1581 - acc: 0.947 - ETA: 2s - loss: 0.1580 - acc: 0.947 - ETA: 2s - loss: 0.1578 - acc: 0.947 - ETA: 2s - loss: 0.1578 - acc: 0.947 - ETA: 2s - loss: 0.1576 - acc: 0.947 - ETA: 2s - loss: 0.1575 - acc: 0.947 - ETA: 2s - loss: 0.1573 - acc: 0.947 - ETA: 2s - loss: 0.1574 - acc: 0.947 - ETA: 2s - loss: 0.1573 - acc: 0.947 - ETA: 2s - loss: 0.1573 - acc: 0.947 - ETA: 2s - loss: 0.1575 - acc: 0.947 - ETA: 2s - loss: 0.1573 - acc: 0.947 - ETA: 1s - loss: 0.1573 - acc: 0.947 - ETA: 1s - loss: 0.1575 - acc: 0.947 - ETA: 1s - loss: 0.1578 - acc: 0.947 - ETA: 1s - loss: 0.1577 - acc: 0.947 - ETA: 1s - loss: 0.1578 - acc: 0.947 - ETA: 1s - loss: 0.1578 - acc: 0.947 - ETA: 1s - loss: 0.1578 - acc: 0.947 - ETA: 1s - loss: 0.1578 - acc: 0.947 - ETA: 1s - loss: 0.1579 - acc: 0.947 - ETA: 1s - loss: 0.1578 - acc: 0.947 - ETA: 1s - loss: 0.1578 - acc: 0.947 - ETA: 1s - loss: 0.1577 - acc: 0.947 - ETA: 1s - loss: 0.1580 - acc: 0.947 - ETA: 1s - loss: 0.1581 - acc: 0.947 - ETA: 1s - loss: 0.1582 - acc: 0.947 - ETA: 1s - loss: 0.1581 - acc: 0.947 - ETA: 0s - loss: 0.1580 - acc: 0.947 - ETA: 0s - loss: 0.1580 - acc: 0.947 - ETA: 0s - loss: 0.1579 - acc: 0.947 - ETA: 0s - loss: 0.1578 - acc: 0.947 - ETA: 0s - loss: 0.1578 - acc: 0.947 - ETA: 0s - loss: 0.1579 - acc: 0.947 - ETA: 0s - loss: 0.1578 - acc: 0.947 - ETA: 0s - loss: 0.1579 - acc: 0.947 - ETA: 0s - loss: 0.1578 - acc: 0.947 - ETA: 0s - loss: 0.1577 - acc: 0.947 - ETA: 0s - loss: 0.1576 - acc: 0.947 - ETA: 0s - loss: 0.1576 - acc: 0.947 - ETA: 0s - loss: 0.1574 - acc: 0.947 - ETA: 0s - loss: 0.1572 - acc: 0.947 - ETA: 0s - loss: 0.1571 - acc: 0.948 - ETA: 0s - loss: 0.1571 - acc: 0.948 - ETA: 0s - loss: 0.1571 - acc: 0.948 - 25s 982us/step - loss: 0.1571 - acc: 0.9481 - val_loss: 0.3018 - val_acc: 0.8732\n"
     ]
    },
    {
     "data": {
      "text/plain": [
       "<keras.callbacks.History at 0x1a48ab27848>"
      ]
     },
     "execution_count": 42,
     "metadata": {},
     "output_type": "execute_result"
    }
   ],
   "source": [
    "model.fit(x_train, y_train,\n",
    "          batch_size=batch_size,\n",
    "          epochs=epochs,\n",
    "          validation_data=(x_test, y_test))"
   ]
  },
  {
   "cell_type": "code",
   "execution_count": 43,
   "metadata": {},
   "outputs": [],
   "source": [
    "model.save('FastText_Unigram_150len80kfeatures.h5')"
   ]
  },
  {
   "cell_type": "code",
   "execution_count": 44,
   "metadata": {},
   "outputs": [
    {
     "name": "stdout",
     "output_type": "stream",
     "text": [
      "_________________________________________________________________\n",
      "Layer (type)                 Output Shape              Param #   \n",
      "=================================================================\n",
      "embedding_2 (Embedding)      (None, 150, 50)           4000000   \n",
      "_________________________________________________________________\n",
      "global_average_pooling1d_2 ( (None, 50)                0         \n",
      "_________________________________________________________________\n",
      "dense_2 (Dense)              (None, 1)                 51        \n",
      "=================================================================\n",
      "Total params: 4,000,051\n",
      "Trainable params: 4,000,051\n",
      "Non-trainable params: 0\n",
      "_________________________________________________________________\n"
     ]
    }
   ],
   "source": [
    "from keras.models import load_model\n",
    "from keras.datasets import imdb\n",
    "from keras.preprocessing import sequence\n",
    "import spacy \n",
    "import numpy as np\n",
    "\n",
    "nlp = spacy.load('en_core_web_sm')\n",
    "\n",
    "# Set parameters:\n",
    "# ngram_range = 2 will add bi-grams features\n",
    "ngram_range = 1\n",
    "max_features = 80000\n",
    "maxlen = 150\n",
    "batch_size = 32\n",
    "embedding_dims = 50\n",
    "epochs = 5\n",
    "\n",
    "# load model\n",
    "model = load_model('FastText_Unigram_150len80kfeatures.h5')\n",
    "# summarize model.\n",
    "model.summary()"
   ]
  },
  {
   "cell_type": "code",
   "execution_count": 45,
   "metadata": {},
   "outputs": [],
   "source": [
    "word_index = imdb.get_word_index()"
   ]
  },
  {
   "cell_type": "code",
   "execution_count": 99,
   "metadata": {},
   "outputs": [
    {
     "name": "stdout",
     "output_type": "stream",
     "text": [
      "[11, 6, 3, 63, 651, 0, 0, 10, 241, 35, 651, 386, 9844, 424, 477, 0]\n"
     ]
    }
   ],
   "source": [
    "doc = \"This is a really happy tweet! I am so happy wonderful marvellous absolutely amazing!\" \n",
    "\n",
    "nlp_doc = nlp(doc)\n",
    "indices_list = []\n",
    "for token in nlp_doc:\n",
    "    token_text = token.text.lower()\n",
    "    indices_list.append(word_index[token_text] if token_text in word_index else 0)\n",
    "\n",
    "print(indices_list)"
   ]
  },
  {
   "cell_type": "code",
   "execution_count": 100,
   "metadata": {},
   "outputs": [
    {
     "data": {
      "text/plain": [
       "[11, 6, 3, 63, 651, 0, 0, 10, 241, 35, 651, 386, 9844, 424, 477, 0]"
      ]
     },
     "execution_count": 100,
     "metadata": {},
     "output_type": "execute_result"
    }
   ],
   "source": [
    "def sentence_to_indices(sentence):\n",
    "    nlp_doc = nlp(sentence)\n",
    "    indices_list = []\n",
    "    for token in nlp_doc:\n",
    "        token_text = token.text.lower()\n",
    "        indices_list.append(word_index[token_text] if token_text in word_index else 0)\n",
    "    return(indices_list)\n",
    "x_sample = sentence_to_indices(doc)\n",
    "x_sample"
   ]
  },
  {
   "cell_type": "code",
   "execution_count": 101,
   "metadata": {},
   "outputs": [
    {
     "data": {
      "text/plain": [
       "array([[  11,    6,    3,   63,  651,    0,    0,   10,  241,   35,  651,\n",
       "         386, 9844,  424,  477,    0,    0,    0,    0,    0,    0,    0,\n",
       "           0,    0,    0,    0,    0,    0,    0,    0,    0,    0,    0,\n",
       "           0,    0,    0,    0,    0,    0,    0,    0,    0,    0,    0,\n",
       "           0,    0,    0,    0,    0,    0,    0,    0,    0,    0,    0,\n",
       "           0,    0,    0,    0,    0,    0,    0,    0,    0,    0,    0,\n",
       "           0,    0,    0,    0,    0,    0,    0,    0,    0,    0,    0,\n",
       "           0,    0,    0,    0,    0,    0,    0,    0,    0,    0,    0,\n",
       "           0,    0,    0,    0,    0,    0,    0,    0,    0,    0,    0,\n",
       "           0,    0,    0,    0,    0,    0,    0,    0,    0,    0,    0,\n",
       "           0,    0,    0,    0,    0,    0,    0,    0,    0,    0,    0,\n",
       "           0,    0,    0,    0,    0,    0,    0,    0,    0,    0,    0,\n",
       "           0,    0,    0,    0,    0,    0,    0,    0,    0,    0,    0,\n",
       "           0,    0,    0,    0,    0,    0,    0]])"
      ]
     },
     "execution_count": 101,
     "metadata": {},
     "output_type": "execute_result"
    }
   ],
   "source": [
    "test_sample = sequence.pad_sequences([x_sample], maxlen = maxlen, padding = 'post')\n",
    "test_sample"
   ]
  },
  {
   "cell_type": "code",
   "execution_count": 102,
   "metadata": {},
   "outputs": [
    {
     "data": {
      "text/plain": [
       "array([[0.6108945]], dtype=float32)"
      ]
     },
     "execution_count": 102,
     "metadata": {},
     "output_type": "execute_result"
    }
   ],
   "source": [
    "model.predict(test_sample)"
   ]
  },
  {
   "cell_type": "code",
   "execution_count": 103,
   "metadata": {},
   "outputs": [
    {
     "data": {
      "text/plain": [
       "88584"
      ]
     },
     "execution_count": 103,
     "metadata": {},
     "output_type": "execute_result"
    }
   ],
   "source": [
    "len(word_index)"
   ]
  },
  {
   "cell_type": "code",
   "execution_count": 104,
   "metadata": {},
   "outputs": [],
   "source": [
    "def fast_text_sentiment(prediction):\n",
    "    score = (prediction - 0.5) * 2\n",
    "    return score "
   ]
  },
  {
   "cell_type": "code",
   "execution_count": 105,
   "metadata": {},
   "outputs": [
    {
     "name": "stdout",
     "output_type": "stream",
     "text": [
      "[[0.221789]]\n"
     ]
    }
   ],
   "source": [
    "print(fast_text_sentiment(model.predict(test_sample)))"
   ]
  }
 ],
 "metadata": {
  "file_extension": ".py",
  "kernelspec": {
   "display_name": "Python 3",
   "language": "python",
   "name": "python3"
  },
  "language_info": {
   "codemirror_mode": {
    "name": "ipython",
    "version": 3
   },
   "file_extension": ".py",
   "mimetype": "text/x-python",
   "name": "python",
   "nbconvert_exporter": "python",
   "pygments_lexer": "ipython3",
   "version": "3.7.4"
  },
  "mimetype": "text/x-python",
  "name": "python",
  "npconvert_exporter": "python",
  "pygments_lexer": "ipython3",
  "version": 3
 },
 "nbformat": 4,
 "nbformat_minor": 4
}
